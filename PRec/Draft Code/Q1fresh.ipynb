{
 "cells": [
  {
   "cell_type": "markdown",
   "metadata": {},
   "source": [
    "# Eigenfaces a"
   ]
  },
  {
   "cell_type": "code",
   "execution_count": 1,
   "metadata": {},
   "outputs": [
    {
     "name": "stdout",
     "output_type": "stream",
     "text": [
      "[[106 130 191 ...  70 183  77]\n",
      " [103 129 185 ...  62 250  72]\n",
      " [103 130 174 ...  83 163  68]\n",
      " ...\n",
      " [ 37  40  22 ...  87 102  93]\n",
      " [ 36  36  19 ...  89  95 103]\n",
      " [ 41  35  17 ...  94 106 110]]\n",
      "(2576, 520)\n",
      "[[ 1  1  1  1  1  1  1  1  1  1  2  2  2  2  2  2  2  2  2  2  3  3  3  3\n",
      "   3  3  3  3  3  3  4  4  4  4  4  4  4  4  4  4  5  5  5  5  5  5  5  5\n",
      "   5  5  6  6  6  6  6  6  6  6  6  6  7  7  7  7  7  7  7  7  7  7  8  8\n",
      "   8  8  8  8  8  8  8  8  9  9  9  9  9  9  9  9  9  9 10 10 10 10 10 10\n",
      "  10 10 10 10 11 11 11 11 11 11 11 11 11 11 12 12 12 12 12 12 12 12 12 12\n",
      "  13 13 13 13 13 13 13 13 13 13 14 14 14 14 14 14 14 14 14 14 15 15 15 15\n",
      "  15 15 15 15 15 15 16 16 16 16 16 16 16 16 16 16 17 17 17 17 17 17 17 17\n",
      "  17 17 18 18 18 18 18 18 18 18 18 18 19 19 19 19 19 19 19 19 19 19 20 20\n",
      "  20 20 20 20 20 20 20 20 21 21 21 21 21 21 21 21 21 21 22 22 22 22 22 22\n",
      "  22 22 22 22 23 23 23 23 23 23 23 23 23 23 24 24 24 24 24 24 24 24 24 24\n",
      "  25 25 25 25 25 25 25 25 25 25 26 26 26 26 26 26 26 26 26 26 27 27 27 27\n",
      "  27 27 27 27 27 27 28 28 28 28 28 28 28 28 28 28 29 29 29 29 29 29 29 29\n",
      "  29 29 30 30 30 30 30 30 30 30 30 30 31 31 31 31 31 31 31 31 31 31 32 32\n",
      "  32 32 32 32 32 32 32 32 33 33 33 33 33 33 33 33 33 33 34 34 34 34 34 34\n",
      "  34 34 34 34 35 35 35 35 35 35 35 35 35 35 36 36 36 36 36 36 36 36 36 36\n",
      "  37 37 37 37 37 37 37 37 37 37 38 38 38 38 38 38 38 38 38 38 39 39 39 39\n",
      "  39 39 39 39 39 39 40 40 40 40 40 40 40 40 40 40 41 41 41 41 41 41 41 41\n",
      "  41 41 42 42 42 42 42 42 42 42 42 42 43 43 43 43 43 43 43 43 43 43 44 44\n",
      "  44 44 44 44 44 44 44 44 45 45 45 45 45 45 45 45 45 45 46 46 46 46 46 46\n",
      "  46 46 46 46 47 47 47 47 47 47 47 47 47 47 48 48 48 48 48 48 48 48 48 48\n",
      "  49 49 49 49 49 49 49 49 49 49 50 50 50 50 50 50 50 50 50 50 51 51 51 51\n",
      "  51 51 51 51 51 51 52 52 52 52 52 52 52 52 52 52]]\n",
      "(1, 520)\n"
     ]
    }
   ],
   "source": [
    "import scipy.io as sio\n",
    "import numpy as np\n",
    "import matplotlib.pyplot as plt\n",
    "from sklearn import preprocessing\n",
    "from sklearn.metrics import confusion_matrix\n",
    "\n",
    "mat_content = sio.loadmat('face.mat')\n",
    "\n",
    "face_data = mat_content['X']\n",
    "face_id = mat_content['l']\n",
    "\n",
    "print(face_data)\n",
    "print(face_data.shape)\n",
    "\n",
    "print(face_id)\n",
    "print(face_id.shape)"
   ]
  },
  {
   "cell_type": "code",
   "execution_count": 2,
   "metadata": {},
   "outputs": [
    {
     "name": "stdout",
     "output_type": "stream",
     "text": [
      "[[ 96  86 116 ... 252  54 121]\n",
      " [ 90  88 121 ... 250  52 118]\n",
      " [105  82 123 ... 249  48 121]\n",
      " ...\n",
      " [171 125  64 ...  39 203  47]\n",
      " [203 131  56 ...  35 202  46]\n",
      " [122 108  60 ...  36 204  44]]\n",
      "(2576, 468)\n",
      "[[ 88  91 125 ... 132 210 250]\n",
      " [ 88  91 117 ... 139 158 236]\n",
      " [ 87  91 125 ... 140 123 167]\n",
      " ...\n",
      " [226 151  34 ...  47  28  31]\n",
      " [211 144  33 ...  45  31  33]\n",
      " [179 155  33 ...  38  31  33]]\n",
      "(2576, 52)\n"
     ]
    }
   ],
   "source": [
    "# Split data set\n",
    "# Train_id is the index of each train data in the total data set, test_id the same\n",
    "\n",
    "from sklearn.model_selection import train_test_split\n",
    "\n",
    "indices = np.arange(len(face_id[0]))\n",
    "train_data, test_data, train_id, test_id = train_test_split(face_data.T, indices, test_size = 0.1)\n",
    "train_data = train_data.T\n",
    "test_data = test_data.T\n",
    "\n",
    "print(train_data)\n",
    "print(train_data.shape)\n",
    "print(test_data)\n",
    "print(test_data.shape)"
   ]
  },
  {
   "cell_type": "code",
   "execution_count": 36,
   "metadata": {},
   "outputs": [
    {
     "data": {
      "text/plain": [
       "{1: 8,\n",
       " 2: 9,\n",
       " 3: 10,\n",
       " 4: 7,\n",
       " 5: 9,\n",
       " 6: 8,\n",
       " 7: 7,\n",
       " 8: 10,\n",
       " 9: 10,\n",
       " 10: 9,\n",
       " 11: 10,\n",
       " 12: 8,\n",
       " 13: 9,\n",
       " 14: 9,\n",
       " 15: 9,\n",
       " 16: 10,\n",
       " 17: 10,\n",
       " 18: 10,\n",
       " 19: 9,\n",
       " 20: 9,\n",
       " 21: 10,\n",
       " 22: 9,\n",
       " 23: 8,\n",
       " 24: 9,\n",
       " 25: 10,\n",
       " 26: 10,\n",
       " 27: 9,\n",
       " 28: 9,\n",
       " 29: 10,\n",
       " 30: 10,\n",
       " 31: 9,\n",
       " 32: 8,\n",
       " 33: 10,\n",
       " 34: 8,\n",
       " 35: 9,\n",
       " 36: 10,\n",
       " 37: 10,\n",
       " 38: 8,\n",
       " 39: 8,\n",
       " 40: 7,\n",
       " 41: 9,\n",
       " 42: 9,\n",
       " 43: 8,\n",
       " 44: 9,\n",
       " 45: 9,\n",
       " 46: 10,\n",
       " 47: 9,\n",
       " 48: 8,\n",
       " 49: 9,\n",
       " 50: 7,\n",
       " 51: 10,\n",
       " 52: 10}"
      ]
     },
     "execution_count": 36,
     "metadata": {},
     "output_type": "execute_result"
    }
   ],
   "source": [
    "# Count the number of face images for each person \n",
    "# in the train and test set after randomly split\n",
    "\n",
    "train_label = face_id[0,train_id]\n",
    "unique_train, counts_train = np.unique(train_label, return_counts=True)\n",
    "dict(zip(unique_train, counts_train))\n",
    "\n",
    "#test_label = face_id[0,test_id]\n",
    "#unique_test, counts_test = np.unique(test_label, return_counts=True)\n",
    "#dict(zip(unique_test, counts_test))\n"
   ]
  },
  {
   "cell_type": "code",
   "execution_count": 3,
   "metadata": {},
   "outputs": [
    {
     "data": {
      "text/plain": [
       "<matplotlib.image.AxesImage at 0x1118cc208>"
      ]
     },
     "execution_count": 3,
     "metadata": {},
     "output_type": "execute_result"
    },
    {
     "data": {
      "image/png": "[encoded data removed]",
      "text/plain": [
       "<Figure size 432x288 with 1 Axes>"
      ]
     },
     "metadata": {},
     "output_type": "display_data"
    }
   ],
   "source": [
    "# Compute average face vector\n",
    "\n",
    "num_train = len(train_data[0])\n",
    "\n",
    "avg_face = (train_data.mean(axis=1)) / num_train\n",
    "\n",
    "plt.imshow(np.reshape(avg_face,(46,56)).T, cmap = 'gist_gray')"
   ]
  },
  {
   "cell_type": "code",
   "execution_count": 4,
   "metadata": {},
   "outputs": [],
   "source": [
    "# Compute covariance matrix without low-dimensional compution\n",
    "\n",
    "num_pix = len(train_data)\n",
    "\n",
    "A = train_data - avg_face.reshape(num_pix,1)\n",
    "S = (A.dot(A.T)) / num_train"
   ]
  },
  {
   "cell_type": "code",
   "execution_count": 5,
   "metadata": {},
   "outputs": [],
   "source": [
    "# Compute the egenvalues\n",
    "# Due to numerical error, some eigenvalues are complex but they have\n",
    "# negligible imaginary parts. Morover real symetric covariance \n",
    "# matrix always has real eigenvalues and eigenvectors.\n",
    "\n",
    "eigvals, eigvecs = np.linalg.eig(S)\n",
    "eigvals = eigvals.real\n",
    "eigvecs = eigvecs.real"
   ]
  },
  {
   "cell_type": "code",
   "execution_count": 6,
   "metadata": {},
   "outputs": [
    {
     "name": "stdout",
     "output_type": "stream",
     "text": [
      "(2576,)\n",
      "(2576, 2576)\n",
      "(468,)\n",
      "(2576, 468)\n"
     ]
    }
   ],
   "source": [
    "# Compute the nonzero eigenvalues and their eigenvectors\n",
    "\n",
    "print(eigvals.shape)\n",
    "print(eigvecs.shape)\n",
    "\n",
    "nonzero_eigvals = eigvals[abs(eigvals) >= 1e-7]\n",
    "print(nonzero_eigvals.shape)\n",
    "\n",
    "eigvecs_nonzero_eigvals = eigvecs[:,abs(eigvals) >= 1e-7]\n",
    "print(eigvecs_nonzero_eigvals.shape)"
   ]
  },
  {
   "cell_type": "code",
   "execution_count": 7,
   "metadata": {},
   "outputs": [
    {
     "name": "stdout",
     "output_type": "stream",
     "text": [
      "[ 0  1  2  3  4  5  6  7  8  9 10 11 12 13 14 15 16 17 18 19 20 21 22 23\n",
      " 24 25 26 27 28 29]\n",
      "(2576, 30)\n"
     ]
    },
    {
     "data": {
      "text/plain": [
       "<matplotlib.image.AxesImage at 0x1a1da4f8d0>"
      ]
     },
     "execution_count": 7,
     "metadata": {},
     "output_type": "execute_result"
    },
    {
     "data": {
      "image/png": "[encoded data removed]",
      "text/plain": [
       "<Figure size 432x288 with 1 Axes>"
      ]
     },
     "metadata": {},
     "output_type": "display_data"
    }
   ],
   "source": [
    "# Choose the eigenvectors with M largest eigenvalues as eigenfaces\n",
    "\n",
    "M = 30 # Number of eigenvectors with M largest eigenvalues to be used\n",
    "\n",
    "sorted_index = np.argsort(-nonzero_eigvals)[:M]\n",
    "print(sorted_index)\n",
    "\n",
    "eigfaces = eigvecs_nonzero_eigvals[:,sorted_index]\n",
    "print(eigfaces.shape)\n",
    "\n",
    "plt.imshow(np.reshape(eigfaces[:,0],(46,56)).T, cmap = 'gist_gray')"
   ]
  },
  {
   "cell_type": "markdown",
   "metadata": {},
   "source": [
    "# Eigenfaces b"
   ]
  },
  {
   "cell_type": "code",
   "execution_count": 8,
   "metadata": {},
   "outputs": [
    {
     "name": "stdout",
     "output_type": "stream",
     "text": [
      "(2576, 2576)\n",
      "(468, 468)\n"
     ]
    }
   ],
   "source": [
    "# Compute covariance matrix with low-dimensional compution\n",
    "\n",
    "S_low_dim = ((A.T).dot(A)) / num_train\n",
    "\n",
    "print(S.shape)\n",
    "print(S_low_dim.shape)"
   ]
  },
  {
   "cell_type": "code",
   "execution_count": 9,
   "metadata": {},
   "outputs": [],
   "source": [
    "# Compute the egenvalues \n",
    "\n",
    "eigvals_low_dim, eigvecs_low_dim = np.linalg.eig(S_low_dim)\n",
    "eigvals_low_dim = eigvals_low_dim.real\n",
    "eigvecs_low_dim = eigvecs_low_dim.real"
   ]
  },
  {
   "cell_type": "code",
   "execution_count": 10,
   "metadata": {},
   "outputs": [
    {
     "name": "stdout",
     "output_type": "stream",
     "text": [
      "(468,)\n",
      "(468, 468)\n",
      "(468,)\n",
      "(468, 468)\n"
     ]
    }
   ],
   "source": [
    "# Compute the nonzero eigenvalues and their eigenvectors\n",
    "\n",
    "print(eigvals_low_dim.shape)\n",
    "print(eigvecs_low_dim.shape)\n",
    "\n",
    "nonzero_eigvals_low_dim = eigvals_low_dim[abs(eigvals_low_dim) >= 1e-7]\n",
    "print(nonzero_eigvals_low_dim.shape)\n",
    "\n",
    "eigvecs_nonzero_eigvals_low_dim = eigvecs_low_dim[:,abs(eigvals_low_dim) >= 1e-7]\n",
    "print(eigvecs_nonzero_eigvals_low_dim.shape)"
   ]
  },
  {
   "cell_type": "code",
   "execution_count": 11,
   "metadata": {},
   "outputs": [
    {
     "data": {
      "text/plain": [
       "<matplotlib.image.AxesImage at 0x1a294c7ba8>"
      ]
     },
     "execution_count": 11,
     "metadata": {},
     "output_type": "execute_result"
    },
    {
     "data": {
      "image/png": "[encoded data removed]",
      "text/plain": [
       "<Figure size 432x288 with 1 Axes>"
      ]
     },
     "metadata": {},
     "output_type": "display_data"
    }
   ],
   "source": [
    "# Choose the eigenvectors with M largest eigenvalues as eigenfaces and \n",
    "# convert them to the eigenvectors of S and normalize them\n",
    "\n",
    "eigfaces_low_dim_unnormalized = A.dot(eigvecs_nonzero_eigvals_low_dim[:,np.argsort(-nonzero_eigvals_low_dim)[:M]])\n",
    "\n",
    "eigfaces_low_dim = (preprocessing.normalize(eigfaces_low_dim_unnormalized.T, norm='l2')).T\n",
    "\n",
    "#print(eigfaces_low_dim[:,0])\n",
    "#print(eigfaces[:,0])\n",
    "#print(eigfaces.shape)\n",
    "\n",
    "plt.imshow(np.reshape(eigfaces_low_dim[:,0],(46,56)).T, cmap = 'gist_gray')"
   ]
  },
  {
   "cell_type": "markdown",
   "metadata": {},
   "source": [
    "# Application of Eigenfaces a (reconstruction)"
   ]
  },
  {
   "cell_type": "code",
   "execution_count": 23,
   "metadata": {},
   "outputs": [
    {
     "name": "stdout",
     "output_type": "stream",
     "text": [
      "[[-4.97079269e+03  7.68138020e+01 -4.66220002e+02 ...  1.12737910e+01\n",
      "  -2.46126582e+01 -7.43318442e+01]\n",
      " [-4.08785172e+03  1.17096502e+03 -3.10944625e+02 ... -1.72553413e-01\n",
      "  -1.69038433e+02 -7.67650794e+01]\n",
      " [-4.07409080e+03 -3.46041188e+02  6.50845555e+02 ...  1.61774147e+02\n",
      "  -6.73830024e+01 -9.56997273e+01]\n",
      " ...\n",
      " [-5.03205390e+03 -2.99607334e+02  3.07437854e+02 ... -3.13337784e+01\n",
      "   8.68293054e+01  3.50451933e+01]\n",
      " [-4.59010025e+03  1.86240837e+03  1.42631392e+02 ... -4.64991232e+01\n",
      "   5.23395904e+01  3.38664747e+01]\n",
      " [-3.36670101e+03 -1.12081629e+02 -2.77348820e+02 ... -1.22315740e+02\n",
      "  -1.72538378e+01 -4.87699147e+00]]\n"
     ]
    }
   ],
   "source": [
    "# Project faces onto eigenfaces\n",
    "\n",
    "W = (A.T).dot(eigfaces_low_dim) \n",
    "# the ith row of w represents the projection of the ith image\n",
    "# the number of columns is the number of eigenfaces\n",
    "# the number of rows is number of training data\n",
    "\n",
    "print(W)"
   ]
  },
  {
   "cell_type": "code",
   "execution_count": 24,
   "metadata": {},
   "outputs": [
    {
     "name": "stdout",
     "output_type": "stream",
     "text": [
      "892.2925028332766\n"
     ]
    },
    {
     "data": {
      "text/plain": [
       "(Text(0.5,1,'Reconstructed'),\n",
       " ([], <a list of 0 Text xticklabel objects>),\n",
       " ([], <a list of 0 Text yticklabel objects>))"
      ]
     },
     "execution_count": 24,
     "metadata": {},
     "output_type": "execute_result"
    },
    {
     "data": {
      "image/png": "[encoded data removed]",
      "text/plain": [
       "<Figure size 432x288 with 2 Axes>"
      ]
     },
     "metadata": {},
     "output_type": "display_data"
    }
   ],
   "source": [
    "# Face image reconstruction\n",
    "\n",
    "reconstructed_train_data = avg_face.reshape(num_pix,1) + eigfaces_low_dim.dot(W.T)\n",
    "\n",
    "error_train = np.linalg.norm((train_data - reconstructed_train_data),axis=0)\n",
    "print(np.average(error_train))\n",
    "\n",
    "plt.subplot(211),plt.imshow(np.reshape(train_data[:,0],(46,56)).T, cmap = 'gist_gray')\n",
    "plt.title('Original'), plt.xticks([]), plt.yticks([])\n",
    "plt.subplot(212),plt.imshow(np.reshape(reconstructed_train_data[:,0],(46,56)).T, cmap = 'gist_gray')\n",
    "plt.title('Reconstructed'), plt.xticks([]), plt.yticks([])"
   ]
  },
  {
   "cell_type": "markdown",
   "metadata": {},
   "source": [
    "# Application of Eigenfaces b (NN classification)"
   ]
  },
  {
   "cell_type": "code",
   "execution_count": 28,
   "metadata": {},
   "outputs": [
    {
     "name": "stdout",
     "output_type": "stream",
     "text": [
      "[43 35 50 24 43 40 15 19 48 34 13 34  6 38 50 48  4 23 38  7 42 40  2 28\n",
      " 32  7 40 47 41  6 23  7  4  4  1  5 12 39 49 10  1 22 39 50 27 31 14 20\n",
      " 12 44 32 45]\n",
      "[36, 40, 50, 24, 11, 32, 15, 21, 36, 8, 39, 32, 6, 36, 50, 48, 4, 23, 52, 7, 49, 35, 2, 36, 32, 7, 40, 33, 48, 51, 23, 33, 4, 4, 1, 5, 12, 39, 27, 1, 1, 11, 39, 45, 27, 31, 14, 20, 12, 42, 32, 45]\n"
     ]
    }
   ],
   "source": [
    "A_test = test_data - avg_face.reshape(num_pix,1)\n",
    "W_test = (A_test.T).dot(eigfaces_low_dim)\n",
    "\n",
    "test_results = []\n",
    "for row in W_test:\n",
    "    index = np.argmin(np.linalg.norm(row - W, axis=1))\n",
    "    test_results.append(face_id[0,train_id[index]])\n",
    "    \n",
    "true_results = face_id[0,test_id]\n",
    "\n",
    "print(true_results)\n",
    "print(test_results)"
   ]
  },
  {
   "cell_type": "code",
   "execution_count": 27,
   "metadata": {},
   "outputs": [
    {
     "data": {
      "text/plain": [
       "(2576, 52)"
      ]
     },
     "execution_count": 27,
     "metadata": {},
     "output_type": "execute_result"
    }
   ],
   "source": [
    "test_data.shape"
   ]
  },
  {
   "cell_type": "code",
   "execution_count": 21,
   "metadata": {},
   "outputs": [
    {
     "data": {
      "text/plain": [
       "(2576,)"
      ]
     },
     "execution_count": 21,
     "metadata": {},
     "output_type": "execute_result"
    }
   ],
   "source": [
    "avg_face.shape"
   ]
  },
  {
   "cell_type": "code",
   "execution_count": 26,
   "metadata": {},
   "outputs": [
    {
     "data": {
      "text/plain": [
       "(2576, 52)"
      ]
     },
     "execution_count": 26,
     "metadata": {},
     "output_type": "execute_result"
    }
   ],
   "source": [
    "A_test.shape"
   ]
  },
  {
   "cell_type": "code",
   "execution_count": 18,
   "metadata": {},
   "outputs": [
    {
     "data": {
      "text/plain": [
       "(52, 30)"
      ]
     },
     "execution_count": 18,
     "metadata": {},
     "output_type": "execute_result"
    }
   ],
   "source": [
    "W_test.shape"
   ]
  },
  {
   "cell_type": "code",
   "execution_count": 29,
   "metadata": {},
   "outputs": [
    {
     "name": "stdout",
     "output_type": "stream",
     "text": [
      "0.5576923076923077\n",
      "[[2 0 0 ... 0 0 0]\n",
      " [0 1 0 ... 0 0 0]\n",
      " [0 0 3 ... 0 0 0]\n",
      " ...\n",
      " [0 0 0 ... 2 0 0]\n",
      " [0 0 0 ... 0 0 0]\n",
      " [0 0 0 ... 0 0 0]]\n"
     ]
    },
    {
     "data": {
      "image/png": "[encoded data removed]",
      "text/plain": [
       "<Figure size 288x288 with 2 Axes>"
      ]
     },
     "metadata": {},
     "output_type": "display_data"
    }
   ],
   "source": [
    "results_error = test_results - true_results\n",
    "\n",
    "success_rate = np.count_nonzero(results_error == 0) / len(true_results)\n",
    "print(success_rate)\n",
    "\n",
    "cm = confusion_matrix(true_results, test_results)\n",
    "\n",
    "print(cm)\n",
    "plt.matshow(cm, cmap = 'Blues')\n",
    "plt.colorbar()\n",
    "plt.ylabel('Actual')\n",
    "plt.xlabel('Predicted')\n",
    "plt.show()"
   ]
  },
  {
   "cell_type": "code",
   "execution_count": 33,
   "metadata": {},
   "outputs": [
    {
     "data": {
      "text/plain": [
       "(Text(0.5,1,'Reconstructed'),\n",
       " ([], <a list of 0 Text xticklabel objects>),\n",
       " ([], <a list of 0 Text yticklabel objects>))"
      ]
     },
     "execution_count": 33,
     "metadata": {},
     "output_type": "execute_result"
    },
    {
     "data": {
      "image/png": "[encoded data removed]",
      "text/plain": [
       "<Figure size 432x288 with 2 Axes>"
      ]
     },
     "metadata": {},
     "output_type": "display_data"
    }
   ],
   "source": [
    "reconstructed_test_data = avg_face.reshape(num_pix,1) + eigfaces_low_dim.dot(W_test.T)\n",
    "\n",
    "plt.subplot(211),plt.imshow(np.reshape(test_data[:,1],(46,56)).T, cmap = 'gist_gray')\n",
    "plt.title('Original'), plt.xticks([]), plt.yticks([])\n",
    "plt.subplot(212),plt.imshow(np.reshape(reconstructed_test_data[:,1],(46,56)).T, cmap = 'gist_gray')\n",
    "plt.title('Reconstructed'), plt.xticks([]), plt.yticks([])"
   ]
  },
  {
   "cell_type": "code",
   "execution_count": 34,
   "metadata": {},
   "outputs": [],
   "source": [
    "import time\n",
    "start = time.time()"
   ]
  },
  {
   "cell_type": "markdown",
   "metadata": {},
   "source": [
    "# Application of Eigenfaces b (Alternative method learnt)"
   ]
  },
  {
   "cell_type": "code",
   "execution_count": 37,
   "metadata": {
    "scrolled": true
   },
   "outputs": [
    {
     "name": "stdout",
     "output_type": "stream",
     "text": [
      "[17]\n",
      "[17, 52]\n",
      "[17, 52, 27]\n",
      "[17, 52, 27, 24]\n",
      "[17, 52, 27, 24, 43]\n",
      "[17, 52, 27, 24, 43, 32]\n",
      "[17, 52, 27, 24, 43, 32, 13]\n",
      "[17, 52, 27, 24, 43, 32, 13, 21]\n",
      "[17, 52, 27, 24, 43, 32, 13, 21, 36]\n",
      "[17, 52, 27, 24, 43, 32, 13, 21, 36, 13]\n",
      "[17, 52, 27, 24, 43, 32, 13, 21, 36, 13, 13]\n",
      "[17, 52, 27, 24, 43, 32, 13, 21, 36, 13, 13, 35]\n",
      "[17, 52, 27, 24, 43, 32, 13, 21, 36, 13, 13, 35, 6]\n",
      "[17, 52, 27, 24, 43, 32, 13, 21, 36, 13, 13, 35, 6, 38]\n",
      "[17, 52, 27, 24, 43, 32, 13, 21, 36, 13, 13, 35, 6, 38, 26]\n",
      "[17, 52, 27, 24, 43, 32, 13, 21, 36, 13, 13, 35, 6, 38, 26, 48]\n",
      "[17, 52, 27, 24, 43, 32, 13, 21, 36, 13, 13, 35, 6, 38, 26, 48, 4]\n",
      "[17, 52, 27, 24, 43, 32, 13, 21, 36, 13, 13, 35, 6, 38, 26, 48, 4, 23]\n",
      "[17, 52, 27, 24, 43, 32, 13, 21, 36, 13, 13, 35, 6, 38, 26, 48, 4, 23, 52]\n",
      "[17, 52, 27, 24, 43, 32, 13, 21, 36, 13, 13, 35, 6, 38, 26, 48, 4, 23, 52, 7]\n",
      "[17, 52, 27, 24, 43, 32, 13, 21, 36, 13, 13, 35, 6, 38, 26, 48, 4, 23, 52, 7, 7]\n",
      "[17, 52, 27, 24, 43, 32, 13, 21, 36, 13, 13, 35, 6, 38, 26, 48, 4, 23, 52, 7, 7, 35]\n",
      "[17, 52, 27, 24, 43, 32, 13, 21, 36, 13, 13, 35, 6, 38, 26, 48, 4, 23, 52, 7, 7, 35, 2]\n",
      "[17, 52, 27, 24, 43, 32, 13, 21, 36, 13, 13, 35, 6, 38, 26, 48, 4, 23, 52, 7, 7, 35, 2, 39]\n",
      "[17, 52, 27, 24, 43, 32, 13, 21, 36, 13, 13, 35, 6, 38, 26, 48, 4, 23, 52, 7, 7, 35, 2, 39, 32]\n",
      "[17, 52, 27, 24, 43, 32, 13, 21, 36, 13, 13, 35, 6, 38, 26, 48, 4, 23, 52, 7, 7, 35, 2, 39, 32, 7]\n",
      "[17, 52, 27, 24, 43, 32, 13, 21, 36, 13, 13, 35, 6, 38, 26, 48, 4, 23, 52, 7, 7, 35, 2, 39, 32, 7, 41]\n",
      "[17, 52, 27, 24, 43, 32, 13, 21, 36, 13, 13, 35, 6, 38, 26, 48, 4, 23, 52, 7, 7, 35, 2, 39, 32, 7, 41, 33]\n",
      "[17, 52, 27, 24, 43, 32, 13, 21, 36, 13, 13, 35, 6, 38, 26, 48, 4, 23, 52, 7, 7, 35, 2, 39, 32, 7, 41, 33, 41]\n",
      "[17, 52, 27, 24, 43, 32, 13, 21, 36, 13, 13, 35, 6, 38, 26, 48, 4, 23, 52, 7, 7, 35, 2, 39, 32, 7, 41, 33, 41, 51]\n",
      "[17, 52, 27, 24, 43, 32, 13, 21, 36, 13, 13, 35, 6, 38, 26, 48, 4, 23, 52, 7, 7, 35, 2, 39, 32, 7, 41, 33, 41, 51, 23]\n",
      "[17, 52, 27, 24, 43, 32, 13, 21, 36, 13, 13, 35, 6, 38, 26, 48, 4, 23, 52, 7, 7, 35, 2, 39, 32, 7, 41, 33, 41, 51, 23, 24]\n",
      "[17, 52, 27, 24, 43, 32, 13, 21, 36, 13, 13, 35, 6, 38, 26, 48, 4, 23, 52, 7, 7, 35, 2, 39, 32, 7, 41, 33, 41, 51, 23, 24, 4]\n",
      "[17, 52, 27, 24, 43, 32, 13, 21, 36, 13, 13, 35, 6, 38, 26, 48, 4, 23, 52, 7, 7, 35, 2, 39, 32, 7, 41, 33, 41, 51, 23, 24, 4, 4]\n",
      "[17, 52, 27, 24, 43, 32, 13, 21, 36, 13, 13, 35, 6, 38, 26, 48, 4, 23, 52, 7, 7, 35, 2, 39, 32, 7, 41, 33, 41, 51, 23, 24, 4, 4, 1]\n",
      "[17, 52, 27, 24, 43, 32, 13, 21, 36, 13, 13, 35, 6, 38, 26, 48, 4, 23, 52, 7, 7, 35, 2, 39, 32, 7, 41, 33, 41, 51, 23, 24, 4, 4, 1, 5]\n",
      "[17, 52, 27, 24, 43, 32, 13, 21, 36, 13, 13, 35, 6, 38, 26, 48, 4, 23, 52, 7, 7, 35, 2, 39, 32, 7, 41, 33, 41, 51, 23, 24, 4, 4, 1, 5, 12]\n",
      "[17, 52, 27, 24, 43, 32, 13, 21, 36, 13, 13, 35, 6, 38, 26, 48, 4, 23, 52, 7, 7, 35, 2, 39, 32, 7, 41, 33, 41, 51, 23, 24, 4, 4, 1, 5, 12, 37]\n",
      "[17, 52, 27, 24, 43, 32, 13, 21, 36, 13, 13, 35, 6, 38, 26, 48, 4, 23, 52, 7, 7, 35, 2, 39, 32, 7, 41, 33, 41, 51, 23, 24, 4, 4, 1, 5, 12, 37, 27]\n",
      "[17, 52, 27, 24, 43, 32, 13, 21, 36, 13, 13, 35, 6, 38, 26, 48, 4, 23, 52, 7, 7, 35, 2, 39, 32, 7, 41, 33, 41, 51, 23, 24, 4, 4, 1, 5, 12, 37, 27, 12]\n",
      "[17, 52, 27, 24, 43, 32, 13, 21, 36, 13, 13, 35, 6, 38, 26, 48, 4, 23, 52, 7, 7, 35, 2, 39, 32, 7, 41, 33, 41, 51, 23, 24, 4, 4, 1, 5, 12, 37, 27, 12, 1]\n",
      "[17, 52, 27, 24, 43, 32, 13, 21, 36, 13, 13, 35, 6, 38, 26, 48, 4, 23, 52, 7, 7, 35, 2, 39, 32, 7, 41, 33, 41, 51, 23, 24, 4, 4, 1, 5, 12, 37, 27, 12, 1, 22]\n",
      "[17, 52, 27, 24, 43, 32, 13, 21, 36, 13, 13, 35, 6, 38, 26, 48, 4, 23, 52, 7, 7, 35, 2, 39, 32, 7, 41, 33, 41, 51, 23, 24, 4, 4, 1, 5, 12, 37, 27, 12, 1, 22, 39]\n",
      "[17, 52, 27, 24, 43, 32, 13, 21, 36, 13, 13, 35, 6, 38, 26, 48, 4, 23, 52, 7, 7, 35, 2, 39, 32, 7, 41, 33, 41, 51, 23, 24, 4, 4, 1, 5, 12, 37, 27, 12, 1, 22, 39, 45]\n",
      "[17, 52, 27, 24, 43, 32, 13, 21, 36, 13, 13, 35, 6, 38, 26, 48, 4, 23, 52, 7, 7, 35, 2, 39, 32, 7, 41, 33, 41, 51, 23, 24, 4, 4, 1, 5, 12, 37, 27, 12, 1, 22, 39, 45, 27]\n",
      "[17, 52, 27, 24, 43, 32, 13, 21, 36, 13, 13, 35, 6, 38, 26, 48, 4, 23, 52, 7, 7, 35, 2, 39, 32, 7, 41, 33, 41, 51, 23, 24, 4, 4, 1, 5, 12, 37, 27, 12, 1, 22, 39, 45, 27, 31]\n",
      "[17, 52, 27, 24, 43, 32, 13, 21, 36, 13, 13, 35, 6, 38, 26, 48, 4, 23, 52, 7, 7, 35, 2, 39, 32, 7, 41, 33, 41, 51, 23, 24, 4, 4, 1, 5, 12, 37, 27, 12, 1, 22, 39, 45, 27, 31, 14]\n",
      "[17, 52, 27, 24, 43, 32, 13, 21, 36, 13, 13, 35, 6, 38, 26, 48, 4, 23, 52, 7, 7, 35, 2, 39, 32, 7, 41, 33, 41, 51, 23, 24, 4, 4, 1, 5, 12, 37, 27, 12, 1, 22, 39, 45, 27, 31, 14, 3]\n",
      "[17, 52, 27, 24, 43, 32, 13, 21, 36, 13, 13, 35, 6, 38, 26, 48, 4, 23, 52, 7, 7, 35, 2, 39, 32, 7, 41, 33, 41, 51, 23, 24, 4, 4, 1, 5, 12, 37, 27, 12, 1, 22, 39, 45, 27, 31, 14, 3, 12]\n",
      "[17, 52, 27, 24, 43, 32, 13, 21, 36, 13, 13, 35, 6, 38, 26, 48, 4, 23, 52, 7, 7, 35, 2, 39, 32, 7, 41, 33, 41, 51, 23, 24, 4, 4, 1, 5, 12, 37, 27, 12, 1, 22, 39, 45, 27, 31, 14, 3, 12, 17]\n",
      "[17, 52, 27, 24, 43, 32, 13, 21, 36, 13, 13, 35, 6, 38, 26, 48, 4, 23, 52, 7, 7, 35, 2, 39, 32, 7, 41, 33, 41, 51, 23, 24, 4, 4, 1, 5, 12, 37, 27, 12, 1, 22, 39, 45, 27, 31, 14, 3, 12, 17, 32]\n",
      "[17, 52, 27, 24, 43, 32, 13, 21, 36, 13, 13, 35, 6, 38, 26, 48, 4, 23, 52, 7, 7, 35, 2, 39, 32, 7, 41, 33, 41, 51, 23, 24, 4, 4, 1, 5, 12, 37, 27, 12, 1, 22, 39, 45, 27, 31, 14, 3, 12, 17, 32, 32]\n"
     ]
    }
   ],
   "source": [
    "M_AM = 1\n",
    "\n",
    "def eigspace_generator(data):\n",
    "    num_train = len(data[0])\n",
    "    avg_face = (data.mean(axis=1)) / num_train\n",
    "    num_pix = len(data)\n",
    "    A = data - avg_face.reshape(num_pix,1)\n",
    "    S_low_dim = ((A.T).dot(A)) / num_train\n",
    "    eigvals_low_dim, eigvecs_low_dim = np.linalg.eig(S_low_dim)\n",
    "    eigvals_low_dim = eigvals_low_dim.real\n",
    "    eigvecs_low_dim = eigvecs_low_dim.real\n",
    "    nonzero_eigvals_low_dim = eigvals_low_dim[abs(eigvals_low_dim) >= 1e-7]\n",
    "    eigvecs_nonzero_eigvals_low_dim = eigvecs_low_dim[:,abs(eigvals_low_dim) >= 1e-7]\n",
    "    \n",
    "    eigfaces_low_dim_unnormalized = A.dot(eigvecs_nonzero_eigvals_low_dim[:,np.argsort(-nonzero_eigvals_low_dim)[:M_AM]]) \n",
    "    # Choose all the eigenvectors as eigenfaces in low_dim this case, since the maximum number of eigenfaces would\n",
    "    # not exceed 10\n",
    "    \n",
    "    eigfaces_low_dim = (preprocessing.normalize(eigfaces_low_dim_unnormalized.T, norm='l2')).T\n",
    "    list_eig_space.append(eigfaces_low_dim)\n",
    "    \n",
    "    list_avg_face.append(avg_face)\n",
    "\n",
    "    \n",
    "num_people = max(train_label)\n",
    "eig_space = np.zeros((num_people,num_pix,M_AM))\n",
    "sorted_train_data = train_data[:,np.argsort(train_label)]\n",
    "\n",
    "list_eig_space = [] # Each element of list_eig_space contains the eigenspace of the i+1th person\n",
    "list_avg_face = [] # Each element of list_avg_face contains the average face of the i+1th person\n",
    "list_projection = [] # Each element of list_projection contains the projection of the jth test data to different eigenspaces\n",
    "test_results_AM = []\n",
    "\n",
    "# Generate all eigenspaces\n",
    "column = 0\n",
    "for i in range(num_people):\n",
    "    num_faces = train_label.tolist().count(i+1)\n",
    "    eigspace_generator(sorted_train_data[:,column : column + num_faces])\n",
    "    column += num_faces\n",
    "\n",
    "    \n",
    "# Project each test data onto each eigenspace\n",
    "for j in range(len(test_data[0])): \n",
    "    error = [];\n",
    "    for i in range(num_people): \n",
    "        w = (test_data[:,j].T).dot(list_eig_space[i]) # row vector containing projection\n",
    "        reconstructed_data = np.asarray(list_avg_face[i]).reshape(num_pix,1) + list_eig_space[i].dot(w.T) \n",
    "        error.append(np.linalg.norm(test_data[:,j] - reconstructed_data))\n",
    "    test_results_AM.append(np.argmin(error) + 1)\n",
    "    print (test_results_AM)\n"
   ]
  },
  {
   "cell_type": "code",
   "execution_count": 42,
   "metadata": {},
   "outputs": [
    {
     "data": {
      "text/plain": [
       "(2576, 52)"
      ]
     },
     "execution_count": 42,
     "metadata": {},
     "output_type": "execute_result"
    }
   ],
   "source": [
    "test_data.shape"
   ]
  },
  {
   "cell_type": "code",
   "execution_count": 24,
   "metadata": {},
   "outputs": [
    {
     "name": "stdout",
     "output_type": "stream",
     "text": [
      "196.05754733085632\n"
     ]
    }
   ],
   "source": [
    "end = time.time()\n",
    "print(end - start)"
   ]
  },
  {
   "cell_type": "code",
   "execution_count": 38,
   "metadata": {
    "scrolled": true
   },
   "outputs": [
    {
     "name": "stdout",
     "output_type": "stream",
     "text": [
      "0.5192307692307693\n",
      "[[2 0 0 ... 0 0 0]\n",
      " [0 1 0 ... 0 0 0]\n",
      " [0 0 0 ... 0 0 0]\n",
      " ...\n",
      " [0 0 0 ... 0 0 0]\n",
      " [0 0 0 ... 0 0 0]\n",
      " [0 0 0 ... 0 0 0]]\n"
     ]
    },
    {
     "data": {
      "image/png": "[encoded data removed]",
      "text/plain": [
       "<Figure size 288x288 with 2 Axes>"
      ]
     },
     "metadata": {},
     "output_type": "display_data"
    }
   ],
   "source": [
    "results_error_AM = test_results_AM - true_results\n",
    "\n",
    "success_rate_AM = np.count_nonzero(results_error_AM == 0) / len(true_results)\n",
    "print(success_rate_AM)\n",
    "\n",
    "cm_AM = confusion_matrix(true_results, test_results_AM)\n",
    "\n",
    "print(cm_AM)\n",
    "plt.matshow(cm_AM, cmap = 'Blues')\n",
    "plt.colorbar()\n",
    "plt.ylabel('Actual')\n",
    "plt.xlabel('Predicted')\n",
    "plt.show()"
   ]
  },
  {
   "cell_type": "markdown",
   "metadata": {},
   "source": []
  },
  {
   "cell_type": "code",
   "execution_count": null,
   "metadata": {},
   "outputs": [],
   "source": []
  }
 ],
 "metadata": {
  "kernelspec": {
   "display_name": "Python 3",
   "language": "python",
   "name": "python3"
  },
  "language_info": {
   "codemirror_mode": {
    "name": "ipython",
    "version": 3
   },
   "file_extension": ".py",
   "mimetype": "text/x-python",
   "name": "python",
   "nbconvert_exporter": "python",
   "pygments_lexer": "ipython3",
   "version": "3.6.5"
  }
 },
 "nbformat": 4,
 "nbformat_minor": 2
}
