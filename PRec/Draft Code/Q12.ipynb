{
 "cells": [
  {
   "cell_type": "markdown",
   "metadata": {},
   "source": [
    "# Eigenfaces a"
   ]
  },
  {
   "cell_type": "code",
   "execution_count": 1,
   "metadata": {},
   "outputs": [
    {
     "name": "stdout",
     "output_type": "stream",
     "text": [
      "[[106 130 191 ...  70 183  77]\n",
      " [103 129 185 ...  62 250  72]\n",
      " [103 130 174 ...  83 163  68]\n",
      " ...\n",
      " [ 37  40  22 ...  87 102  93]\n",
      " [ 36  36  19 ...  89  95 103]\n",
      " [ 41  35  17 ...  94 106 110]]\n",
      "(2576, 520)\n",
      "[[ 1  1  1  1  1  1  1  1  1  1  2  2  2  2  2  2  2  2  2  2  3  3  3  3\n",
      "   3  3  3  3  3  3  4  4  4  4  4  4  4  4  4  4  5  5  5  5  5  5  5  5\n",
      "   5  5  6  6  6  6  6  6  6  6  6  6  7  7  7  7  7  7  7  7  7  7  8  8\n",
      "   8  8  8  8  8  8  8  8  9  9  9  9  9  9  9  9  9  9 10 10 10 10 10 10\n",
      "  10 10 10 10 11 11 11 11 11 11 11 11 11 11 12 12 12 12 12 12 12 12 12 12\n",
      "  13 13 13 13 13 13 13 13 13 13 14 14 14 14 14 14 14 14 14 14 15 15 15 15\n",
      "  15 15 15 15 15 15 16 16 16 16 16 16 16 16 16 16 17 17 17 17 17 17 17 17\n",
      "  17 17 18 18 18 18 18 18 18 18 18 18 19 19 19 19 19 19 19 19 19 19 20 20\n",
      "  20 20 20 20 20 20 20 20 21 21 21 21 21 21 21 21 21 21 22 22 22 22 22 22\n",
      "  22 22 22 22 23 23 23 23 23 23 23 23 23 23 24 24 24 24 24 24 24 24 24 24\n",
      "  25 25 25 25 25 25 25 25 25 25 26 26 26 26 26 26 26 26 26 26 27 27 27 27\n",
      "  27 27 27 27 27 27 28 28 28 28 28 28 28 28 28 28 29 29 29 29 29 29 29 29\n",
      "  29 29 30 30 30 30 30 30 30 30 30 30 31 31 31 31 31 31 31 31 31 31 32 32\n",
      "  32 32 32 32 32 32 32 32 33 33 33 33 33 33 33 33 33 33 34 34 34 34 34 34\n",
      "  34 34 34 34 35 35 35 35 35 35 35 35 35 35 36 36 36 36 36 36 36 36 36 36\n",
      "  37 37 37 37 37 37 37 37 37 37 38 38 38 38 38 38 38 38 38 38 39 39 39 39\n",
      "  39 39 39 39 39 39 40 40 40 40 40 40 40 40 40 40 41 41 41 41 41 41 41 41\n",
      "  41 41 42 42 42 42 42 42 42 42 42 42 43 43 43 43 43 43 43 43 43 43 44 44\n",
      "  44 44 44 44 44 44 44 44 45 45 45 45 45 45 45 45 45 45 46 46 46 46 46 46\n",
      "  46 46 46 46 47 47 47 47 47 47 47 47 47 47 48 48 48 48 48 48 48 48 48 48\n",
      "  49 49 49 49 49 49 49 49 49 49 50 50 50 50 50 50 50 50 50 50 51 51 51 51\n",
      "  51 51 51 51 51 51 52 52 52 52 52 52 52 52 52 52]]\n",
      "(1, 520)\n"
     ]
    }
   ],
   "source": [
    "import scipy.io as sio\n",
    "import numpy as np\n",
    "import matplotlib.pyplot as plt\n",
    "from sklearn import preprocessing\n",
    "from sklearn.metrics import confusion_matrix\n",
    "from numpy.linalg import matrix_rank\n",
    "from numpy.linalg import inv\n",
    "\n",
    "mat_content = sio.loadmat('face.mat')\n",
    "\n",
    "face_data = mat_content['X']\n",
    "face_id = mat_content['l']\n",
    "\n",
    "print(face_data)\n",
    "print(face_data.shape)\n",
    "\n",
    "print(face_id)\n",
    "print(face_id.shape)"
   ]
  },
  {
   "cell_type": "code",
   "execution_count": 2,
   "metadata": {},
   "outputs": [
    {
     "name": "stdout",
     "output_type": "stream",
     "text": [
      "[[ 84 182  82 ... 173  57 164]\n",
      " [ 78 180  82 ... 158  60 169]\n",
      " [ 75 174  84 ... 163  57 176]\n",
      " ...\n",
      " [ 35 121 147 ...  33 116  32]\n",
      " [ 35 117 152 ...  36 123  29]\n",
      " [ 36 112 151 ...  37 119  27]]\n",
      "(2576, 416)\n",
      "[[231 101 124 ...  54 126 241]\n",
      " [242 108 146 ...  53 118 226]\n",
      " [246 105 147 ...  51 124 228]\n",
      " ...\n",
      " [118  13  55 ... 123  51  44]\n",
      " [196  11  69 ... 135  33  39]\n",
      " [170  10  74 ... 132  25  44]]\n",
      "(2576, 104)\n"
     ]
    }
   ],
   "source": [
    "# Split data set\n",
    "# Train_id is the index of each train data in the total data set, test_id the same\n",
    "\n",
    "from sklearn.model_selection import train_test_split\n",
    "\n",
    "indices = np.arange(len(face_id[0]))\n",
    "train_data, test_data, train_id, test_id = train_test_split(face_data.T, indices, test_size = 0.2)\n",
    "train_data = train_data.T\n",
    "test_data = test_data.T\n",
    "\n",
    "print(train_data)\n",
    "print(train_data.shape)\n",
    "print(test_data)\n",
    "print(test_data.shape)"
   ]
  },
  {
   "cell_type": "code",
   "execution_count": 3,
   "metadata": {},
   "outputs": [
    {
     "data": {
      "text/plain": [
       "{1: 7,\n",
       " 2: 8,\n",
       " 3: 9,\n",
       " 4: 7,\n",
       " 5: 7,\n",
       " 6: 6,\n",
       " 7: 10,\n",
       " 8: 9,\n",
       " 9: 6,\n",
       " 10: 7,\n",
       " 11: 8,\n",
       " 12: 10,\n",
       " 13: 10,\n",
       " 14: 7,\n",
       " 15: 6,\n",
       " 16: 6,\n",
       " 17: 8,\n",
       " 18: 8,\n",
       " 19: 8,\n",
       " 20: 9,\n",
       " 21: 9,\n",
       " 22: 7,\n",
       " 23: 5,\n",
       " 24: 6,\n",
       " 25: 10,\n",
       " 26: 10,\n",
       " 27: 9,\n",
       " 28: 10,\n",
       " 29: 9,\n",
       " 30: 9,\n",
       " 31: 8,\n",
       " 32: 8,\n",
       " 33: 6,\n",
       " 34: 7,\n",
       " 35: 9,\n",
       " 36: 8,\n",
       " 37: 7,\n",
       " 38: 10,\n",
       " 39: 7,\n",
       " 40: 8,\n",
       " 41: 8,\n",
       " 42: 8,\n",
       " 43: 8,\n",
       " 44: 9,\n",
       " 45: 8,\n",
       " 46: 8,\n",
       " 47: 9,\n",
       " 48: 7,\n",
       " 49: 9,\n",
       " 50: 7,\n",
       " 51: 9,\n",
       " 52: 8}"
      ]
     },
     "execution_count": 3,
     "metadata": {},
     "output_type": "execute_result"
    }
   ],
   "source": [
    "# Count the number of face images for each person \n",
    "# in the train and test set after randomly split\n",
    "\n",
    "train_label = face_id[0,train_id]\n",
    "unique_train, counts_train = np.unique(train_label, return_counts=True)\n",
    "dict(zip(unique_train, counts_train))\n",
    "\n",
    "#test_label = face_id[0,test_id]\n",
    "#unique_test, counts_test = np.unique(test_label, return_counts=True)\n",
    "#dict(zip(unique_test, counts_test))\n",
    "\n",
    "#print(unique_train)\n",
    "#print(train_label)\n",
    "#print(counts_train)\n"
   ]
  },
  {
   "cell_type": "code",
   "execution_count": 4,
   "metadata": {},
   "outputs": [
    {
     "data": {
      "text/plain": [
       "<matplotlib.image.AxesImage at 0x110702278>"
      ]
     },
     "execution_count": 4,
     "metadata": {},
     "output_type": "execute_result"
    },
    {
     "data": {
      "image/png": "[encoded data removed]",
      "text/plain": [
       "<Figure size 432x288 with 1 Axes>"
      ]
     },
     "metadata": {},
     "output_type": "display_data"
    }
   ],
   "source": [
    "# Compute average face vector\n",
    "\n",
    "num_train = len(train_data[0])\n",
    "\n",
    "avg_face = train_data.mean(axis=1)\n",
    "\n",
    "plt.imshow(np.reshape(avg_face,(46,56)).T, cmap = 'gist_gray')\n",
    "\n",
    "#print(train_data.shape)\n",
    "#print(num_train)"
   ]
  },
  {
   "cell_type": "code",
   "execution_count": 5,
   "metadata": {},
   "outputs": [],
   "source": [
    "# Compute covariance matrix without low-dimensional compution\n",
    "\n",
    "num_pix = len(train_data)\n",
    "\n",
    "A = train_data - avg_face.reshape(num_pix,1)\n",
    "S = (A.dot(A.T)) / num_train\n",
    "\n",
    "#print(num_pix)"
   ]
  },
  {
   "cell_type": "code",
   "execution_count": 6,
   "metadata": {},
   "outputs": [],
   "source": [
    "# Compute the egenvalues\n",
    "# Due to numerical error, some eigenvalues are complex but they have\n",
    "# negligible imaginary parts. Morover real symetric covariance \n",
    "# matrix always has real eigenvalues and eigenvectors.\n",
    "\n",
    "eigvals, eigvecs = np.linalg.eig(S)\n",
    "eigvals = eigvals.real\n",
    "eigvecs = eigvecs.real"
   ]
  },
  {
   "cell_type": "code",
   "execution_count": 7,
   "metadata": {},
   "outputs": [
    {
     "name": "stdout",
     "output_type": "stream",
     "text": [
      "(2576,)\n",
      "(2576, 2576)\n",
      "(415,)\n",
      "(2576, 415)\n"
     ]
    }
   ],
   "source": [
    "# Compute the nonzero eigenvalues and their eigenvectors\n",
    "\n",
    "print(eigvals.shape)\n",
    "print(eigvecs.shape)\n",
    "\n",
    "nonzero_eigvals = eigvals[abs(eigvals) >= 1e-7]\n",
    "print(nonzero_eigvals.shape)\n",
    "\n",
    "eigvecs_nonzero_eigvals = eigvecs[:,abs(eigvals) >= 1e-7]\n",
    "print(eigvecs_nonzero_eigvals.shape)"
   ]
  },
  {
   "cell_type": "code",
   "execution_count": 8,
   "metadata": {},
   "outputs": [
    {
     "name": "stdout",
     "output_type": "stream",
     "text": [
      "[ 0  1  2  3  4  5  6  7  8  9 10 11 12 13 14 15 16 17 18 19 20 21 22 23\n",
      " 24 25 26 27 28 29 30 31 32 33 34 35 36 37 38 39 40 41 42 43 44 45 46 47\n",
      " 48 49 50 51 52 53 54 55 56 57 58 59 60 61 62 63 64 65 66 67 68 69 70 72\n",
      " 73 71 74 75 76 77 78 79 80 81 82 83 84 85 86 87 89 88 90 91 92 93 94 95\n",
      " 96 97 98 99]\n",
      "(2576, 100)\n"
     ]
    },
    {
     "data": {
      "text/plain": [
       "<matplotlib.image.AxesImage at 0x10ce4c7b8>"
      ]
     },
     "execution_count": 8,
     "metadata": {},
     "output_type": "execute_result"
    },
    {
     "data": {
      "image/png": "[encoded data removed]",
      "text/plain": [
       "<Figure size 432x288 with 1 Axes>"
      ]
     },
     "metadata": {},
     "output_type": "display_data"
    }
   ],
   "source": [
    "# Choose the eigenvectors with M largest eigenvalues as eigenfaces\n",
    "\n",
    "M = 100 # Number of eigenvectors with M largest eigenvalues to be used\n",
    "\n",
    "sorted_index = np.argsort(-nonzero_eigvals)[:M]\n",
    "print(sorted_index)\n",
    "\n",
    "eigfaces = eigvecs_nonzero_eigvals[:,sorted_index]\n",
    "print(eigfaces.shape)\n",
    "\n",
    "plt.imshow(np.reshape(eigfaces[:,0],(46,56)).T, cmap = 'gist_gray')"
   ]
  },
  {
   "cell_type": "markdown",
   "metadata": {},
   "source": [
    "# Eigenfaces b"
   ]
  },
  {
   "cell_type": "code",
   "execution_count": 9,
   "metadata": {},
   "outputs": [
    {
     "name": "stdout",
     "output_type": "stream",
     "text": [
      "415\n",
      "(2576, 2576)\n",
      "(416, 416)\n"
     ]
    }
   ],
   "source": [
    "# Compute covariance matrix with low-dimensional compution\n",
    "\n",
    "S_low_dim = ((A.T).dot(A)) / num_train\n",
    "\n",
    "print(matrix_rank(A))\n",
    "print(S.shape)\n",
    "print(S_low_dim.shape)"
   ]
  },
  {
   "cell_type": "code",
   "execution_count": 10,
   "metadata": {},
   "outputs": [],
   "source": [
    "# Compute the egenvalues \n",
    "\n",
    "eigvals_low_dim, eigvecs_low_dim = np.linalg.eig(S_low_dim)\n",
    "eigvals_low_dim = eigvals_low_dim.real\n",
    "eigvecs_low_dim = eigvecs_low_dim.real"
   ]
  },
  {
   "cell_type": "code",
   "execution_count": 11,
   "metadata": {},
   "outputs": [
    {
     "name": "stdout",
     "output_type": "stream",
     "text": [
      "(416,)\n",
      "(416, 416)\n",
      "(415,)\n",
      "(416, 415)\n"
     ]
    }
   ],
   "source": [
    "# Compute the nonzero eigenvalues and their eigenvectors\n",
    "\n",
    "print(eigvals_low_dim.shape)\n",
    "print(eigvecs_low_dim.shape)\n",
    "\n",
    "nonzero_eigvals_low_dim = eigvals_low_dim[abs(eigvals_low_dim) >= 1e-7]\n",
    "print(nonzero_eigvals_low_dim.shape)\n",
    "\n",
    "eigvecs_nonzero_eigvals_low_dim = eigvecs_low_dim[:,abs(eigvals_low_dim) >= 1e-7]\n",
    "print(eigvecs_nonzero_eigvals_low_dim.shape)"
   ]
  },
  {
   "cell_type": "code",
   "execution_count": 12,
   "metadata": {},
   "outputs": [
    {
     "data": {
      "text/plain": [
       "<matplotlib.image.AxesImage at 0x11279cc18>"
      ]
     },
     "execution_count": 12,
     "metadata": {},
     "output_type": "execute_result"
    },
    {
     "data": {
      "image/png": "[encoded data removed]",
      "text/plain": [
       "<Figure size 432x288 with 1 Axes>"
      ]
     },
     "metadata": {},
     "output_type": "display_data"
    }
   ],
   "source": [
    "# Choose the eigenvectors with M largest eigenvalues as eigenfaces and \n",
    "# convert them to the eigenvectors of S and normalize them\n",
    "\n",
    "eigfaces_low_dim_unnormalized = A.dot(eigvecs_nonzero_eigvals_low_dim[:,np.argsort(-nonzero_eigvals_low_dim)[:M]])\n",
    "\n",
    "eigfaces_low_dim = (preprocessing.normalize(eigfaces_low_dim_unnormalized.T, norm='l2')).T\n",
    "\n",
    "#print(eigfaces_low_dim[:,0])\n",
    "#print(eigfaces[:,0])\n",
    "#print(eigfaces_low_dim.shape)\n",
    "\n",
    "plt.imshow(np.reshape(eigfaces_low_dim[:,0],(46,56)).T, cmap = 'gist_gray')"
   ]
  },
  {
   "cell_type": "markdown",
   "metadata": {},
   "source": [
    "# Application of Eigenfaces a (reconstruction)"
   ]
  },
  {
   "cell_type": "code",
   "execution_count": 13,
   "metadata": {},
   "outputs": [
    {
     "name": "stdout",
     "output_type": "stream",
     "text": [
      "[[ -922.39994599  -242.2601015    847.24709315 ...    53.43522273\n",
      "     -8.12981802   -31.98605466]\n",
      " [ 1711.38681662   845.43688343  -475.95211741 ...    31.9763393\n",
      "      9.93423667    51.0511837 ]\n",
      " [  793.21695347  -209.70726473   509.6252015  ...   -35.98416969\n",
      "     18.62575401    66.73036697]\n",
      " ...\n",
      " [ 1767.47336834    88.08282385   419.56085251 ...    30.16167037\n",
      "   -103.09492361   -47.1958111 ]\n",
      " [-1033.68585544   475.60510554   815.27897029 ...     6.61797883\n",
      "     13.53217045     7.12799229]\n",
      " [ 1007.87762779   541.98961197 -1008.27017722 ...   100.10525438\n",
      "     64.43091754   157.72594301]]\n"
     ]
    }
   ],
   "source": [
    "# Project faces onto eigenfaces\n",
    "\n",
    "W = (A.T).dot(eigfaces_low_dim) \n",
    "# the ith row of w represents the projection of the ith image\n",
    "# the number of columns is the number of eigenfaces\n",
    "# the number of rows is number of training data\n",
    "\n",
    "print(W)"
   ]
  },
  {
   "cell_type": "code",
   "execution_count": 14,
   "metadata": {},
   "outputs": [
    {
     "name": "stdout",
     "output_type": "stream",
     "text": [
      "524.5628908635507\n"
     ]
    },
    {
     "data": {
      "text/plain": [
       "(Text(0.5,1,'Reconstructed'),\n",
       " ([], <a list of 0 Text xticklabel objects>),\n",
       " ([], <a list of 0 Text yticklabel objects>))"
      ]
     },
     "execution_count": 14,
     "metadata": {},
     "output_type": "execute_result"
    },
    {
     "data": {
      "image/png": "[encoded data removed]",
      "text/plain": [
       "<Figure size 432x288 with 2 Axes>"
      ]
     },
     "metadata": {},
     "output_type": "display_data"
    }
   ],
   "source": [
    "# Face image reconstruction\n",
    "\n",
    "reconstructed_train_data = avg_face.reshape(num_pix,1) + eigfaces_low_dim.dot(W.T)\n",
    "\n",
    "error_train = np.linalg.norm((train_data - reconstructed_train_data),axis=0)\n",
    "print(np.average(error_train))\n",
    "\n",
    "plt.subplot(211),plt.imshow(np.reshape(train_data[:,1],(46,56)).T, cmap = 'gist_gray')\n",
    "plt.title('Original'), plt.xticks([]), plt.yticks([])\n",
    "plt.subplot(212),plt.imshow(np.reshape(reconstructed_train_data[:,1],(46,56)).T, cmap = 'gist_gray')\n",
    "plt.title('Reconstructed'), plt.xticks([]), plt.yticks([])"
   ]
  },
  {
   "cell_type": "markdown",
   "metadata": {},
   "source": [
    "# Application of Eigenfaces b (NN classification)"
   ]
  },
  {
   "cell_type": "code",
   "execution_count": 15,
   "metadata": {},
   "outputs": [
    {
     "name": "stdout",
     "output_type": "stream",
     "text": [
      "(104, 100)\n",
      "[20 41 34 37 15 19 22 33  8 22  2 36 23 29 43 42 44 11 50  6  4  5 15 33\n",
      "  1  6 39 45  3 36 52 11 23 49 48 33 33 23 45  1 10  1 24 40 19 27 24 35\n",
      " 14  2  4 15  6 23 32  9 30 16 34 32  5  9 50 16 46 23 37  9  4 22 48 52\n",
      " 31 34 46  6 50 43 10 17 39  9 18  5 48 40 37 14 39 42 16 16 18 10 14 24\n",
      " 15 41 47 51 24 17 31 21]\n",
      "[20, 41, 35, 37, 15, 25, 14, 33, 8, 22, 32, 36, 23, 29, 27, 42, 29, 11, 39, 51, 3, 5, 22, 33, 10, 6, 39, 45, 3, 36, 52, 29, 16, 49, 48, 11, 33, 23, 45, 1, 10, 42, 24, 35, 49, 25, 6, 35, 15, 5, 4, 21, 6, 11, 32, 9, 47, 8, 34, 32, 5, 9, 50, 7, 46, 23, 39, 9, 4, 11, 39, 52, 31, 8, 46, 6, 50, 11, 10, 30, 39, 9, 18, 5, 29, 40, 37, 20, 39, 44, 35, 16, 46, 10, 14, 7, 22, 46, 17, 51, 24, 17, 31, 21]\n"
     ]
    }
   ],
   "source": [
    "A_test = test_data - avg_face.reshape(num_pix,1)\n",
    "W_test = (A_test.T).dot(eigfaces_low_dim)\n",
    "\n",
    "print(W_test.shape)\n",
    "\n",
    "test_results = []\n",
    "for row in W_test:\n",
    "    index = np.argmin(np.linalg.norm(row - W, axis=1))\n",
    "    test_results.append(face_id[0,train_id[index]])\n",
    "    \n",
    "true_results = face_id[0,test_id]\n",
    "\n",
    "print(true_results)\n",
    "print(test_results)"
   ]
  },
  {
   "cell_type": "code",
   "execution_count": 16,
   "metadata": {},
   "outputs": [
    {
     "name": "stdout",
     "output_type": "stream",
     "text": [
      "0.6057692307692307\n",
      "[[1 0 0 ... 0 0 0]\n",
      " [0 0 0 ... 0 0 0]\n",
      " [0 0 1 ... 0 0 0]\n",
      " ...\n",
      " [0 0 0 ... 2 0 0]\n",
      " [0 0 0 ... 0 1 0]\n",
      " [0 0 0 ... 0 0 2]]\n"
     ]
    },
    {
     "data": {
      "image/png": "[encoded data removed]",
      "text/plain": [
       "<Figure size 288x288 with 2 Axes>"
      ]
     },
     "metadata": {},
     "output_type": "display_data"
    }
   ],
   "source": [
    "results_error = test_results - true_results\n",
    "\n",
    "success_rate = np.count_nonzero(results_error == 0) / len(true_results)\n",
    "print(success_rate)\n",
    "\n",
    "cm = confusion_matrix(true_results, test_results)\n",
    "\n",
    "print(cm)\n",
    "plt.matshow(cm, cmap = 'Blues')\n",
    "plt.colorbar()\n",
    "plt.ylabel('Actual')\n",
    "plt.xlabel('Predicted')\n",
    "plt.show()"
   ]
  },
  {
   "cell_type": "code",
   "execution_count": 17,
   "metadata": {},
   "outputs": [
    {
     "name": "stdout",
     "output_type": "stream",
     "text": [
      "Error: 938.0\n"
     ]
    },
    {
     "data": {
      "image/png": "[encoded data removed]",
      "text/plain": [
       "<Figure size 432x288 with 2 Axes>"
      ]
     },
     "metadata": {},
     "output_type": "display_data"
    }
   ],
   "source": [
    "j = 5\n",
    "\n",
    "reconstructed_test_data = avg_face.reshape(num_pix,1) + eigfaces_low_dim.dot(W_test.T)\n",
    "\n",
    "error = np.linalg.norm(test_data[:,j].reshape(num_pix,1) - reconstructed_test_data[:,j].reshape(num_pix,1))\n",
    "\n",
    "plt.subplot(211),plt.imshow(np.reshape(test_data[:,j],(46,56)).T, cmap = 'gist_gray')\n",
    "plt.title('Original'), plt.xticks([]), plt.yticks([])\n",
    "plt.subplot(212),plt.imshow(np.reshape(reconstructed_test_data[:,j],(46,56)).T, cmap = 'gist_gray')\n",
    "plt.title('Reconstructed'), plt.xticks([]), plt.yticks([])\n",
    "\n",
    "print(\"Error: \" + str(round(error)))"
   ]
  },
  {
   "cell_type": "code",
   "execution_count": null,
   "metadata": {},
   "outputs": [],
   "source": []
  },
  {
   "cell_type": "markdown",
   "metadata": {},
   "source": [
    "# Application of Eigenfaces b (Alternative method learnt)"
   ]
  },
  {
   "cell_type": "code",
   "execution_count": 19,
   "metadata": {},
   "outputs": [],
   "source": [
    "import time\n",
    "start = time.time()\n",
    "\n",
    "M_AM = 1\n",
    "\n",
    "def eigspace_generator(data):\n",
    "    num_train = len(data[0])\n",
    "    avg_face = data.mean(axis=1)\n",
    "    num_pix = len(data)\n",
    "    A = data - avg_face.reshape(num_pix,1)\n",
    "    S_low_dim = ((A.T).dot(A)) / num_train\n",
    "    eigvals_low_dim, eigvecs_low_dim = np.linalg.eig(S_low_dim)\n",
    "    eigvals_low_dim = eigvals_low_dim.real\n",
    "    eigvecs_low_dim = eigvecs_low_dim.real\n",
    "    nonzero_eigvals_low_dim = eigvals_low_dim[abs(eigvals_low_dim) >= 1e-7]\n",
    "    eigvecs_nonzero_eigvals_low_dim = eigvecs_low_dim[:,abs(eigvals_low_dim) >= 1e-7]\n",
    "    \n",
    "    eigfaces_low_dim_unnormalized = A.dot(eigvecs_nonzero_eigvals_low_dim[:,np.argsort(-nonzero_eigvals_low_dim)[:M_AM]]) \n",
    "    # Choose all the eigenvectors as eigenfaces in low_dim this case, since the maximum number of eigenfaces would\n",
    "    # not exceed 10\n",
    "    \n",
    "    eigfaces_low_dim = (preprocessing.normalize(eigfaces_low_dim_unnormalized.T, norm='l2')).T\n",
    "    list_eig_space.append(eigfaces_low_dim)\n",
    "    \n",
    "    list_avg_face.append(avg_face)\n",
    "\n",
    "    \n",
    "num_people = max(train_label)\n",
    "eig_space = np.zeros((num_people,num_pix,M_AM))\n",
    "sorted_train_data = train_data[:,np.argsort(train_label)]\n",
    "\n",
    "list_eig_space = [] # Each element of list_eig_space contains the eigenspace of the i+1th person\n",
    "list_avg_face = [] # Each element of list_avg_face contains the average face of the i+1th person\n",
    "list_projection = [] # Each element of list_projection contains the projection of the jth test data to different eigenspaces\n",
    "test_results_AM = []\n",
    "\n",
    "# Generate all eigenspaces\n",
    "column = 0\n",
    "for i in range(num_people):\n",
    "    num_faces = train_label.tolist().count(i+1)\n",
    "    eigspace_generator(sorted_train_data[:,column : column + num_faces])\n",
    "    column += num_faces\n"
   ]
  },
  {
   "cell_type": "code",
   "execution_count": 20,
   "metadata": {},
   "outputs": [
    {
     "name": "stdout",
     "output_type": "stream",
     "text": [
      "[20 41 34 37 15 19 22 33  8 22  2 36 23 29 43 42 44 11 50  6  4  5 15 33\n",
      "  1  6 39 45  3 36 52 11 23 49 48 33 33 23 45  1 10  1 24 40 19 27 24 35\n",
      " 14  2  4 15  6 23 32  9 30 16 34 32  5  9 50 16 46 23 37  9  4 22 48 52\n",
      " 31 34 46  6 50 43 10 17 39  9 18  5 48 40 37 14 39 42 16 16 18 10 14 24\n",
      " 15 41 47 51 24 17 31 21]\n",
      "[20, 27, 34, 37, 15, 25, 6, 33, 8, 22, 2, 36, 23, 47, 43, 42, 29, 11, 39, 17, 3, 5, 15, 33, 1, 6, 39, 39, 3, 31, 52, 36, 16, 26, 48, 7, 33, 23, 45, 1, 10, 1, 24, 35, 17, 51, 19, 33, 22, 5, 4, 20, 6, 26, 32, 9, 30, 8, 34, 40, 5, 9, 50, 42, 40, 23, 37, 9, 4, 18, 47, 52, 31, 13, 46, 19, 26, 42, 10, 30, 39, 9, 18, 5, 48, 34, 37, 3, 14, 42, 2, 19, 32, 10, 2, 1, 15, 46, 17, 51, 24, 17, 27, 21]\n"
     ]
    }
   ],
   "source": [
    "# Project each test data onto each eigenspace\n",
    "for j in range(len(test_data[0])): \n",
    "    error = [];\n",
    "    for i in range(num_people): \n",
    "        avgface_i = np.asarray(list_avg_face[i]).reshape(num_pix,1)\n",
    "        w = ((test_data[:,j].reshape(num_pix,1) - avgface_i).T).dot(list_eig_space[i]) # vector containing projection\n",
    "        reconstructed_data = avgface_i + list_eig_space[i].dot(w.T) \n",
    "        error.append(np.linalg.norm(test_data[:,j].reshape(num_pix,1) - reconstructed_data))\n",
    "        #print(test_data[:,j].shape)\n",
    "        #print(reconstructed_data)\n",
    "        #print('/n')\n",
    "    test_results_AM.append(np.argmin(error) + 1)\n",
    "    \n",
    "print(true_results)\n",
    "print (test_results_AM)"
   ]
  },
  {
   "cell_type": "code",
   "execution_count": 21,
   "metadata": {},
   "outputs": [
    {
     "name": "stdout",
     "output_type": "stream",
     "text": [
      "5.500298976898193\n"
     ]
    }
   ],
   "source": [
    "end = time.time()\n",
    "print(end - start)"
   ]
  },
  {
   "cell_type": "code",
   "execution_count": 22,
   "metadata": {},
   "outputs": [
    {
     "name": "stdout",
     "output_type": "stream",
     "text": [
      "0.5673076923076923\n",
      "[[3 0 0 ... 0 0 0]\n",
      " [0 1 0 ... 0 0 0]\n",
      " [0 0 1 ... 0 0 0]\n",
      " ...\n",
      " [0 0 0 ... 1 0 0]\n",
      " [0 0 0 ... 0 1 0]\n",
      " [0 0 0 ... 0 0 2]]\n"
     ]
    },
    {
     "data": {
      "image/png": "[encoded data removed]",
      "text/plain": [
       "<Figure size 288x288 with 2 Axes>"
      ]
     },
     "metadata": {},
     "output_type": "display_data"
    }
   ],
   "source": [
    "results_error_AM = test_results_AM - true_results\n",
    "\n",
    "success_rate_AM = np.count_nonzero(results_error_AM == 0) / len(true_results)\n",
    "print(success_rate_AM)\n",
    "\n",
    "cm_AM = confusion_matrix(true_results, test_results_AM)\n",
    "\n",
    "print(cm_AM)\n",
    "plt.matshow(cm_AM, cmap = 'Blues')\n",
    "plt.colorbar()\n",
    "plt.ylabel('Actual')\n",
    "plt.xlabel('Predicted')\n",
    "plt.show()"
   ]
  },
  {
   "cell_type": "code",
   "execution_count": 175,
   "metadata": {},
   "outputs": [
    {
     "name": "stdout",
     "output_type": "stream",
     "text": [
      "Error of same ID: 1650.0       different ID: 2065.0\n"
     ]
    },
    {
     "data": {
      "image/png": "[encoded data removed]",
      "text/plain": [
       "<Figure size 432x288 with 4 Axes>"
      ]
     },
     "metadata": {},
     "output_type": "display_data"
    }
   ],
   "source": [
    "j = 2\n",
    "\n",
    "#same\n",
    "i = true_results[j] - 1\n",
    "\n",
    "avgface_i = np.asarray(list_avg_face[i]).reshape(num_pix,1)\n",
    "w = ((test_data[:,j].reshape(num_pix,1) - avgface_i).T).dot(list_eig_space[i]) # vector containing projection\n",
    "reconstructed_data = avgface_i + list_eig_space[i].dot(w.T) \n",
    "error1 = np.linalg.norm(test_data[:,j].reshape(num_pix,1) - reconstructed_data)\n",
    "\n",
    "plt.subplot(221),plt.imshow(np.reshape(test_data[:,j],(46,56)).T, cmap = 'gist_gray')\n",
    "plt.title('Test data'), plt.xticks([]), plt.yticks([])\n",
    "plt.subplot(223),plt.imshow(np.reshape(reconstructed_data,(46,56)).T, cmap = 'gist_gray')\n",
    "plt.title('Reconstructed of same ID'), plt.xticks([]), plt.yticks([])\n",
    "\n",
    "#different\n",
    "i = 1\n",
    "\n",
    "avgface_i = np.asarray(list_avg_face[i]).reshape(num_pix,1)\n",
    "w = ((test_data[:,j].reshape(num_pix,1) - avgface_i).T).dot(list_eig_space[i]) # vector containing projection\n",
    "reconstructed_data = avgface_i + list_eig_space[i].dot(w.T) \n",
    "error2 = np.linalg.norm(test_data[:,j].reshape(num_pix,1) - reconstructed_data)\n",
    "\n",
    "plt.subplot(222),plt.imshow(np.reshape(test_data[:,j],(46,56)).T, cmap = 'gist_gray')\n",
    "plt.title('Test data'), plt.xticks([]), plt.yticks([])\n",
    "plt.subplot(224),plt.imshow(np.reshape(reconstructed_data,(46,56)).T, cmap = 'gist_gray')\n",
    "plt.title('Reconstructed of different ID'), plt.xticks([]), plt.yticks([])\n",
    "\n",
    "plt.suptitle('Success Case')\n",
    "    \n",
    "print(\"Error of same ID: \" + str(round(error1)) + \"       different ID: \" + str(round(error2)))"
   ]
  },
  {
   "cell_type": "markdown",
   "metadata": {},
   "source": [
    "# PCA-LAD"
   ]
  },
  {
   "cell_type": "code",
   "execution_count": 155,
   "metadata": {},
   "outputs": [],
   "source": [
    "sorted_train_data = train_data[:,np.argsort(train_label)]\n",
    "sorted_train_label = train_label[np.argsort(train_label)]"
   ]
  },
  {
   "cell_type": "code",
   "execution_count": 75,
   "metadata": {},
   "outputs": [],
   "source": [
    "# Compute class mean M, the class mean for the i-th class is the \n",
    "# i-th column vector of M \n",
    "\n",
    "c = len(counts_train) # number of classes\n",
    "M = np.zeros((num_pix, c))\n",
    "\n",
    "list_Sw = [] # Each element of list_Sw contains the with-in scatter matrix of the i+1th class\n",
    "\n",
    "current_index = 0;\n",
    "for idx,cnt in enumerate(counts_train):\n",
    "    X = sorted_train_data[:,current_index : current_index + cnt]\n",
    "    M[:,idx] = (X.mean(axis=1))\n",
    "    A_Sw =  X - M[:,idx].reshape(num_pix,1)\n",
    "    Sw = A_Sw.dot(A_Sw.T)\n",
    "    list_Sw.append(Sw)\n",
    "    current_index += cnt"
   ]
  },
  {
   "cell_type": "code",
   "execution_count": 76,
   "metadata": {},
   "outputs": [
    {
     "name": "stdout",
     "output_type": "stream",
     "text": [
      "51\n",
      "51\n"
     ]
    }
   ],
   "source": [
    "# Compute between-scatter matrix Sb\n",
    "\n",
    "A_Sb =  M - avg_face.reshape(num_pix,1)\n",
    "Sb = A_Sb.dot(A_Sb.T)\n",
    "print(matrix_rank(Sb))\n",
    "print(c-1)"
   ]
  },
  {
   "cell_type": "code",
   "execution_count": 77,
   "metadata": {},
   "outputs": [
    {
     "name": "stdout",
     "output_type": "stream",
     "text": [
      "364\n",
      "364\n"
     ]
    }
   ],
   "source": [
    "# Compute within-scatter matrix Sw\n",
    "N = num_train\n",
    "Sw = np.zeros((num_pix,num_pix))\n",
    "\n",
    "for i in range(c):\n",
    "    Sw += list_Sw[i]\n",
    "    \n",
    "print(matrix_rank(Sw))\n",
    "print(N-c)"
   ]
  },
  {
   "cell_type": "code",
   "execution_count": 116,
   "metadata": {},
   "outputs": [],
   "source": [
    "# PCA to reduce dimenstion to Mpca\n",
    "\n",
    "M_pca= 150\n",
    "    \n",
    "W_pca_unnormalized = A.dot(eigvecs_nonzero_eigvals_low_dim[:,np.argsort(-nonzero_eigvals_low_dim)[:M_pca]]) \n",
    "W_pca = (preprocessing.normalize(W_pca_unnormalized.T, norm='l2')).T"
   ]
  },
  {
   "cell_type": "code",
   "execution_count": 117,
   "metadata": {},
   "outputs": [],
   "source": [
    "# Project Sw and Sb to PCA reduced subspace\n",
    "Sb_pca = (W_pca.T).dot(Sb.dot(W_pca))\n",
    "Sw_pca = (W_pca.T).dot(Sw.dot(W_pca))\n",
    "\n",
    "#print(Sw_pca.shape)"
   ]
  },
  {
   "cell_type": "code",
   "execution_count": 132,
   "metadata": {},
   "outputs": [
    {
     "name": "stdout",
     "output_type": "stream",
     "text": [
      "51\n",
      "(150,)\n",
      "(150, 150)\n",
      "(51,)\n",
      "(150, 51)\n",
      "(150, 50)\n"
     ]
    }
   ],
   "source": [
    "# Perform LDA on the reduced subspace\n",
    "\n",
    "eigvals_lda, eigvecs_lda = np.linalg.eig((inv(Sw_pca)).dot(Sb_pca))\n",
    "eigvals_lda = eigvals_lda.real\n",
    "eigvecs_lda = eigvecs_lda.real\n",
    "\n",
    "print(matrix_rank((inv(Sw_pca)).dot(Sb_pca)))\n",
    "print(eigvals_lda.shape)\n",
    "print(eigvecs_lda.shape)\n",
    "\n",
    "nonzero_eigvals_lda = eigvals_lda[abs(eigvals_lda) >= 1e-7]\n",
    "print(nonzero_eigvals_lda.shape)\n",
    "\n",
    "eigvecs_nonzero_eigvals_lda = eigvecs_lda[:,abs(eigvals_lda) >= 1e-7]\n",
    "print(eigvecs_nonzero_eigvals_lda.shape)\n",
    "\n",
    "M_lda = 50\n",
    "\n",
    "sorted_index_lda = np.argsort(-nonzero_eigvals_lda)[:M_lda]\n",
    "#print(sorted_index_lda)\n",
    "\n",
    "W_lda = eigvecs_nonzero_eigvals_lda[:,sorted_index_lda]\n",
    "print(W_lda.shape)\n"
   ]
  },
  {
   "cell_type": "code",
   "execution_count": 133,
   "metadata": {},
   "outputs": [
    {
     "name": "stdout",
     "output_type": "stream",
     "text": [
      "(104, 150)\n",
      "(104, 50)\n",
      "[40 23 35  9 48 49 26 50 18 46 51 34 32  4 13 28 34 17 11 11 30 27 52 13\n",
      " 14 50 37 39 11 31 27  5 11 44  8 45 24 45 47 17 38 35  2  5  2 24 43 12\n",
      " 38 19 35  5 49 46 49 25  6 30 24  2 12 11 22 38 20 36 46  6 34 12 44 42\n",
      " 26 44 49 37 50 25 14 20  9  8 34 26 20 15  5 33  3 31 47 41 32 51 18 13\n",
      "  1 26 47 44 46 14  5 48]\n",
      "[40, 23, 35, 9, 48, 49, 26, 38, 18, 46, 51, 34, 32, 4, 13, 28, 32, 17, 11, 11, 29, 27, 52, 13, 14, 39, 37, 39, 11, 31, 27, 5, 49, 44, 8, 45, 25, 45, 33, 17, 26, 35, 2, 5, 2, 24, 43, 12, 38, 19, 35, 5, 49, 46, 49, 25, 6, 30, 24, 2, 12, 11, 22, 38, 20, 36, 16, 6, 34, 12, 44, 42, 38, 44, 49, 37, 50, 25, 14, 20, 9, 8, 32, 26, 20, 21, 5, 33, 3, 31, 38, 41, 32, 51, 18, 13, 1, 26, 47, 29, 29, 14, 5, 48]\n"
     ]
    }
   ],
   "source": [
    "# NN-classification\n",
    "\n",
    "# Project train faces onto LDA subspace\n",
    "W_train_pca = (A.T).dot(W_pca)\n",
    "W_train_lda = (W_train_pca).dot(W_lda)\n",
    "\n",
    "A_test_lda = test_data - avg_face.reshape(num_pix,1)\n",
    "\n",
    "# Project test data to PCA subspace\n",
    "W_test_pca = (A_test_lda.T).dot(W_pca) # Coordinates (row vector) on PCA subspace\n",
    "\n",
    "# Project test data to LDA subspace\n",
    "W_test_lda = (W_test_pca).dot(W_lda) # Coordinates (row vector) on LDA subspace\n",
    "\n",
    "print(W_test_pca.shape)\n",
    "print(W_test_lda.shape)\n",
    "\n",
    "test_results_lda = []\n",
    "for row in W_test_lda:\n",
    "    index = np.argmin(np.linalg.norm(row - W_train_lda, axis=1))\n",
    "    test_results_lda.append(face_id[0,train_id[index]])\n",
    "    \n",
    "true_results = face_id[0,test_id]\n",
    "\n",
    "print(true_results)\n",
    "print(test_results_lda)\n",
    "\n"
   ]
  },
  {
   "cell_type": "code",
   "execution_count": 134,
   "metadata": {},
   "outputs": [
    {
     "name": "stdout",
     "output_type": "stream",
     "text": [
      "0.8557692307692307\n",
      "[[1 0 0 ... 0 0 0]\n",
      " [0 3 0 ... 0 0 0]\n",
      " [0 0 1 ... 0 0 0]\n",
      " ...\n",
      " [0 0 0 ... 1 0 0]\n",
      " [0 0 0 ... 0 2 0]\n",
      " [0 0 0 ... 0 0 1]]\n"
     ]
    },
    {
     "data": {
      "image/png": "[encoded data removed]",
      "text/plain": [
       "<Figure size 288x288 with 2 Axes>"
      ]
     },
     "metadata": {
      "needs_background": "light"
     },
     "output_type": "display_data"
    }
   ],
   "source": [
    "results_error_lda = test_results_lda - true_results\n",
    "\n",
    "success_rate = np.count_nonzero(results_error_lda == 0) / len(true_results)\n",
    "print(success_rate)\n",
    "\n",
    "cm = confusion_matrix(true_results, test_results_lda)\n",
    "\n",
    "print(cm)\n",
    "plt.matshow(cm, cmap = 'Blues')\n",
    "plt.colorbar()\n",
    "plt.ylabel('Actual')\n",
    "plt.xlabel('Predicted')\n",
    "plt.show()"
   ]
  },
  {
   "cell_type": "code",
   "execution_count": 135,
   "metadata": {},
   "outputs": [
    {
     "data": {
      "text/plain": [
       "<matplotlib.image.AxesImage at 0x7c1423b780>"
      ]
     },
     "execution_count": 135,
     "metadata": {},
     "output_type": "execute_result"
    },
    {
     "data": {
      "image/png": "[encoded data removed]",
      "text/plain": [
       "<Figure size 432x288 with 1 Axes>"
      ]
     },
     "metadata": {
      "needs_background": "light"
     },
     "output_type": "display_data"
    }
   ],
   "source": [
    "# Generate fisherfaces by converting Wlda back to its original data space\n",
    "\n",
    "fisherfaces = W_pca.dot(W_lda) # Columns are fisherfaces\n",
    "\n",
    "plt.imshow(np.reshape(fisherfaces[:,0],(46,56)).T, cmap = 'gist_gray')"
   ]
  },
  {
   "cell_type": "markdown",
   "metadata": {},
   "source": [
    "# PCA-LDA Ensemble "
   ]
  },
  {
   "cell_type": "code",
   "execution_count": 176,
   "metadata": {},
   "outputs": [],
   "source": [
    "import random\n",
    "\n",
    "T = 10\n",
    "M0 = 100\n",
    "M1 = 100\n",
    "# Mpca = M0 + M1 should not exceed \n",
    "M_lda = 25\n",
    "n_sample = 7 # number of samples per class\n",
    "\n",
    "# Generate random subspaces \n",
    "def rand_subspace(eigvecs,eigvals):\n",
    "    subspace = eigvecs[:,np.argsort(-eigvals)[ : M0]]\n",
    "    #print(len(eigvals))\n",
    "    index = (np.argsort(eigvals)[ : len(eigvals) - M0]).tolist()\n",
    "    rand_index = random.sample(index, M1)  \n",
    "    subspace = np.concatenate((subspace, eigvecs[:,rand_index]), axis=1)\n",
    "    return subspace\n",
    "\n",
    "# Bagging (from every class)\n",
    "def rand_sample(sorted_train_data,sorted_train_label,counts_train):\n",
    "    sample = list()\n",
    "    label = list()\n",
    "    current_index = 0\n",
    "    for idx,cnt in enumerate(counts_train):\n",
    "        for j in range(n_sample):\n",
    "            index = random.randrange(current_index, current_index + cnt, 1)\n",
    "            sample.append(sorted_train_data[:,index])\n",
    "            label.append(sorted_train_label[index])\n",
    "        current_index += cnt\n",
    "    \n",
    "    return ((np.asarray(sample)).T), np.asarray(label)\n",
    "\n",
    "# Generate eigenspace of data set using PCA\n",
    "def eigspace_generator_ensemble(data):\n",
    "    num_train = len(data[0])\n",
    "    avg_face = data.mean(axis=1)\n",
    "    num_pix = len(data)\n",
    "    A = data - avg_face.reshape(num_pix,1)\n",
    "    S_low_dim = ((A.T).dot(A)) / num_train\n",
    "    eigvals_low_dim, eigvecs_low_dim = np.linalg.eig(S_low_dim)\n",
    "    eigvals_low_dim = eigvals_low_dim.real\n",
    "    eigvecs_low_dim = eigvecs_low_dim.real\n",
    "    nonzero_eigvals_low_dim = eigvals_low_dim[abs(eigvals_low_dim) >= 1e-7]\n",
    "    eigvecs_nonzero_eigvals_low_dim = eigvecs_low_dim[:,abs(eigvals_low_dim) >= 1e-7]\n",
    "    eigfaces_low_dim_unnormalized = A.dot(eigvecs_nonzero_eigvals_low_dim[:,np.argsort(-nonzero_eigvals_low_dim)[:]]) \n",
    "    eigfaces_low_dim = (preprocessing.normalize(eigfaces_low_dim_unnormalized.T, norm='l2')).T\n",
    "    return eigfaces_low_dim, nonzero_eigvals_low_dim\n"
   ]
  },
  {
   "cell_type": "code",
   "execution_count": null,
   "metadata": {},
   "outputs": [],
   "source": []
  },
  {
   "cell_type": "code",
   "execution_count": 177,
   "metadata": {},
   "outputs": [],
   "source": [
    "def lda_rand_subspace(W_pca,test_data): # test_data single column vector\n",
    "    \n",
    "    Sb_pca = (W_pca.T).dot(Sb.dot(W_pca))\n",
    "    Sw_pca = (W_pca.T).dot(Sw.dot(W_pca))\n",
    "    \n",
    "    eigvals_lda, eigvecs_lda = np.linalg.eig((inv(Sw_pca)).dot(Sb_pca))\n",
    "    eigvals_lda = eigvals_lda.real\n",
    "    eigvecs_lda = eigvecs_lda.real\n",
    "\n",
    "    nonzero_eigvals_lda = eigvals_lda[abs(eigvals_lda) >= 1e-7]\n",
    "    eigvecs_nonzero_eigvals_lda = eigvecs_lda[:,abs(eigvals_lda) >= 1e-7]\n",
    "    \n",
    "    sorted_index_lda = np.argsort(-nonzero_eigvals_lda)[:M_lda]\n",
    "\n",
    "    W_lda = eigvecs_nonzero_eigvals_lda[:,sorted_index_lda]\n",
    "    \n",
    "    # NN-classification\n",
    "\n",
    "    W_train_pca = (A.T).dot(W_pca)\n",
    "    W_train_lda = (W_train_pca).dot(W_lda)\n",
    "    sorted_W_train_lda = W_train_lda[np.argsort(train_label),:]\n",
    "\n",
    "    A_test_lda = test_data.reshape(num_pix,1) - avg_face.reshape(num_pix,1)\n",
    "\n",
    "    # Project test data to PCA subspace\n",
    "    W_test_pca = (A_test_lda.T).dot(W_pca) # Coordinates (row vector) on PCA subspace\n",
    "    # Project test data to LDA subspace\n",
    "    W_test_lda = (W_test_pca).dot(W_lda) # Coordinates (row vector) on LDA subspace\n",
    "    \n",
    "    distance = np.linalg.norm(W_test_lda - sorted_W_train_lda, axis=1) # row vector containing Euclidiean distance to each tranining data\n",
    "   \n",
    "        \n",
    "    min_distance = []\n",
    "    current_index = 0;\n",
    "    for idx,cnt in enumerate(counts_train):\n",
    "        distance = distance.reshape(len(distance),1)\n",
    "        distance[current_index : current_index + cnt,:]\n",
    "        min_distance.append(min(distance[current_index : current_index + cnt,:]))\n",
    "        current_index += cnt\n",
    "    \n",
    "    post_distribution = (min_distance / sum(min_distance)) \n",
    "    \n",
    "    return post_distribution"
   ]
  },
  {
   "cell_type": "code",
   "execution_count": 178,
   "metadata": {},
   "outputs": [],
   "source": [
    "def lda_cascade(train_data,train_label,W_pca,test_data): # test_data single column vector\n",
    "\n",
    "\n",
    "    avg_face = train_data.mean(axis=1)\n",
    "    num_pix = len(train_data)\n",
    "    unique_train, counts_train = np.unique(train_label, return_counts=True)\n",
    "    c = max(train_label) # number of classes\n",
    "    M = np.zeros((num_pix, c))\n",
    "\n",
    "    list_Sw = [] # Each element of list_Sw contains the with-in scatter matrix of the i+1th class\n",
    "\n",
    "    current_index = 0;\n",
    "    for idx in range(c):\n",
    "        X = train_data[:,current_index : current_index + n_sample]\n",
    "        M[:,idx] = (X.mean(axis=1))\n",
    "        A_Sw =  X - M[:,idx].reshape(num_pix,1)\n",
    "        Sw = A_Sw.dot(A_Sw.T)\n",
    "        list_Sw.append(Sw)\n",
    "        current_index += n_sample\n",
    "\n",
    "    # Compute between-scatter matrix Sb\n",
    "\n",
    "    A_Sb =  M - avg_face.reshape(num_pix,1)\n",
    "    Sb = A_Sb.dot(A_Sb.T)\n",
    "\n",
    "    # Compute within-scatter matrix Sw\n",
    "    Sw = np.zeros((num_pix,num_pix))\n",
    "\n",
    "    for i in range(c):\n",
    "        Sw += list_Sw[i]\n",
    "\n",
    "    # PCA to reduce dimenstion to Mpca\n",
    "    \n",
    "    Sb_pca = (W_pca.T).dot(Sb.dot(W_pca))\n",
    "    Sw_pca = (W_pca.T).dot(Sw.dot(W_pca))\n",
    "    \n",
    "    eigvals_lda, eigvecs_lda = np.linalg.eig((inv(Sw_pca)).dot(Sb_pca))\n",
    "    eigvals_lda = eigvals_lda.real\n",
    "    eigvecs_lda = eigvecs_lda.real\n",
    "\n",
    "    nonzero_eigvals_lda = eigvals_lda[abs(eigvals_lda) >= 1e-7]\n",
    "    eigvecs_nonzero_eigvals_lda = eigvecs_lda[:,abs(eigvals_lda) >= 1e-7]\n",
    "    \n",
    "    sorted_index_lda = np.argsort(-nonzero_eigvals_lda)[:M_lda]\n",
    "\n",
    "    W_lda = eigvecs_nonzero_eigvals_lda[:,sorted_index_lda]\n",
    "\n",
    "    # NN-classification\n",
    "\n",
    "    W_train_pca = (A.T).dot(W_pca)\n",
    "    W_train_lda = (W_train_pca).dot(W_lda)\n",
    "    sorted_W_train_lda = W_train_lda[np.argsort(train_label),:]\n",
    "\n",
    "    A_test_lda = test_data.reshape(num_pix,1) - avg_face.reshape(num_pix,1)\n",
    "\n",
    "    # Project test data to PCA subspace\n",
    "    W_test_pca = (A_test_lda.T).dot(W_pca) # Coordinates (row vector) on PCA subspace\n",
    "    # Project test data to LDA subspace\n",
    "    W_test_lda = (W_test_pca).dot(W_lda) # Coordinates (row vector) on LDA subspace\n",
    "    \n",
    "    distance = np.linalg.norm(W_test_lda - sorted_W_train_lda, axis=1) # row vector containing Euclidiean distance to each tranining data\n",
    "   \n",
    "        \n",
    "    min_distance = []\n",
    "    current_index = 0;\n",
    "    for idx,cnt in enumerate(counts_train):\n",
    "        distance = distance.reshape(len(distance),1)\n",
    "        distance[current_index : current_index + cnt,:]\n",
    "        min_distance.append(min(distance[current_index : current_index + cnt,:]))\n",
    "        current_index += cnt\n",
    "    \n",
    "    post_distribution = (min_distance / sum(min_distance)) \n",
    "    \n",
    "    return post_distribution"
   ]
  },
  {
   "cell_type": "markdown",
   "metadata": {},
   "source": [
    "# Cascade two randomization"
   ]
  },
  {
   "cell_type": "code",
   "execution_count": 12,
   "metadata": {},
   "outputs": [],
   "source": [
    "# Bagging\n",
    "\n",
    "S = []\n",
    "S_label = []\n",
    "\n",
    "for i in range(T):\n",
    "    data,label = rand_sample(sorted_train_data,sorted_train_label,counts_train)\n",
    "    S.append(data) # generate T random training subset\n",
    "    S_label.append(label)\n",
    "\n",
    "R = [] \n",
    "for i in range(T):\n",
    "    eigenvectors, eigenvalues = eigspace_generator_ensemble(S[i])\n",
    "    R.append(rand_subspace(eigenvectors,eigenvalues)) # generate T random subspaces\n",
    "    "
   ]
  },
  {
   "cell_type": "code",
   "execution_count": 13,
   "metadata": {},
   "outputs": [
    {
     "name": "stdout",
     "output_type": "stream",
     "text": [
      "[ 6  2 48 36 13 50  7 13 47 26 21 47 20  3 20 25 33 51 41 11 31 31 30  8\n",
      "  3  1 52 15 43 18  7 33 15  4 47 23 10 19 27 17 12 51  4 49  6 42 38  7\n",
      " 17 48  8 51]\n"
     ]
    }
   ],
   "source": [
    "true_results = face_id[0,test_id]\n",
    "print(true_results)"
   ]
  },
  {
   "cell_type": "code",
   "execution_count": null,
   "metadata": {},
   "outputs": [
    {
     "name": "stdout",
     "output_type": "stream",
     "text": [
      "[10]\n",
      "[10, 36]\n",
      "[10, 36, 42]\n",
      "[10, 36, 42, 28]\n"
     ]
    }
   ],
   "source": [
    "test_results_ensemble = []\n",
    "for i in range(len(test_data[0])):\n",
    "    post_distribution = [] # each column vector contains posterior distribution of each model\n",
    "    \n",
    "    for j in range(T):\n",
    "        post_distribution.append(lda_cascade(S[j],S_label[j],R[j],test_data[:,i])) # perform lda on each subspaces learnt\n",
    "\n",
    "    sum(post_distribution)\n",
    "    index = np.argmin(sum(post_distribution) / T) + 1\n",
    "    test_results_ensemble.append(index)\n",
    "    print(test_results_ensemble)\n",
    "    \n",
    "print(test_results_ensemble)"
   ]
  },
  {
   "cell_type": "code",
   "execution_count": null,
   "metadata": {},
   "outputs": [],
   "source": [
    "results_error_ensemble = test_results_ensemble - true_results\n",
    "\n",
    "success_rate = np.count_nonzero(results_error_ensemble == 0) / len(true_results)\n",
    "print(success_rate)\n",
    "\n",
    "cm = confusion_matrix(true_results, test_results_ensemble)\n",
    "\n",
    "print(cm)\n",
    "plt.matshow(cm, cmap = 'Blues')\n",
    "plt.colorbar()\n",
    "plt.ylabel('Actual')\n",
    "plt.xlabel('Predicted')\n",
    "plt.show()"
   ]
  },
  {
   "cell_type": "markdown",
   "metadata": {},
   "source": [
    "# Committe machine with randomized feature space"
   ]
  },
  {
   "cell_type": "code",
   "execution_count": 179,
   "metadata": {},
   "outputs": [
    {
     "name": "stdout",
     "output_type": "stream",
     "text": [
      "[34, 20, 35, 9, 48, 49, 26, 38, 18, 46, 51, 34, 32, 4, 13, 28, 34, 17, 11, 11, 29, 27, 52, 13, 14, 39, 37, 39, 15, 31, 27, 5, 11, 44, 8, 45, 17, 45, 33, 17, 38, 41, 2, 5, 2, 24, 43, 12, 38, 19, 35, 5, 49, 46, 49, 25, 6, 30, 24, 2, 12, 11, 22, 38, 20, 36, 46, 6, 34, 12, 44, 42, 29, 30, 49, 37, 50, 25, 14, 20, 9, 8, 34, 26, 20, 20, 5, 33, 3, 31, 29, 41, 32, 51, 18, 13, 7, 26, 30, 29, 18, 14, 5, 48]\n"
     ]
    }
   ],
   "source": [
    "R = [] \n",
    "for i in range(T):\n",
    "    R.append(rand_subspace(eigvecs_nonzero_eigvals,nonzero_eigvals)) # generate T random subspaces\n",
    "    \n",
    "test_results_ensemble = []\n",
    "for i in range(len(test_data[0])):\n",
    "    post_distribution = [] # each column vector contains posterior distribution of each model\n",
    "    \n",
    "    for j in range(T):\n",
    "        post_distribution.append(lda_rand_subspace(R[j],test_data[:,i])) # perform lda on each subspaces learnt\n",
    "\n",
    "    index = np.argmin(sum(post_distribution) / T) + 1\n",
    "    test_results_ensemble.append(index)\n",
    "    \n",
    "print(test_results_ensemble)"
   ]
  },
  {
   "cell_type": "code",
   "execution_count": 180,
   "metadata": {},
   "outputs": [
    {
     "name": "stdout",
     "output_type": "stream",
     "text": [
      "0.8365384615384616\n",
      "[[0 0 0 ... 0 0 0]\n",
      " [0 3 0 ... 0 0 0]\n",
      " [0 0 1 ... 0 0 0]\n",
      " ...\n",
      " [0 0 0 ... 1 0 0]\n",
      " [0 0 0 ... 0 2 0]\n",
      " [0 0 0 ... 0 0 1]]\n"
     ]
    },
    {
     "data": {
      "image/png": "[encoded data removed]",
      "text/plain": [
       "<Figure size 288x288 with 2 Axes>"
      ]
     },
     "metadata": {
      "needs_background": "light"
     },
     "output_type": "display_data"
    }
   ],
   "source": [
    "results_error_ensemble = test_results_ensemble - true_results\n",
    "\n",
    "success_rate = np.count_nonzero(results_error_ensemble == 0) / len(true_results)\n",
    "print(success_rate)\n",
    "\n",
    "cm = confusion_matrix(true_results, test_results_ensemble)\n",
    "\n",
    "print(cm)\n",
    "plt.matshow(cm, cmap = 'Blues')\n",
    "plt.colorbar()\n",
    "plt.ylabel('Actual')\n",
    "plt.xlabel('Predicted')\n",
    "plt.show()"
   ]
  },
  {
   "cell_type": "code",
   "execution_count": null,
   "metadata": {},
   "outputs": [],
   "source": [
    "y_pred = [19, 31, 21, 30, 43, 14, 19, 24, 21, 33, 38, 32, 38, 30, 14, 31, 51, 12, 23, 13, 5, 51, 26, 41, 17, 35, 4, 31, 47, 35, 21, 30, 37, 29, 3, 8, 12, 8, 8, 29, 33, 29, 8, 16, 49, 52, 9, 14, 8, 11, 44, 24]"
   ]
  },
  {
   "cell_type": "code",
   "execution_count": null,
   "metadata": {},
   "outputs": [],
   "source": [
    "y_test = [24 31 21 30 43 14 22 24 44 33 52 32 47  2 14 31 51 12 23 13  5 51 26 41\n",
    " 17 35 49 31 47 35 21 30 37 33  1 27 12 20 36 46 33 26 17 16 49 52  9 14\n",
    " 45 11 44 24]"
   ]
  },
  {
   "cell_type": "code",
   "execution_count": 15,
   "metadata": {},
   "outputs": [
    {
     "name": "stdout",
     "output_type": "stream",
     "text": [
      "0.6923076923076923\n",
      "[[0 0 1 ... 0 0 0]\n",
      " [0 0 0 ... 0 0 0]\n",
      " [0 0 0 ... 0 0 0]\n",
      " ...\n",
      " [0 0 0 ... 1 0 0]\n",
      " [0 0 0 ... 0 2 0]\n",
      " [0 0 0 ... 0 0 1]]\n"
     ]
    },
    {
     "data": {
      "image/png": "[encoded data removed]",
      "text/plain": [
       "<Figure size 288x288 with 2 Axes>"
      ]
     },
     "metadata": {},
     "output_type": "display_data"
    }
   ],
   "source": [
    "y_pred = [19, 31, 21, 30, 43, 14, 19, 24, 21, 33, 38, 32, 38, 30, 14, 31, 51, 12, 23, 13, 5, 51, 26, 41, 17, 35, 4, 31, 47, 35, 21, 30, 37, 29, 3, 8, 12, 8, 8, 29, 33, 29, 8, 16, 49, 52, 9, 14, 8, 11, 44, 24]\n",
    "\n",
    "y_test = [24, 31, 21, 30, 43, 14, 22, 24, 44, 33, 52, 32, 47,  2, 14, 31, 51, 12, 23, 13,  5, 51, 26, 41, 17, 35, 49, 31, 47, 35, 21, 30, 37, 33,  1, 27, 12, 20, 36, 46, 33, 26, 17, 16, 49, 52,  9, 14, 45, 11, 44, 24]\n",
    "\n",
    "results_error_ensemble= []\n",
    "for i in range(0,len(y_pred)-1):\n",
    "    results_error_ensemble.append( y_pred[i] - y_test[i] )\n",
    "\n",
    "#results_error_ensemble = y_pred - y_test\n",
    "\n",
    "success_rate = 1 - np.count_nonzero(results_error_ensemble) / len(y_test)\n",
    "print(success_rate)\n",
    "\n",
    "cm = confusion_matrix(y_test, y_pred)\n",
    "\n",
    "print(cm)\n",
    "plt.matshow(cm, cmap = 'Blues')\n",
    "plt.colorbar()\n",
    "plt.ylabel('Actual')\n",
    "plt.xlabel('Predicted')\n",
    "plt.show()"
   ]
  },
  {
   "cell_type": "code",
   "execution_count": 16,
   "metadata": {},
   "outputs": [
    {
     "data": {
      "text/plain": [
       "52"
      ]
     },
     "execution_count": 16,
     "metadata": {},
     "output_type": "execute_result"
    }
   ],
   "source": [
    "len(y_test)"
   ]
  }
 ],
 "metadata": {
  "kernelspec": {
   "display_name": "Python 3",
   "language": "python",
   "name": "python3"
  },
  "language_info": {
   "codemirror_mode": {
    "name": "ipython",
    "version": 3
   },
   "file_extension": ".py",
   "mimetype": "text/x-python",
   "name": "python",
   "nbconvert_exporter": "python",
   "pygments_lexer": "ipython3",
   "version": "3.6.5"
  }
 },
 "nbformat": 4,
 "nbformat_minor": 2
}
