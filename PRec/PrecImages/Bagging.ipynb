{
 "cells": [
  {
   "cell_type": "markdown",
   "metadata": {},
   "source": [
    "# Eigenfaces a"
   ]
  },
  {
   "cell_type": "code",
   "execution_count": 1,
   "metadata": {},
   "outputs": [
    {
     "name": "stdout",
     "output_type": "stream",
     "text": [
      "[[106 130 191 ...  70 183  77]\n",
      " [103 129 185 ...  62 250  72]\n",
      " [103 130 174 ...  83 163  68]\n",
      " ...\n",
      " [ 37  40  22 ...  87 102  93]\n",
      " [ 36  36  19 ...  89  95 103]\n",
      " [ 41  35  17 ...  94 106 110]]\n",
      "(2576, 520)\n",
      "[[ 1  1  1  1  1  1  1  1  1  1  2  2  2  2  2  2  2  2  2  2  3  3  3  3\n",
      "   3  3  3  3  3  3  4  4  4  4  4  4  4  4  4  4  5  5  5  5  5  5  5  5\n",
      "   5  5  6  6  6  6  6  6  6  6  6  6  7  7  7  7  7  7  7  7  7  7  8  8\n",
      "   8  8  8  8  8  8  8  8  9  9  9  9  9  9  9  9  9  9 10 10 10 10 10 10\n",
      "  10 10 10 10 11 11 11 11 11 11 11 11 11 11 12 12 12 12 12 12 12 12 12 12\n",
      "  13 13 13 13 13 13 13 13 13 13 14 14 14 14 14 14 14 14 14 14 15 15 15 15\n",
      "  15 15 15 15 15 15 16 16 16 16 16 16 16 16 16 16 17 17 17 17 17 17 17 17\n",
      "  17 17 18 18 18 18 18 18 18 18 18 18 19 19 19 19 19 19 19 19 19 19 20 20\n",
      "  20 20 20 20 20 20 20 20 21 21 21 21 21 21 21 21 21 21 22 22 22 22 22 22\n",
      "  22 22 22 22 23 23 23 23 23 23 23 23 23 23 24 24 24 24 24 24 24 24 24 24\n",
      "  25 25 25 25 25 25 25 25 25 25 26 26 26 26 26 26 26 26 26 26 27 27 27 27\n",
      "  27 27 27 27 27 27 28 28 28 28 28 28 28 28 28 28 29 29 29 29 29 29 29 29\n",
      "  29 29 30 30 30 30 30 30 30 30 30 30 31 31 31 31 31 31 31 31 31 31 32 32\n",
      "  32 32 32 32 32 32 32 32 33 33 33 33 33 33 33 33 33 33 34 34 34 34 34 34\n",
      "  34 34 34 34 35 35 35 35 35 35 35 35 35 35 36 36 36 36 36 36 36 36 36 36\n",
      "  37 37 37 37 37 37 37 37 37 37 38 38 38 38 38 38 38 38 38 38 39 39 39 39\n",
      "  39 39 39 39 39 39 40 40 40 40 40 40 40 40 40 40 41 41 41 41 41 41 41 41\n",
      "  41 41 42 42 42 42 42 42 42 42 42 42 43 43 43 43 43 43 43 43 43 43 44 44\n",
      "  44 44 44 44 44 44 44 44 45 45 45 45 45 45 45 45 45 45 46 46 46 46 46 46\n",
      "  46 46 46 46 47 47 47 47 47 47 47 47 47 47 48 48 48 48 48 48 48 48 48 48\n",
      "  49 49 49 49 49 49 49 49 49 49 50 50 50 50 50 50 50 50 50 50 51 51 51 51\n",
      "  51 51 51 51 51 51 52 52 52 52 52 52 52 52 52 52]]\n",
      "(1, 520)\n"
     ]
    }
   ],
   "source": [
    "import scipy.io as sio\n",
    "import numpy as np\n",
    "import matplotlib.pyplot as plt\n",
    "from sklearn import preprocessing\n",
    "from sklearn.metrics import confusion_matrix\n",
    "from numpy.linalg import matrix_rank\n",
    "from numpy.linalg import inv\n",
    "import time\n",
    "\n",
    "mat_content = sio.loadmat('face.mat')\n",
    "\n",
    "face_data = mat_content['X']\n",
    "face_id = mat_content['l']\n",
    "\n",
    "print(face_data)\n",
    "print(face_data.shape)\n",
    "\n",
    "print(face_id)\n",
    "print(face_id.shape)"
   ]
  },
  {
   "cell_type": "code",
   "execution_count": 2,
   "metadata": {},
   "outputs": [
    {
     "name": "stdout",
     "output_type": "stream",
     "text": [
      "[[226  91 116 ...  93 142 238]\n",
      " [203  90 116 ...  95  91 247]\n",
      " [214  92 119 ...  92  97 244]\n",
      " ...\n",
      " [ 63 105  39 ...  24  74 143]\n",
      " [ 80 111  39 ...  23  51 143]\n",
      " [ 65 112  40 ...  21  35 133]]\n",
      "(2576, 468)\n",
      "[[ 93  61  67 ... 199 168 149]\n",
      " [ 94  64  61 ... 211 163 147]\n",
      " [ 68  64  65 ... 216 168 142]\n",
      " ...\n",
      " [175  71  32 ...  30  28  98]\n",
      " [171  60  25 ...  27  27  89]\n",
      " [160  49  25 ...  25  28  82]]\n",
      "(2576, 52)\n"
     ]
    }
   ],
   "source": [
    "# Split data set\n",
    "# Train_id is the index of each train data in the total data set, test_id the same\n",
    "\n",
    "from sklearn.model_selection import train_test_split\n",
    "\n",
    "indices = np.arange(len(face_id[0]))\n",
    "train_data, test_data, train_id, test_id = train_test_split(face_data.T, indices, test_size = 0.1)\n",
    "train_data = train_data.T\n",
    "test_data = test_data.T\n",
    "\n",
    "print(train_data)\n",
    "print(train_data.shape)\n",
    "print(test_data)\n",
    "print(test_data.shape)"
   ]
  },
  {
   "cell_type": "code",
   "execution_count": 3,
   "metadata": {},
   "outputs": [
    {
     "data": {
      "text/plain": [
       "{1: 9,\n",
       " 2: 9,\n",
       " 3: 10,\n",
       " 4: 10,\n",
       " 5: 9,\n",
       " 6: 10,\n",
       " 7: 10,\n",
       " 8: 10,\n",
       " 9: 9,\n",
       " 10: 10,\n",
       " 11: 9,\n",
       " 12: 8,\n",
       " 13: 9,\n",
       " 14: 7,\n",
       " 15: 10,\n",
       " 16: 9,\n",
       " 17: 8,\n",
       " 18: 10,\n",
       " 19: 10,\n",
       " 20: 9,\n",
       " 21: 8,\n",
       " 22: 9,\n",
       " 23: 9,\n",
       " 24: 7,\n",
       " 25: 10,\n",
       " 26: 8,\n",
       " 27: 9,\n",
       " 28: 10,\n",
       " 29: 10,\n",
       " 30: 8,\n",
       " 31: 7,\n",
       " 32: 9,\n",
       " 33: 7,\n",
       " 34: 10,\n",
       " 35: 8,\n",
       " 36: 9,\n",
       " 37: 9,\n",
       " 38: 10,\n",
       " 39: 10,\n",
       " 40: 10,\n",
       " 41: 9,\n",
       " 42: 10,\n",
       " 43: 9,\n",
       " 44: 8,\n",
       " 45: 9,\n",
       " 46: 9,\n",
       " 47: 8,\n",
       " 48: 10,\n",
       " 49: 8,\n",
       " 50: 10,\n",
       " 51: 8,\n",
       " 52: 8}"
      ]
     },
     "execution_count": 3,
     "metadata": {},
     "output_type": "execute_result"
    }
   ],
   "source": [
    "# Count the number of face images for each person \n",
    "# in the train and test set after randomly split\n",
    "\n",
    "train_label = face_id[0,train_id]\n",
    "unique_train, counts_train = np.unique(train_label, return_counts=True)\n",
    "dict(zip(unique_train, counts_train))\n",
    "\n",
    "#test_label = face_id[0,test_id]\n",
    "#unique_test, counts_test = np.unique(test_label, return_counts=True)\n",
    "#dict(zip(unique_test, counts_test))\n",
    "\n",
    "#print(unique_train)\n",
    "#print(train_label)\n",
    "#print(counts_train)\n"
   ]
  },
  {
   "cell_type": "code",
   "execution_count": 4,
   "metadata": {},
   "outputs": [
    {
     "data": {
      "text/plain": [
       "<matplotlib.image.AxesImage at 0xfee5a883c8>"
      ]
     },
     "execution_count": 4,
     "metadata": {},
     "output_type": "execute_result"
    },
    {
     "data": {
      "image/png": "[encoded data removed]",
      "text/plain": [
       "<Figure size 432x288 with 1 Axes>"
      ]
     },
     "metadata": {
      "needs_background": "light"
     },
     "output_type": "display_data"
    }
   ],
   "source": [
    "# Compute average face vector\n",
    "\n",
    "num_train = len(train_data[0])\n",
    "\n",
    "avg_face = train_data.mean(axis=1)\n",
    "\n",
    "plt.imshow(np.reshape(avg_face,(46,56)).T, cmap = 'gist_gray')\n",
    "\n",
    "#print(train_data.shape)\n",
    "#print(num_train)"
   ]
  },
  {
   "cell_type": "code",
   "execution_count": 5,
   "metadata": {},
   "outputs": [],
   "source": [
    "# Compute covariance matrix without low-dimensional compution\n",
    "\n",
    "num_pix = len(train_data)\n",
    "\n",
    "A = train_data - avg_face.reshape(num_pix,1)\n",
    "S = (A.dot(A.T)) / num_train\n",
    "\n",
    "#print(num_pix)"
   ]
  },
  {
   "cell_type": "markdown",
   "metadata": {},
   "source": [
    "# PCA-LDA Ensemble "
   ]
  },
  {
   "cell_type": "code",
   "execution_count": 6,
   "metadata": {},
   "outputs": [],
   "source": [
    "import random\n",
    "\n",
    "T = 3\n",
    "M0 = 200\n",
    "M1 = 10\n",
    "# Mpca = M0 + M1 should not exceed \n",
    "M_lda = 50\n",
    "n_sample = 7 # number of samples per class\n",
    "M_pca = 200\n",
    "\n",
    "# Generate random subspaces \n",
    "def rand_subspace(eigvecs,eigvals):\n",
    "    subspace = eigvecs[:,np.argsort(-eigvals)[ : M0]]\n",
    "    #print(len(eigvals))\n",
    "    index = (np.argsort(eigvals)[ : len(eigvals) - M0]).tolist()\n",
    "    rand_index = random.sample(index, M1)  \n",
    "    subspace = np.concatenate((subspace, eigvecs[:,rand_index]), axis=1)\n",
    "    return subspace\n",
    "\n",
    "# Bagging (from every class)\n",
    "def rand_sample(sorted_train_data,sorted_train_label,counts_train):\n",
    "    sample = list()\n",
    "    label = list()\n",
    "    current_index = 0\n",
    "    for idx,cnt in enumerate(counts_train):\n",
    "        for j in range(n_sample):\n",
    "            index = random.randrange(current_index, current_index + cnt, 1)\n",
    "            sample.append(sorted_train_data[:,index])\n",
    "            label.append(sorted_train_label[index])\n",
    "        current_index += cnt\n",
    "    \n",
    "    return ((np.asarray(sample)).T), np.asarray(label)\n",
    "\n",
    "# Generate eigenspace of data set using PCA\n",
    "def eigspace_generator_ensemble(data):\n",
    "    num_train = len(data[0])\n",
    "    avg_face = data.mean(axis=1)\n",
    "    num_pix = len(data)\n",
    "    A = data - avg_face.reshape(num_pix,1)\n",
    "    S_low_dim = ((A.T).dot(A)) / num_train\n",
    "    eigvals_low_dim, eigvecs_low_dim = np.linalg.eig(S_low_dim)\n",
    "    eigvals_low_dim = eigvals_low_dim.real\n",
    "    eigvecs_low_dim = eigvecs_low_dim.real\n",
    "    nonzero_eigvals_low_dim = eigvals_low_dim[abs(eigvals_low_dim) >= 1e-7]\n",
    "    eigvecs_nonzero_eigvals_low_dim = eigvecs_low_dim[:,abs(eigvals_low_dim) >= 1e-7]\n",
    "    eigfaces_low_dim_unnormalized = A.dot(eigvecs_nonzero_eigvals_low_dim[:,np.argsort(-nonzero_eigvals_low_dim)[:M_pca]]) \n",
    "    eigfaces_low_dim = (preprocessing.normalize(eigfaces_low_dim_unnormalized.T, norm='l2')).T\n",
    "    return eigfaces_low_dim, nonzero_eigvals_low_dim, A\n"
   ]
  },
  {
   "cell_type": "markdown",
   "metadata": {},
   "source": [
    "# Committe Machine with Bagging"
   ]
  },
  {
   "cell_type": "code",
   "execution_count": 7,
   "metadata": {},
   "outputs": [],
   "source": [
    "sorted_train_data = train_data[:,np.argsort(train_label)]\n",
    "sorted_train_label = train_label[np.argsort(train_label)]"
   ]
  },
  {
   "cell_type": "code",
   "execution_count": 8,
   "metadata": {},
   "outputs": [],
   "source": [
    "def lda_rand_data(train_data,train_label,test_data): # test_data single column vector\n",
    "\n",
    "    avg_face = train_data.mean(axis=1)\n",
    "    num_pix = len(train_data)\n",
    "    unique_train, counts_train = np.unique(train_label, return_counts=True)\n",
    "    c = max(train_label) # number of classes\n",
    "    M = np.zeros((num_pix, c))\n",
    "\n",
    "    list_Sw = [] # Each element of list_Sw contains the with-in scatter matrix of the i+1th class\n",
    "    \n",
    "    current_index = 0;\n",
    "    for idx in range(c):\n",
    "        X = train_data[:,current_index : current_index + n_sample]\n",
    "        M[:,idx] = (X.mean(axis=1))\n",
    "        A_Sw =  X - M[:,idx].reshape(num_pix,1)\n",
    "        Sw = A_Sw.dot(A_Sw.T)\n",
    "        list_Sw.append(Sw)\n",
    "        current_index += n_sample\n",
    "    \n",
    "    # Compute between-scatter matrix Sb\n",
    "\n",
    "    A_Sb =  M - avg_face.reshape(num_pix,1)\n",
    "    Sb = A_Sb.dot(A_Sb.T)\n",
    "\n",
    "    # Compute within-scatter matrix Sw\n",
    "    Sw = np.zeros((num_pix,num_pix))\n",
    "\n",
    "    for i in range(c):\n",
    "        Sw += list_Sw[i]\n",
    "\n",
    "    # PCA to reduce dimenstion to Mpca\n",
    "    \n",
    "    W_pca, eigenvalues, A = eigspace_generator_ensemble(train_data)\n",
    "    \n",
    "    Sb_pca = (W_pca.T).dot(Sb.dot(W_pca))\n",
    "    Sw_pca = (W_pca.T).dot(Sw.dot(W_pca))\n",
    "    \n",
    "    eigvals_lda, eigvecs_lda = np.linalg.eig((inv(Sw_pca)).dot(Sb_pca))\n",
    "    eigvals_lda = eigvals_lda.real\n",
    "    eigvecs_lda = eigvecs_lda.real\n",
    "\n",
    "    nonzero_eigvals_lda = eigvals_lda[abs(eigvals_lda) >= 1e-7]\n",
    "    eigvecs_nonzero_eigvals_lda = eigvecs_lda[:,abs(eigvals_lda) >= 1e-7]\n",
    "    \n",
    "    sorted_index_lda = np.argsort(-nonzero_eigvals_lda)[:M_lda]\n",
    "\n",
    "    W_lda = eigvecs_nonzero_eigvals_lda[:,sorted_index_lda]\n",
    "\n",
    "    # NN-classification\n",
    "\n",
    "    W_train_pca = (A.T).dot(W_pca)\n",
    "    W_train_lda = (W_train_pca).dot(W_lda)\n",
    "    sorted_W_train_lda = W_train_lda[np.argsort(train_label),:]\n",
    "\n",
    "    A_test_lda = test_data.reshape(num_pix,1) - avg_face.reshape(num_pix,1)\n",
    "\n",
    "    # Project test data to PCA subspace\n",
    "    W_test_pca = (A_test_lda.T).dot(W_pca) # Coordinates (row vector) on PCA subspace\n",
    "    # Project test data to LDA subspace\n",
    "    W_test_lda = (W_test_pca).dot(W_lda) # Coordinates (row vector) on LDA subspace\n",
    "    \n",
    "    distance = np.linalg.norm(W_test_lda - sorted_W_train_lda, axis=1) # row vector containing Euclidiean distance to each tranining data\n",
    "   \n",
    "        \n",
    "    min_distance = []\n",
    "    current_index = 0;\n",
    "    for idx,cnt in enumerate(counts_train):\n",
    "        distance = distance.reshape(len(distance),1)\n",
    "        min_distance.append(min(distance[current_index : current_index + cnt,:]))\n",
    "        current_index += cnt\n",
    "    \n",
    "    post_distribution = (min_distance / sum(min_distance)) \n",
    "    \n",
    "    return post_distribution"
   ]
  },
  {
   "cell_type": "code",
   "execution_count": 9,
   "metadata": {},
   "outputs": [
    {
     "name": "stdout",
     "output_type": "stream",
     "text": [
      "[24 31 21 30 43 14 22 24 44 33 52 32 47  2 14 31 51 12 23 13  5 51 26 41\n",
      " 17 35 49 31 47 35 21 30 37 33  1 27 12 20 36 46 33 26 17 16 49 52  9 14\n",
      " 45 11 44 24]\n"
     ]
    }
   ],
   "source": [
    "true_results = face_id[0,test_id]\n",
    "print(true_results)"
   ]
  },
  {
   "cell_type": "code",
   "execution_count": 10,
   "metadata": {},
   "outputs": [
    {
     "name": "stdout",
     "output_type": "stream",
     "text": [
      "[19]\n",
      "[19, 31]\n",
      "[19, 31, 21]\n",
      "[19, 31, 21, 30]\n",
      "[19, 31, 21, 30, 43]\n",
      "[19, 31, 21, 30, 43, 14]\n",
      "[19, 31, 21, 30, 43, 14, 19]\n",
      "[19, 31, 21, 30, 43, 14, 19, 24]\n",
      "[19, 31, 21, 30, 43, 14, 19, 24, 21]\n",
      "[19, 31, 21, 30, 43, 14, 19, 24, 21, 33]\n",
      "[19, 31, 21, 30, 43, 14, 19, 24, 21, 33, 38]\n",
      "[19, 31, 21, 30, 43, 14, 19, 24, 21, 33, 38, 32]\n",
      "[19, 31, 21, 30, 43, 14, 19, 24, 21, 33, 38, 32, 38]\n",
      "[19, 31, 21, 30, 43, 14, 19, 24, 21, 33, 38, 32, 38, 30]\n",
      "[19, 31, 21, 30, 43, 14, 19, 24, 21, 33, 38, 32, 38, 30, 14]\n",
      "[19, 31, 21, 30, 43, 14, 19, 24, 21, 33, 38, 32, 38, 30, 14, 31]\n",
      "[19, 31, 21, 30, 43, 14, 19, 24, 21, 33, 38, 32, 38, 30, 14, 31, 51]\n",
      "[19, 31, 21, 30, 43, 14, 19, 24, 21, 33, 38, 32, 38, 30, 14, 31, 51, 12]\n",
      "[19, 31, 21, 30, 43, 14, 19, 24, 21, 33, 38, 32, 38, 30, 14, 31, 51, 12, 23]\n",
      "[19, 31, 21, 30, 43, 14, 19, 24, 21, 33, 38, 32, 38, 30, 14, 31, 51, 12, 23, 13]\n",
      "[19, 31, 21, 30, 43, 14, 19, 24, 21, 33, 38, 32, 38, 30, 14, 31, 51, 12, 23, 13, 5]\n",
      "[19, 31, 21, 30, 43, 14, 19, 24, 21, 33, 38, 32, 38, 30, 14, 31, 51, 12, 23, 13, 5, 51]\n",
      "[19, 31, 21, 30, 43, 14, 19, 24, 21, 33, 38, 32, 38, 30, 14, 31, 51, 12, 23, 13, 5, 51, 26]\n",
      "[19, 31, 21, 30, 43, 14, 19, 24, 21, 33, 38, 32, 38, 30, 14, 31, 51, 12, 23, 13, 5, 51, 26, 41]\n",
      "[19, 31, 21, 30, 43, 14, 19, 24, 21, 33, 38, 32, 38, 30, 14, 31, 51, 12, 23, 13, 5, 51, 26, 41, 17]\n",
      "[19, 31, 21, 30, 43, 14, 19, 24, 21, 33, 38, 32, 38, 30, 14, 31, 51, 12, 23, 13, 5, 51, 26, 41, 17, 35]\n",
      "[19, 31, 21, 30, 43, 14, 19, 24, 21, 33, 38, 32, 38, 30, 14, 31, 51, 12, 23, 13, 5, 51, 26, 41, 17, 35, 4]\n",
      "[19, 31, 21, 30, 43, 14, 19, 24, 21, 33, 38, 32, 38, 30, 14, 31, 51, 12, 23, 13, 5, 51, 26, 41, 17, 35, 4, 31]\n",
      "[19, 31, 21, 30, 43, 14, 19, 24, 21, 33, 38, 32, 38, 30, 14, 31, 51, 12, 23, 13, 5, 51, 26, 41, 17, 35, 4, 31, 47]\n",
      "[19, 31, 21, 30, 43, 14, 19, 24, 21, 33, 38, 32, 38, 30, 14, 31, 51, 12, 23, 13, 5, 51, 26, 41, 17, 35, 4, 31, 47, 35]\n",
      "[19, 31, 21, 30, 43, 14, 19, 24, 21, 33, 38, 32, 38, 30, 14, 31, 51, 12, 23, 13, 5, 51, 26, 41, 17, 35, 4, 31, 47, 35, 21]\n",
      "[19, 31, 21, 30, 43, 14, 19, 24, 21, 33, 38, 32, 38, 30, 14, 31, 51, 12, 23, 13, 5, 51, 26, 41, 17, 35, 4, 31, 47, 35, 21, 30]\n",
      "[19, 31, 21, 30, 43, 14, 19, 24, 21, 33, 38, 32, 38, 30, 14, 31, 51, 12, 23, 13, 5, 51, 26, 41, 17, 35, 4, 31, 47, 35, 21, 30, 37]\n",
      "[19, 31, 21, 30, 43, 14, 19, 24, 21, 33, 38, 32, 38, 30, 14, 31, 51, 12, 23, 13, 5, 51, 26, 41, 17, 35, 4, 31, 47, 35, 21, 30, 37, 29]\n",
      "[19, 31, 21, 30, 43, 14, 19, 24, 21, 33, 38, 32, 38, 30, 14, 31, 51, 12, 23, 13, 5, 51, 26, 41, 17, 35, 4, 31, 47, 35, 21, 30, 37, 29, 3]\n",
      "[19, 31, 21, 30, 43, 14, 19, 24, 21, 33, 38, 32, 38, 30, 14, 31, 51, 12, 23, 13, 5, 51, 26, 41, 17, 35, 4, 31, 47, 35, 21, 30, 37, 29, 3, 8]\n",
      "[19, 31, 21, 30, 43, 14, 19, 24, 21, 33, 38, 32, 38, 30, 14, 31, 51, 12, 23, 13, 5, 51, 26, 41, 17, 35, 4, 31, 47, 35, 21, 30, 37, 29, 3, 8, 12]\n",
      "[19, 31, 21, 30, 43, 14, 19, 24, 21, 33, 38, 32, 38, 30, 14, 31, 51, 12, 23, 13, 5, 51, 26, 41, 17, 35, 4, 31, 47, 35, 21, 30, 37, 29, 3, 8, 12, 8]\n",
      "[19, 31, 21, 30, 43, 14, 19, 24, 21, 33, 38, 32, 38, 30, 14, 31, 51, 12, 23, 13, 5, 51, 26, 41, 17, 35, 4, 31, 47, 35, 21, 30, 37, 29, 3, 8, 12, 8, 8]\n",
      "[19, 31, 21, 30, 43, 14, 19, 24, 21, 33, 38, 32, 38, 30, 14, 31, 51, 12, 23, 13, 5, 51, 26, 41, 17, 35, 4, 31, 47, 35, 21, 30, 37, 29, 3, 8, 12, 8, 8, 29]\n",
      "[19, 31, 21, 30, 43, 14, 19, 24, 21, 33, 38, 32, 38, 30, 14, 31, 51, 12, 23, 13, 5, 51, 26, 41, 17, 35, 4, 31, 47, 35, 21, 30, 37, 29, 3, 8, 12, 8, 8, 29, 33]\n",
      "[19, 31, 21, 30, 43, 14, 19, 24, 21, 33, 38, 32, 38, 30, 14, 31, 51, 12, 23, 13, 5, 51, 26, 41, 17, 35, 4, 31, 47, 35, 21, 30, 37, 29, 3, 8, 12, 8, 8, 29, 33, 29]\n",
      "[19, 31, 21, 30, 43, 14, 19, 24, 21, 33, 38, 32, 38, 30, 14, 31, 51, 12, 23, 13, 5, 51, 26, 41, 17, 35, 4, 31, 47, 35, 21, 30, 37, 29, 3, 8, 12, 8, 8, 29, 33, 29, 8]\n",
      "[19, 31, 21, 30, 43, 14, 19, 24, 21, 33, 38, 32, 38, 30, 14, 31, 51, 12, 23, 13, 5, 51, 26, 41, 17, 35, 4, 31, 47, 35, 21, 30, 37, 29, 3, 8, 12, 8, 8, 29, 33, 29, 8, 16]\n",
      "[19, 31, 21, 30, 43, 14, 19, 24, 21, 33, 38, 32, 38, 30, 14, 31, 51, 12, 23, 13, 5, 51, 26, 41, 17, 35, 4, 31, 47, 35, 21, 30, 37, 29, 3, 8, 12, 8, 8, 29, 33, 29, 8, 16, 49]\n",
      "[19, 31, 21, 30, 43, 14, 19, 24, 21, 33, 38, 32, 38, 30, 14, 31, 51, 12, 23, 13, 5, 51, 26, 41, 17, 35, 4, 31, 47, 35, 21, 30, 37, 29, 3, 8, 12, 8, 8, 29, 33, 29, 8, 16, 49, 52]\n",
      "[19, 31, 21, 30, 43, 14, 19, 24, 21, 33, 38, 32, 38, 30, 14, 31, 51, 12, 23, 13, 5, 51, 26, 41, 17, 35, 4, 31, 47, 35, 21, 30, 37, 29, 3, 8, 12, 8, 8, 29, 33, 29, 8, 16, 49, 52, 9]\n",
      "[19, 31, 21, 30, 43, 14, 19, 24, 21, 33, 38, 32, 38, 30, 14, 31, 51, 12, 23, 13, 5, 51, 26, 41, 17, 35, 4, 31, 47, 35, 21, 30, 37, 29, 3, 8, 12, 8, 8, 29, 33, 29, 8, 16, 49, 52, 9, 14]\n",
      "[19, 31, 21, 30, 43, 14, 19, 24, 21, 33, 38, 32, 38, 30, 14, 31, 51, 12, 23, 13, 5, 51, 26, 41, 17, 35, 4, 31, 47, 35, 21, 30, 37, 29, 3, 8, 12, 8, 8, 29, 33, 29, 8, 16, 49, 52, 9, 14, 8]\n",
      "[19, 31, 21, 30, 43, 14, 19, 24, 21, 33, 38, 32, 38, 30, 14, 31, 51, 12, 23, 13, 5, 51, 26, 41, 17, 35, 4, 31, 47, 35, 21, 30, 37, 29, 3, 8, 12, 8, 8, 29, 33, 29, 8, 16, 49, 52, 9, 14, 8, 11]\n",
      "[19, 31, 21, 30, 43, 14, 19, 24, 21, 33, 38, 32, 38, 30, 14, 31, 51, 12, 23, 13, 5, 51, 26, 41, 17, 35, 4, 31, 47, 35, 21, 30, 37, 29, 3, 8, 12, 8, 8, 29, 33, 29, 8, 16, 49, 52, 9, 14, 8, 11, 44]\n",
      "[19, 31, 21, 30, 43, 14, 19, 24, 21, 33, 38, 32, 38, 30, 14, 31, 51, 12, 23, 13, 5, 51, 26, 41, 17, 35, 4, 31, 47, 35, 21, 30, 37, 29, 3, 8, 12, 8, 8, 29, 33, 29, 8, 16, 49, 52, 9, 14, 8, 11, 44, 24]\n",
      "[19, 31, 21, 30, 43, 14, 19, 24, 21, 33, 38, 32, 38, 30, 14, 31, 51, 12, 23, 13, 5, 51, 26, 41, 17, 35, 4, 31, 47, 35, 21, 30, 37, 29, 3, 8, 12, 8, 8, 29, 33, 29, 8, 16, 49, 52, 9, 14, 8, 11, 44, 24]\n"
     ]
    }
   ],
   "source": [
    "S = []\n",
    "S_label = []\n",
    "\n",
    "for i in range(T):\n",
    "    data,label = rand_sample(sorted_train_data,sorted_train_label,counts_train)\n",
    "    S.append(data) # generate T random training subset\n",
    "    S_label.append(label)\n",
    "\n",
    "    \n",
    "test_results_ensemble = []\n",
    "for i in range(len(test_data[0])):\n",
    "    post_distribution = [] # each column vector contains posterior distribution of each model\n",
    "    \n",
    "    for j in range(T):\n",
    "        post_distribution.append(lda_rand_data(S[j],S_label[j],test_data[:,i])) # perform lda on each subspaces learnt\n",
    "\n",
    "    index = np.argmin(sum(post_distribution) / (T)) + 1\n",
    "    test_results_ensemble.append(index)\n",
    "    print(test_results_ensemble)\n",
    "    \n",
    "print(test_results_ensemble)"
   ]
  },
  {
   "cell_type": "code",
   "execution_count": null,
   "metadata": {},
   "outputs": [],
   "source": [
    "results_error = test_results_ensemble - true_results\n",
    "\n",
    "success_rate = np.count_nonzero(results_error == 0) / len(results_error)\n",
    "print(success_rate)"
   ]
  },
  {
   "cell_type": "code",
   "execution_count": null,
   "metadata": {},
   "outputs": [],
   "source": []
  }
 ],
 "metadata": {
  "kernelspec": {
   "display_name": "Python 3",
   "language": "python",
   "name": "python3"
  },
  "language_info": {
   "codemirror_mode": {
    "name": "ipython",
    "version": 3
   },
   "file_extension": ".py",
   "mimetype": "text/x-python",
   "name": "python",
   "nbconvert_exporter": "python",
   "pygments_lexer": "ipython3",
   "version": "3.6.5"
  }
 },
 "nbformat": 4,
 "nbformat_minor": 2
}
