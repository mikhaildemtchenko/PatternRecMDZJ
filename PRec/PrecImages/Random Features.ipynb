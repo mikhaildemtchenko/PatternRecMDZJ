{
 "cells": [
  {
   "cell_type": "markdown",
   "metadata": {},
   "source": [
    "# Eigenfaces a"
   ]
  },
  {
   "cell_type": "code",
   "execution_count": 1,
   "metadata": {},
   "outputs": [
    {
     "ename": "FileNotFoundError",
     "evalue": "[Errno 2] No such file or directory: 'face.mat'",
     "output_type": "error",
     "traceback": [
      "\u001b[0;31m---------------------------------------------------------------------------\u001b[0m",
      "\u001b[0;31mFileNotFoundError\u001b[0m                         Traceback (most recent call last)",
      "\u001b[0;32m~/anaconda3/lib/python3.6/site-packages/scipy/io/matlab/mio.py\u001b[0m in \u001b[0;36m_open_file\u001b[0;34m(file_like, appendmat)\u001b[0m\n\u001b[1;32m     32\u001b[0m     \u001b[0;32mtry\u001b[0m\u001b[0;34m:\u001b[0m\u001b[0;34m\u001b[0m\u001b[0m\n\u001b[0;32m---> 33\u001b[0;31m         \u001b[0;32mreturn\u001b[0m \u001b[0mopen\u001b[0m\u001b[0;34m(\u001b[0m\u001b[0mfile_like\u001b[0m\u001b[0;34m,\u001b[0m \u001b[0;34m'rb'\u001b[0m\u001b[0;34m)\u001b[0m\u001b[0;34m,\u001b[0m \u001b[0;32mTrue\u001b[0m\u001b[0;34m\u001b[0m\u001b[0m\n\u001b[0m\u001b[1;32m     34\u001b[0m     \u001b[0;32mexcept\u001b[0m \u001b[0mIOError\u001b[0m\u001b[0;34m:\u001b[0m\u001b[0;34m\u001b[0m\u001b[0m\n",
      "\u001b[0;31mFileNotFoundError\u001b[0m: [Errno 2] No such file or directory: 'face.mat'",
      "\nDuring handling of the above exception, another exception occurred:\n",
      "\u001b[0;31mFileNotFoundError\u001b[0m                         Traceback (most recent call last)",
      "\u001b[0;32m<ipython-input-1-b93bf510a8c1>\u001b[0m in \u001b[0;36m<module>\u001b[0;34m()\u001b[0m\n\u001b[1;32m      7\u001b[0m \u001b[0;32mfrom\u001b[0m \u001b[0mnumpy\u001b[0m\u001b[0;34m.\u001b[0m\u001b[0mlinalg\u001b[0m \u001b[0;32mimport\u001b[0m \u001b[0minv\u001b[0m\u001b[0;34m\u001b[0m\u001b[0m\n\u001b[1;32m      8\u001b[0m \u001b[0;34m\u001b[0m\u001b[0m\n\u001b[0;32m----> 9\u001b[0;31m \u001b[0mmat_content\u001b[0m \u001b[0;34m=\u001b[0m \u001b[0msio\u001b[0m\u001b[0;34m.\u001b[0m\u001b[0mloadmat\u001b[0m\u001b[0;34m(\u001b[0m\u001b[0;34m'face.mat'\u001b[0m\u001b[0;34m)\u001b[0m\u001b[0;34m\u001b[0m\u001b[0m\n\u001b[0m\u001b[1;32m     10\u001b[0m \u001b[0;34m\u001b[0m\u001b[0m\n\u001b[1;32m     11\u001b[0m \u001b[0mface_data\u001b[0m \u001b[0;34m=\u001b[0m \u001b[0mmat_content\u001b[0m\u001b[0;34m[\u001b[0m\u001b[0;34m'X'\u001b[0m\u001b[0;34m]\u001b[0m\u001b[0;34m\u001b[0m\u001b[0m\n",
      "\u001b[0;32m~/anaconda3/lib/python3.6/site-packages/scipy/io/matlab/mio.py\u001b[0m in \u001b[0;36mloadmat\u001b[0;34m(file_name, mdict, appendmat, **kwargs)\u001b[0m\n\u001b[1;32m    139\u001b[0m     \"\"\"\n\u001b[1;32m    140\u001b[0m     \u001b[0mvariable_names\u001b[0m \u001b[0;34m=\u001b[0m \u001b[0mkwargs\u001b[0m\u001b[0;34m.\u001b[0m\u001b[0mpop\u001b[0m\u001b[0;34m(\u001b[0m\u001b[0;34m'variable_names'\u001b[0m\u001b[0;34m,\u001b[0m \u001b[0;32mNone\u001b[0m\u001b[0;34m)\u001b[0m\u001b[0;34m\u001b[0m\u001b[0m\n\u001b[0;32m--> 141\u001b[0;31m     \u001b[0mMR\u001b[0m\u001b[0;34m,\u001b[0m \u001b[0mfile_opened\u001b[0m \u001b[0;34m=\u001b[0m \u001b[0mmat_reader_factory\u001b[0m\u001b[0;34m(\u001b[0m\u001b[0mfile_name\u001b[0m\u001b[0;34m,\u001b[0m \u001b[0mappendmat\u001b[0m\u001b[0;34m,\u001b[0m \u001b[0;34m**\u001b[0m\u001b[0mkwargs\u001b[0m\u001b[0;34m)\u001b[0m\u001b[0;34m\u001b[0m\u001b[0m\n\u001b[0m\u001b[1;32m    142\u001b[0m     \u001b[0mmatfile_dict\u001b[0m \u001b[0;34m=\u001b[0m \u001b[0mMR\u001b[0m\u001b[0;34m.\u001b[0m\u001b[0mget_variables\u001b[0m\u001b[0;34m(\u001b[0m\u001b[0mvariable_names\u001b[0m\u001b[0;34m)\u001b[0m\u001b[0;34m\u001b[0m\u001b[0m\n\u001b[1;32m    143\u001b[0m     \u001b[0;32mif\u001b[0m \u001b[0mmdict\u001b[0m \u001b[0;32mis\u001b[0m \u001b[0;32mnot\u001b[0m \u001b[0;32mNone\u001b[0m\u001b[0;34m:\u001b[0m\u001b[0;34m\u001b[0m\u001b[0m\n",
      "\u001b[0;32m~/anaconda3/lib/python3.6/site-packages/scipy/io/matlab/mio.py\u001b[0m in \u001b[0;36mmat_reader_factory\u001b[0;34m(file_name, appendmat, **kwargs)\u001b[0m\n\u001b[1;32m     62\u001b[0m \u001b[0;34m\u001b[0m\u001b[0m\n\u001b[1;32m     63\u001b[0m     \"\"\"\n\u001b[0;32m---> 64\u001b[0;31m     \u001b[0mbyte_stream\u001b[0m\u001b[0;34m,\u001b[0m \u001b[0mfile_opened\u001b[0m \u001b[0;34m=\u001b[0m \u001b[0m_open_file\u001b[0m\u001b[0;34m(\u001b[0m\u001b[0mfile_name\u001b[0m\u001b[0;34m,\u001b[0m \u001b[0mappendmat\u001b[0m\u001b[0;34m)\u001b[0m\u001b[0;34m\u001b[0m\u001b[0m\n\u001b[0m\u001b[1;32m     65\u001b[0m     \u001b[0mmjv\u001b[0m\u001b[0;34m,\u001b[0m \u001b[0mmnv\u001b[0m \u001b[0;34m=\u001b[0m \u001b[0mget_matfile_version\u001b[0m\u001b[0;34m(\u001b[0m\u001b[0mbyte_stream\u001b[0m\u001b[0;34m)\u001b[0m\u001b[0;34m\u001b[0m\u001b[0m\n\u001b[1;32m     66\u001b[0m     \u001b[0;32mif\u001b[0m \u001b[0mmjv\u001b[0m \u001b[0;34m==\u001b[0m \u001b[0;36m0\u001b[0m\u001b[0;34m:\u001b[0m\u001b[0;34m\u001b[0m\u001b[0m\n",
      "\u001b[0;32m~/anaconda3/lib/python3.6/site-packages/scipy/io/matlab/mio.py\u001b[0m in \u001b[0;36m_open_file\u001b[0;34m(file_like, appendmat)\u001b[0m\n\u001b[1;32m     37\u001b[0m             \u001b[0;32mif\u001b[0m \u001b[0mappendmat\u001b[0m \u001b[0;32mand\u001b[0m \u001b[0;32mnot\u001b[0m \u001b[0mfile_like\u001b[0m\u001b[0;34m.\u001b[0m\u001b[0mendswith\u001b[0m\u001b[0;34m(\u001b[0m\u001b[0;34m'.mat'\u001b[0m\u001b[0;34m)\u001b[0m\u001b[0;34m:\u001b[0m\u001b[0;34m\u001b[0m\u001b[0m\n\u001b[1;32m     38\u001b[0m                 \u001b[0mfile_like\u001b[0m \u001b[0;34m+=\u001b[0m \u001b[0;34m'.mat'\u001b[0m\u001b[0;34m\u001b[0m\u001b[0m\n\u001b[0;32m---> 39\u001b[0;31m             \u001b[0;32mreturn\u001b[0m \u001b[0mopen\u001b[0m\u001b[0;34m(\u001b[0m\u001b[0mfile_like\u001b[0m\u001b[0;34m,\u001b[0m \u001b[0;34m'rb'\u001b[0m\u001b[0;34m)\u001b[0m\u001b[0;34m,\u001b[0m \u001b[0;32mTrue\u001b[0m\u001b[0;34m\u001b[0m\u001b[0m\n\u001b[0m\u001b[1;32m     40\u001b[0m         \u001b[0;32melse\u001b[0m\u001b[0;34m:\u001b[0m\u001b[0;34m\u001b[0m\u001b[0m\n\u001b[1;32m     41\u001b[0m             \u001b[0;32mraise\u001b[0m \u001b[0mIOError\u001b[0m\u001b[0;34m(\u001b[0m\u001b[0;34m'Reader needs file name or open file-like object'\u001b[0m\u001b[0;34m)\u001b[0m\u001b[0;34m\u001b[0m\u001b[0m\n",
      "\u001b[0;31mFileNotFoundError\u001b[0m: [Errno 2] No such file or directory: 'face.mat'"
     ]
    }
   ],
   "source": [
    "import scipy.io as sio\n",
    "import numpy as np\n",
    "import matplotlib.pyplot as plt\n",
    "from sklearn import preprocessing\n",
    "from sklearn.metrics import confusion_matrix\n",
    "from numpy.linalg import matrix_rank\n",
    "from numpy.linalg import inv\n",
    "\n",
    "mat_content = sio.loadmat('face.mat')\n",
    "\n",
    "face_data = mat_content['X']\n",
    "face_id = mat_content['l']\n",
    "\n",
    "print(face_data)\n",
    "print(face_data.shape)\n",
    "\n",
    "print(face_id)\n",
    "print(face_id.shape)"
   ]
  },
  {
   "cell_type": "code",
   "execution_count": 2,
   "metadata": {},
   "outputs": [
    {
     "name": "stdout",
     "output_type": "stream",
     "text": [
      "[[102  96  73 ... 164  65  57]\n",
      " [103  90  83 ... 162  64  55]\n",
      " [104 105 124 ... 163  65  55]\n",
      " ...\n",
      " [114 171  33 ...  35 230 171]\n",
      " [ 84 203  30 ...  41 229 175]\n",
      " [ 62 122  26 ...  46 232 176]]\n",
      "(2576, 468)\n",
      "[[146 143 173 ... 207  27  66]\n",
      " [158 147 158 ... 186  29  58]\n",
      " [152 150 163 ... 148  30  94]\n",
      " ...\n",
      " [ 85  33  33 ...  39  80  56]\n",
      " [ 83  29  36 ...  55 127  50]\n",
      " [ 84  26  37 ...  32 181  46]]\n",
      "(2576, 52)\n"
     ]
    }
   ],
   "source": [
    "# Split data set\n",
    "# Train_id is the index of each train data in the total data set, test_id the same\n",
    "\n",
    "from sklearn.model_selection import train_test_split\n",
    "\n",
    "indices = np.arange(len(face_id[0]))\n",
    "train_data, test_data, train_id, test_id = train_test_split(face_data.T, indices, test_size = 0.1)\n",
    "train_data = train_data.T\n",
    "test_data = test_data.T\n",
    "\n",
    "print(train_data)\n",
    "print(train_data.shape)\n",
    "print(test_data)\n",
    "print(test_data.shape)"
   ]
  },
  {
   "cell_type": "code",
   "execution_count": 3,
   "metadata": {},
   "outputs": [
    {
     "data": {
      "text/plain": [
       "{1: 9,\n",
       " 2: 7,\n",
       " 3: 10,\n",
       " 4: 9,\n",
       " 5: 8,\n",
       " 6: 9,\n",
       " 7: 10,\n",
       " 8: 9,\n",
       " 9: 9,\n",
       " 10: 9,\n",
       " 11: 8,\n",
       " 12: 8,\n",
       " 13: 10,\n",
       " 14: 9,\n",
       " 15: 9,\n",
       " 16: 8,\n",
       " 17: 10,\n",
       " 18: 9,\n",
       " 19: 9,\n",
       " 20: 9,\n",
       " 21: 9,\n",
       " 22: 10,\n",
       " 23: 8,\n",
       " 24: 10,\n",
       " 25: 10,\n",
       " 26: 9,\n",
       " 27: 9,\n",
       " 28: 10,\n",
       " 29: 9,\n",
       " 30: 10,\n",
       " 31: 5,\n",
       " 32: 9,\n",
       " 33: 10,\n",
       " 34: 9,\n",
       " 35: 10,\n",
       " 36: 10,\n",
       " 37: 8,\n",
       " 38: 10,\n",
       " 39: 9,\n",
       " 40: 9,\n",
       " 41: 8,\n",
       " 42: 9,\n",
       " 43: 9,\n",
       " 44: 8,\n",
       " 45: 10,\n",
       " 46: 10,\n",
       " 47: 10,\n",
       " 48: 8,\n",
       " 49: 10,\n",
       " 50: 9,\n",
       " 51: 9,\n",
       " 52: 7}"
      ]
     },
     "execution_count": 3,
     "metadata": {},
     "output_type": "execute_result"
    }
   ],
   "source": [
    "# Count the number of face images for each person \n",
    "# in the train and test set after randomly split\n",
    "\n",
    "train_label = face_id[0,train_id]\n",
    "unique_train, counts_train = np.unique(train_label, return_counts=True)\n",
    "dict(zip(unique_train, counts_train))\n",
    "\n",
    "#test_label = face_id[0,test_id]\n",
    "#unique_test, counts_test = np.unique(test_label, return_counts=True)\n",
    "#dict(zip(unique_test, counts_test))\n",
    "\n",
    "#print(unique_train)\n",
    "#print(train_label)\n",
    "#print(counts_train)\n"
   ]
  },
  {
   "cell_type": "code",
   "execution_count": 4,
   "metadata": {},
   "outputs": [
    {
     "data": {
      "text/plain": [
       "<matplotlib.image.AxesImage at 0xb3f03284a8>"
      ]
     },
     "execution_count": 4,
     "metadata": {},
     "output_type": "execute_result"
    },
    {
     "data": {
      "image/png": "[encoded data removed]",
      "text/plain": [
       "<Figure size 432x288 with 1 Axes>"
      ]
     },
     "metadata": {
      "needs_background": "light"
     },
     "output_type": "display_data"
    }
   ],
   "source": [
    "# Compute average face vector\n",
    "\n",
    "num_train = len(train_data[0])\n",
    "\n",
    "avg_face = train_data.mean(axis=1)\n",
    "\n",
    "plt.imshow(np.reshape(avg_face,(46,56)).T, cmap = 'gist_gray')\n",
    "\n",
    "#print(train_data.shape)\n",
    "#print(num_train)"
   ]
  },
  {
   "cell_type": "code",
   "execution_count": 5,
   "metadata": {},
   "outputs": [],
   "source": [
    "# Compute covariance matrix without low-dimensional compution\n",
    "\n",
    "num_pix = len(train_data)\n",
    "\n",
    "A = train_data - avg_face.reshape(num_pix,1)\n",
    "S = (A.dot(A.T)) / num_train\n",
    "\n",
    "#print(num_pix)"
   ]
  },
  {
   "cell_type": "code",
   "execution_count": 6,
   "metadata": {},
   "outputs": [],
   "source": [
    "# Compute the egenvalues\n",
    "# Due to numerical error, some eigenvalues are complex but they have\n",
    "# negligible imaginary parts. Morover real symetric covariance \n",
    "# matrix always has real eigenvalues and eigenvectors.\n",
    "\n",
    "eigvals, eigvecs = np.linalg.eig(S)\n",
    "eigvals = eigvals.real\n",
    "eigvecs = eigvecs.real"
   ]
  },
  {
   "cell_type": "code",
   "execution_count": 7,
   "metadata": {},
   "outputs": [
    {
     "name": "stdout",
     "output_type": "stream",
     "text": [
      "(2576,)\n",
      "(2576, 2576)\n",
      "(467,)\n",
      "(2576, 467)\n"
     ]
    }
   ],
   "source": [
    "# Compute the nonzero eigenvalues and their eigenvectors\n",
    "\n",
    "print(eigvals.shape)\n",
    "print(eigvecs.shape)\n",
    "\n",
    "nonzero_eigvals = eigvals[abs(eigvals) >= 1e-7]\n",
    "print(nonzero_eigvals.shape)\n",
    "\n",
    "eigvecs_nonzero_eigvals = eigvecs[:,abs(eigvals) >= 1e-7]\n",
    "print(eigvecs_nonzero_eigvals.shape)"
   ]
  },
  {
   "cell_type": "code",
   "execution_count": 8,
   "metadata": {},
   "outputs": [
    {
     "name": "stdout",
     "output_type": "stream",
     "text": [
      "[ 0  1  2  3  4  5  6  7  8  9 10 11 12 13 14 15 16 17 18 19 20 21 22 23\n",
      " 24 25 26 27 28 29]\n",
      "(2576, 30)\n"
     ]
    },
    {
     "data": {
      "text/plain": [
       "<matplotlib.image.AxesImage at 0xb38094dcf8>"
      ]
     },
     "execution_count": 8,
     "metadata": {},
     "output_type": "execute_result"
    },
    {
     "data": {
      "image/png": "[encoded data removed]",
      "text/plain": [
       "<Figure size 432x288 with 1 Axes>"
      ]
     },
     "metadata": {
      "needs_background": "light"
     },
     "output_type": "display_data"
    }
   ],
   "source": [
    "# Choose the eigenvectors with M largest eigenvalues as eigenfaces\n",
    "\n",
    "M = 30 # Number of eigenvectors with M largest eigenvalues to be used\n",
    "\n",
    "sorted_index = np.argsort(-nonzero_eigvals)[:M]\n",
    "print(sorted_index)\n",
    "\n",
    "eigfaces = eigvecs_nonzero_eigvals[:,sorted_index]\n",
    "print(eigfaces.shape)\n",
    "\n",
    "plt.imshow(np.reshape(eigfaces[:,0],(46,56)).T, cmap = 'gist_gray')"
   ]
  },
  {
   "cell_type": "markdown",
   "metadata": {},
   "source": [
    "# Eigenfaces b"
   ]
  },
  {
   "cell_type": "code",
   "execution_count": 9,
   "metadata": {},
   "outputs": [
    {
     "name": "stdout",
     "output_type": "stream",
     "text": [
      "467\n",
      "(2576, 2576)\n",
      "(468, 468)\n"
     ]
    }
   ],
   "source": [
    "# Compute covariance matrix with low-dimensional compution\n",
    "\n",
    "S_low_dim = ((A.T).dot(A)) / num_train\n",
    "\n",
    "print(matrix_rank(A))\n",
    "print(S.shape)\n",
    "print(S_low_dim.shape)"
   ]
  },
  {
   "cell_type": "code",
   "execution_count": 10,
   "metadata": {},
   "outputs": [],
   "source": [
    "# Compute the egenvalues \n",
    "\n",
    "eigvals_low_dim, eigvecs_low_dim = np.linalg.eig(S_low_dim)\n",
    "eigvals_low_dim = eigvals_low_dim.real\n",
    "eigvecs_low_dim = eigvecs_low_dim.real"
   ]
  },
  {
   "cell_type": "code",
   "execution_count": 11,
   "metadata": {},
   "outputs": [
    {
     "name": "stdout",
     "output_type": "stream",
     "text": [
      "(468,)\n",
      "(468, 468)\n",
      "(467,)\n",
      "(468, 467)\n"
     ]
    }
   ],
   "source": [
    "# Compute the nonzero eigenvalues and their eigenvectors\n",
    "\n",
    "print(eigvals_low_dim.shape)\n",
    "print(eigvecs_low_dim.shape)\n",
    "\n",
    "nonzero_eigvals_low_dim = eigvals_low_dim[abs(eigvals_low_dim) >= 1e-7]\n",
    "print(nonzero_eigvals_low_dim.shape)\n",
    "\n",
    "eigvecs_nonzero_eigvals_low_dim = eigvecs_low_dim[:,abs(eigvals_low_dim) >= 1e-7]\n",
    "print(eigvecs_nonzero_eigvals_low_dim.shape)"
   ]
  },
  {
   "cell_type": "code",
   "execution_count": 12,
   "metadata": {},
   "outputs": [
    {
     "data": {
      "text/plain": [
       "<matplotlib.image.AxesImage at 0xb3810a8358>"
      ]
     },
     "execution_count": 12,
     "metadata": {},
     "output_type": "execute_result"
    },
    {
     "data": {
      "image/png": "[encoded data removed]",
      "text/plain": [
       "<Figure size 432x288 with 1 Axes>"
      ]
     },
     "metadata": {
      "needs_background": "light"
     },
     "output_type": "display_data"
    }
   ],
   "source": [
    "# Choose the eigenvectors with M largest eigenvalues as eigenfaces and \n",
    "# convert them to the eigenvectors of S and normalize them\n",
    "\n",
    "eigfaces_low_dim_unnormalized = A.dot(eigvecs_nonzero_eigvals_low_dim[:,np.argsort(-nonzero_eigvals_low_dim)[:M]])\n",
    "\n",
    "eigfaces_low_dim = (preprocessing.normalize(eigfaces_low_dim_unnormalized.T, norm='l2')).T\n",
    "\n",
    "#print(eigfaces_low_dim[:,0])\n",
    "#print(eigfaces[:,0])\n",
    "#print(eigfaces_low_dim.shape)\n",
    "\n",
    "plt.imshow(np.reshape(eigfaces_low_dim[:,0],(46,56)).T, cmap = 'gist_gray')"
   ]
  },
  {
   "cell_type": "markdown",
   "metadata": {},
   "source": [
    "# PCA-LAD"
   ]
  },
  {
   "cell_type": "code",
   "execution_count": 13,
   "metadata": {},
   "outputs": [],
   "source": [
    "sorted_train_data = train_data[:,np.argsort(train_label)]\n",
    "sorted_train_label = train_label[np.argsort(train_label)]"
   ]
  },
  {
   "cell_type": "code",
   "execution_count": 14,
   "metadata": {},
   "outputs": [],
   "source": [
    "# Compute class mean M, the class mean for the i-th class is the \n",
    "# i-th column vector of M \n",
    "\n",
    "c = len(counts_train) # number of classes\n",
    "M = np.zeros((num_pix, c))\n",
    "\n",
    "list_Sw = [] # Each element of list_Sw contains the with-in scatter matrix of the i+1th class\n",
    "\n",
    "current_index = 0;\n",
    "for idx,cnt in enumerate(counts_train):\n",
    "    X = sorted_train_data[:,current_index : current_index + cnt]\n",
    "    M[:,idx] = (X.mean(axis=1))\n",
    "    A_Sw =  X - M[:,idx].reshape(num_pix,1)\n",
    "    Sw = A_Sw.dot(A_Sw.T)\n",
    "    list_Sw.append(Sw)\n",
    "    current_index += cnt"
   ]
  },
  {
   "cell_type": "code",
   "execution_count": 15,
   "metadata": {},
   "outputs": [
    {
     "name": "stdout",
     "output_type": "stream",
     "text": [
      "51\n",
      "51\n"
     ]
    }
   ],
   "source": [
    "# Compute between-scatter matrix Sb\n",
    "\n",
    "A_Sb =  M - avg_face.reshape(num_pix,1)\n",
    "Sb = A_Sb.dot(A_Sb.T)\n",
    "print(matrix_rank(Sb))\n",
    "print(c-1)"
   ]
  },
  {
   "cell_type": "code",
   "execution_count": 16,
   "metadata": {},
   "outputs": [
    {
     "name": "stdout",
     "output_type": "stream",
     "text": [
      "416\n",
      "416\n"
     ]
    }
   ],
   "source": [
    "# Compute within-scatter matrix Sw\n",
    "N = num_train\n",
    "Sw = np.zeros((num_pix,num_pix))\n",
    "\n",
    "for i in range(c):\n",
    "    Sw += list_Sw[i]\n",
    "    \n",
    "print(matrix_rank(Sw))\n",
    "print(N-c)"
   ]
  },
  {
   "cell_type": "code",
   "execution_count": 17,
   "metadata": {},
   "outputs": [],
   "source": [
    "# PCA to reduce dimenstion to Mpca\n",
    "\n",
    "M_pca= 200\n",
    "    \n",
    "W_pca_unnormalized = A.dot(eigvecs_nonzero_eigvals_low_dim[:,np.argsort(-nonzero_eigvals_low_dim)[:M_pca]]) \n",
    "W_pca = (preprocessing.normalize(W_pca_unnormalized.T, norm='l2')).T"
   ]
  },
  {
   "cell_type": "code",
   "execution_count": 18,
   "metadata": {},
   "outputs": [],
   "source": [
    "# Project Sw and Sb to PCA reduced subspace\n",
    "Sb_pca = (W_pca.T).dot(Sb.dot(W_pca))\n",
    "Sw_pca = (W_pca.T).dot(Sw.dot(W_pca))\n",
    "\n",
    "#print(Sw_pca.shape)"
   ]
  },
  {
   "cell_type": "code",
   "execution_count": 19,
   "metadata": {},
   "outputs": [
    {
     "name": "stdout",
     "output_type": "stream",
     "text": [
      "51\n",
      "(200,)\n",
      "(200, 200)\n",
      "(51,)\n",
      "(200, 51)\n",
      "(200, 50)\n"
     ]
    }
   ],
   "source": [
    "# Perform LDA on the reduced subspace\n",
    "\n",
    "eigvals_lda, eigvecs_lda = np.linalg.eig((inv(Sw_pca)).dot(Sb_pca))\n",
    "eigvals_lda = eigvals_lda.real\n",
    "eigvecs_lda = eigvecs_lda.real\n",
    "\n",
    "print(matrix_rank((inv(Sw_pca)).dot(Sb_pca)))\n",
    "print(eigvals_lda.shape)\n",
    "print(eigvecs_lda.shape)\n",
    "\n",
    "nonzero_eigvals_lda = eigvals_lda[abs(eigvals_lda) >= 1e-7]\n",
    "print(nonzero_eigvals_lda.shape)\n",
    "\n",
    "eigvecs_nonzero_eigvals_lda = eigvecs_lda[:,abs(eigvals_lda) >= 1e-7]\n",
    "print(eigvecs_nonzero_eigvals_lda.shape)\n",
    "\n",
    "M_lda = 50\n",
    "\n",
    "sorted_index_lda = np.argsort(-nonzero_eigvals_lda)[:M_lda]\n",
    "#print(sorted_index_lda)\n",
    "\n",
    "W_lda = eigvecs_nonzero_eigvals_lda[:,sorted_index_lda]\n",
    "print(W_lda.shape)\n"
   ]
  },
  {
   "cell_type": "code",
   "execution_count": 20,
   "metadata": {},
   "outputs": [
    {
     "name": "stdout",
     "output_type": "stream",
     "text": [
      "(52, 200)\n",
      "(52, 50)\n",
      "[31 32 41 41 31 20 11 37  2 21 52 37 39 42 52 48  5 48 43 23 27  5 50 31\n",
      "  1  6  2 40 14 12 29 18  2 15 44 11 51 44 31 12  8 10 34 19 26 23 16 16\n",
      "  9  4 52 31]\n",
      "[31, 32, 41, 41, 31, 20, 11, 37, 8, 21, 38, 37, 39, 42, 52, 48, 5, 48, 43, 23, 19, 5, 50, 31, 38, 6, 2, 40, 14, 12, 38, 18, 2, 15, 38, 11, 51, 44, 31, 12, 8, 10, 6, 21, 20, 29, 16, 1, 9, 4, 52, 31]\n"
     ]
    }
   ],
   "source": [
    "# NN-classification\n",
    "\n",
    "# Project train faces onto LDA subspace\n",
    "W_train_pca = (A.T).dot(W_pca)\n",
    "W_train_lda = (W_train_pca).dot(W_lda)\n",
    "\n",
    "A_test_lda = test_data - avg_face.reshape(num_pix,1)\n",
    "\n",
    "# Project test data to PCA subspace\n",
    "W_test_pca = (A_test_lda.T).dot(W_pca) # Coordinates (row vector) on PCA subspace\n",
    "\n",
    "# Project test data to LDA subspace\n",
    "W_test_lda = (W_test_pca).dot(W_lda) # Coordinates (row vector) on LDA subspace\n",
    "\n",
    "print(W_test_pca.shape)\n",
    "print(W_test_lda.shape)\n",
    "\n",
    "test_results_lda = []\n",
    "for row in W_test_lda:\n",
    "    index = np.argmin(np.linalg.norm(row - W_train_lda, axis=1))\n",
    "    test_results_lda.append(face_id[0,train_id[index]])\n",
    "    \n",
    "true_results = face_id[0,test_id]\n",
    "\n",
    "print(true_results)\n",
    "print(test_results_lda)\n",
    "\n"
   ]
  },
  {
   "cell_type": "code",
   "execution_count": 21,
   "metadata": {},
   "outputs": [
    {
     "name": "stdout",
     "output_type": "stream",
     "text": [
      "0.7884615384615384\n",
      "[[0 0 0 ... 0 0 0]\n",
      " [0 2 0 ... 0 0 0]\n",
      " [0 0 1 ... 0 0 0]\n",
      " ...\n",
      " [0 0 0 ... 1 0 0]\n",
      " [0 0 0 ... 0 1 0]\n",
      " [0 0 0 ... 0 0 2]]\n"
     ]
    },
    {
     "data": {
      "image/png": "[encoded data removed]",
      "text/plain": [
       "<Figure size 288x288 with 2 Axes>"
      ]
     },
     "metadata": {
      "needs_background": "light"
     },
     "output_type": "display_data"
    }
   ],
   "source": [
    "results_error_lda = test_results_lda - true_results\n",
    "\n",
    "success_rate = np.count_nonzero(results_error_lda == 0) / len(true_results)\n",
    "print(success_rate)\n",
    "\n",
    "cm = confusion_matrix(true_results, test_results_lda)\n",
    "\n",
    "print(cm)\n",
    "plt.matshow(cm, cmap = 'Blues')\n",
    "plt.colorbar()\n",
    "plt.ylabel('Actual')\n",
    "plt.xlabel('Predicted')\n",
    "plt.show()"
   ]
  },
  {
   "cell_type": "code",
   "execution_count": 22,
   "metadata": {},
   "outputs": [
    {
     "data": {
      "text/plain": [
       "<matplotlib.image.AxesImage at 0xb38ca4b400>"
      ]
     },
     "execution_count": 22,
     "metadata": {},
     "output_type": "execute_result"
    },
    {
     "data": {
      "image/png": "[encoded data removed]",
      "text/plain": [
       "<Figure size 432x288 with 1 Axes>"
      ]
     },
     "metadata": {
      "needs_background": "light"
     },
     "output_type": "display_data"
    }
   ],
   "source": [
    "# Generate fisherfaces by converting Wlda back to its original data space\n",
    "\n",
    "fisherfaces = W_pca.dot(W_lda) # Columns are fisherfaces\n",
    "\n",
    "plt.imshow(np.reshape(fisherfaces[:,0],(46,56)).T, cmap = 'gist_gray')"
   ]
  },
  {
   "cell_type": "code",
   "execution_count": null,
   "metadata": {},
   "outputs": [],
   "source": []
  },
  {
   "cell_type": "markdown",
   "metadata": {},
   "source": [
    "# PCA-LDA Ensemble "
   ]
  },
  {
   "cell_type": "code",
   "execution_count": 23,
   "metadata": {},
   "outputs": [],
   "source": [
    "sorted_train_data = train_data[:,np.argsort(train_label)]\n",
    "sorted_train_label = train_label[np.argsort(train_label)]"
   ]
  },
  {
   "cell_type": "code",
   "execution_count": 24,
   "metadata": {},
   "outputs": [],
   "source": [
    "import random\n",
    "\n",
    "T = 50\n",
    "M0 = 10\n",
    "M1 = 90\n",
    "# Mpca = M0 + M1 should not exceed \n",
    "M_lda = 50\n",
    "n_sample = 7 # number of samples per class\n",
    "\n",
    "# Generate random subspaces \n",
    "def rand_subspace(eigvecs,eigvals):\n",
    "    subspace = eigvecs[:,np.argsort(-eigvals)[ : M0]]\n",
    "    #print(len(eigvals))\n",
    "    index = (np.argsort(eigvals)[ : len(eigvals) - M0]).tolist()\n",
    "    rand_index = random.sample(index, M1)  \n",
    "    subspace = np.concatenate((subspace, eigvecs[:,rand_index]), axis=1)\n",
    "    return subspace\n",
    "\n",
    "# Bagging (from every class)\n",
    "def rand_sample(sorted_train_data,sorted_train_label,counts_train):\n",
    "    sample = list()\n",
    "    label = list()\n",
    "    current_index = 0\n",
    "    for idx,cnt in enumerate(counts_train):\n",
    "        for j in range(n_sample):\n",
    "            index = random.randrange(current_index, current_index + cnt, 1)\n",
    "            sample.append(sorted_train_data[:,index])\n",
    "            label.append(sorted_train_label[index])\n",
    "        current_index += cnt\n",
    "    \n",
    "    return ((np.asarray(sample)).T), np.asarray(label)\n",
    "\n",
    "# Generate eigenspace of data set using PCA\n",
    "def eigspace_generator_ensemble(data):\n",
    "    num_train = len(data[0])\n",
    "    avg_face = data.mean(axis=1)\n",
    "    num_pix = len(data)\n",
    "    A = data - avg_face.reshape(num_pix,1)\n",
    "    S_low_dim = ((A.T).dot(A)) / num_train\n",
    "    eigvals_low_dim, eigvecs_low_dim = np.linalg.eig(S_low_dim)\n",
    "    eigvals_low_dim = eigvals_low_dim.real\n",
    "    eigvecs_low_dim = eigvecs_low_dim.real\n",
    "    nonzero_eigvals_low_dim = eigvals_low_dim[abs(eigvals_low_dim) >= 1e-7]\n",
    "    eigvecs_nonzero_eigvals_low_dim = eigvecs_low_dim[:,abs(eigvals_low_dim) >= 1e-7]\n",
    "    eigfaces_low_dim_unnormalized = A.dot(eigvecs_nonzero_eigvals_low_dim[:,np.argsort(-nonzero_eigvals_low_dim)[:]]) \n",
    "    eigfaces_low_dim = (preprocessing.normalize(eigfaces_low_dim_unnormalized.T, norm='l2')).T\n",
    "    return eigfaces_low_dim, nonzero_eigvals_low_dim\n"
   ]
  },
  {
   "cell_type": "code",
   "execution_count": null,
   "metadata": {},
   "outputs": [],
   "source": []
  },
  {
   "cell_type": "code",
   "execution_count": 25,
   "metadata": {},
   "outputs": [],
   "source": [
    "def lda_rand_subspace(W_pca,test_data): # test_data single column vector\n",
    "    \n",
    "    Sb_pca = (W_pca.T).dot(Sb.dot(W_pca))\n",
    "    Sw_pca = (W_pca.T).dot(Sw.dot(W_pca))\n",
    "    \n",
    "    eigvals_lda, eigvecs_lda = np.linalg.eig((inv(Sw_pca)).dot(Sb_pca))\n",
    "    eigvals_lda = eigvals_lda.real\n",
    "    eigvecs_lda = eigvecs_lda.real\n",
    "\n",
    "    nonzero_eigvals_lda = eigvals_lda[abs(eigvals_lda) >= 1e-7]\n",
    "    eigvecs_nonzero_eigvals_lda = eigvecs_lda[:,abs(eigvals_lda) >= 1e-7]\n",
    "    \n",
    "    sorted_index_lda = np.argsort(-nonzero_eigvals_lda)[:M_lda]\n",
    "\n",
    "    W_lda = eigvecs_nonzero_eigvals_lda[:,sorted_index_lda]\n",
    "    \n",
    "    # NN-classification\n",
    "\n",
    "    W_train_pca = (A.T).dot(W_pca)\n",
    "    W_train_lda = (W_train_pca).dot(W_lda)\n",
    "    sorted_W_train_lda = W_train_lda[np.argsort(train_label),:]\n",
    "\n",
    "    A_test_lda = test_data.reshape(num_pix,1) - avg_face.reshape(num_pix,1)\n",
    "\n",
    "    # Project test data to PCA subspace\n",
    "    W_test_pca = (A_test_lda.T).dot(W_pca) # Coordinates (row vector) on PCA subspace\n",
    "    # Project test data to LDA subspace\n",
    "    W_test_lda = (W_test_pca).dot(W_lda) # Coordinates (row vector) on LDA subspace\n",
    "    \n",
    "    distance = np.linalg.norm(W_test_lda - sorted_W_train_lda, axis=1) # row vector containing Euclidiean distance to each tranining data\n",
    "   \n",
    "        \n",
    "    min_distance = []\n",
    "    current_index = 0;\n",
    "    for idx,cnt in enumerate(counts_train):\n",
    "        distance = distance.reshape(len(distance),1)\n",
    "        distance[current_index : current_index + cnt,:]\n",
    "        min_distance.append(min(distance[current_index : current_index + cnt,:]))\n",
    "        current_index += cnt\n",
    "    \n",
    "    post_distribution = (min_distance / sum(min_distance)) \n",
    "    \n",
    "    return post_distribution"
   ]
  },
  {
   "cell_type": "markdown",
   "metadata": {},
   "source": [
    "# Committe machine with randomized feature space"
   ]
  },
  {
   "cell_type": "code",
   "execution_count": 26,
   "metadata": {},
   "outputs": [],
   "source": [
    "R = [] \n",
    "for i in range(T):\n",
    "    R.append(rand_subspace(eigvecs_nonzero_eigvals,nonzero_eigvals)) # generate T random subspaces"
   ]
  },
  {
   "cell_type": "code",
   "execution_count": 29,
   "metadata": {},
   "outputs": [
    {
     "name": "stdout",
     "output_type": "stream",
     "text": [
      "[46]\n",
      "[46, 32]\n",
      "[46, 32, 41]\n",
      "[46, 32, 41, 41]\n",
      "[46, 32, 41, 41, 31]\n",
      "[46, 32, 41, 41, 31, 20]\n",
      "[46, 32, 41, 41, 31, 20, 11]\n",
      "[46, 32, 41, 41, 31, 20, 11, 37]\n",
      "[46, 32, 41, 41, 31, 20, 11, 37, 18]\n",
      "[46, 32, 41, 41, 31, 20, 11, 37, 18, 21]\n",
      "[46, 32, 41, 41, 31, 20, 11, 37, 18, 21, 52]\n",
      "[46, 32, 41, 41, 31, 20, 11, 37, 18, 21, 52, 37]\n",
      "[46, 32, 41, 41, 31, 20, 11, 37, 18, 21, 52, 37, 39]\n",
      "[46, 32, 41, 41, 31, 20, 11, 37, 18, 21, 52, 37, 39, 42]\n",
      "[46, 32, 41, 41, 31, 20, 11, 37, 18, 21, 52, 37, 39, 42, 52]\n",
      "[46, 32, 41, 41, 31, 20, 11, 37, 18, 21, 52, 37, 39, 42, 52, 48]\n",
      "[46, 32, 41, 41, 31, 20, 11, 37, 18, 21, 52, 37, 39, 42, 52, 48, 5]\n",
      "[46, 32, 41, 41, 31, 20, 11, 37, 18, 21, 52, 37, 39, 42, 52, 48, 5, 48]\n",
      "[46, 32, 41, 41, 31, 20, 11, 37, 18, 21, 52, 37, 39, 42, 52, 48, 5, 48, 43]\n",
      "[46, 32, 41, 41, 31, 20, 11, 37, 18, 21, 52, 37, 39, 42, 52, 48, 5, 48, 43, 23]\n",
      "[46, 32, 41, 41, 31, 20, 11, 37, 18, 21, 52, 37, 39, 42, 52, 48, 5, 48, 43, 23, 48]\n",
      "[46, 32, 41, 41, 31, 20, 11, 37, 18, 21, 52, 37, 39, 42, 52, 48, 5, 48, 43, 23, 48, 5]\n",
      "[46, 32, 41, 41, 31, 20, 11, 37, 18, 21, 52, 37, 39, 42, 52, 48, 5, 48, 43, 23, 48, 5, 50]\n",
      "[46, 32, 41, 41, 31, 20, 11, 37, 18, 21, 52, 37, 39, 42, 52, 48, 5, 48, 43, 23, 48, 5, 50, 31]\n",
      "[46, 32, 41, 41, 31, 20, 11, 37, 18, 21, 52, 37, 39, 42, 52, 48, 5, 48, 43, 23, 48, 5, 50, 31, 7]\n",
      "[46, 32, 41, 41, 31, 20, 11, 37, 18, 21, 52, 37, 39, 42, 52, 48, 5, 48, 43, 23, 48, 5, 50, 31, 7, 6]\n",
      "[46, 32, 41, 41, 31, 20, 11, 37, 18, 21, 52, 37, 39, 42, 52, 48, 5, 48, 43, 23, 48, 5, 50, 31, 7, 6, 2]\n",
      "[46, 32, 41, 41, 31, 20, 11, 37, 18, 21, 52, 37, 39, 42, 52, 48, 5, 48, 43, 23, 48, 5, 50, 31, 7, 6, 2, 29]\n",
      "[46, 32, 41, 41, 31, 20, 11, 37, 18, 21, 52, 37, 39, 42, 52, 48, 5, 48, 43, 23, 48, 5, 50, 31, 7, 6, 2, 29, 14]\n",
      "[46, 32, 41, 41, 31, 20, 11, 37, 18, 21, 52, 37, 39, 42, 52, 48, 5, 48, 43, 23, 48, 5, 50, 31, 7, 6, 2, 29, 14, 12]\n",
      "[46, 32, 41, 41, 31, 20, 11, 37, 18, 21, 52, 37, 39, 42, 52, 48, 5, 48, 43, 23, 48, 5, 50, 31, 7, 6, 2, 29, 14, 12, 29]\n",
      "[46, 32, 41, 41, 31, 20, 11, 37, 18, 21, 52, 37, 39, 42, 52, 48, 5, 48, 43, 23, 48, 5, 50, 31, 7, 6, 2, 29, 14, 12, 29, 18]\n",
      "[46, 32, 41, 41, 31, 20, 11, 37, 18, 21, 52, 37, 39, 42, 52, 48, 5, 48, 43, 23, 48, 5, 50, 31, 7, 6, 2, 29, 14, 12, 29, 18, 2]\n",
      "[46, 32, 41, 41, 31, 20, 11, 37, 18, 21, 52, 37, 39, 42, 52, 48, 5, 48, 43, 23, 48, 5, 50, 31, 7, 6, 2, 29, 14, 12, 29, 18, 2, 15]\n",
      "[46, 32, 41, 41, 31, 20, 11, 37, 18, 21, 52, 37, 39, 42, 52, 48, 5, 48, 43, 23, 48, 5, 50, 31, 7, 6, 2, 29, 14, 12, 29, 18, 2, 15, 44]\n",
      "[46, 32, 41, 41, 31, 20, 11, 37, 18, 21, 52, 37, 39, 42, 52, 48, 5, 48, 43, 23, 48, 5, 50, 31, 7, 6, 2, 29, 14, 12, 29, 18, 2, 15, 44, 11]\n",
      "[46, 32, 41, 41, 31, 20, 11, 37, 18, 21, 52, 37, 39, 42, 52, 48, 5, 48, 43, 23, 48, 5, 50, 31, 7, 6, 2, 29, 14, 12, 29, 18, 2, 15, 44, 11, 51]\n",
      "[46, 32, 41, 41, 31, 20, 11, 37, 18, 21, 52, 37, 39, 42, 52, 48, 5, 48, 43, 23, 48, 5, 50, 31, 7, 6, 2, 29, 14, 12, 29, 18, 2, 15, 44, 11, 51, 44]\n",
      "[46, 32, 41, 41, 31, 20, 11, 37, 18, 21, 52, 37, 39, 42, 52, 48, 5, 48, 43, 23, 48, 5, 50, 31, 7, 6, 2, 29, 14, 12, 29, 18, 2, 15, 44, 11, 51, 44, 31]\n",
      "[46, 32, 41, 41, 31, 20, 11, 37, 18, 21, 52, 37, 39, 42, 52, 48, 5, 48, 43, 23, 48, 5, 50, 31, 7, 6, 2, 29, 14, 12, 29, 18, 2, 15, 44, 11, 51, 44, 31, 12]\n",
      "[46, 32, 41, 41, 31, 20, 11, 37, 18, 21, 52, 37, 39, 42, 52, 48, 5, 48, 43, 23, 48, 5, 50, 31, 7, 6, 2, 29, 14, 12, 29, 18, 2, 15, 44, 11, 51, 44, 31, 12, 8]\n",
      "[46, 32, 41, 41, 31, 20, 11, 37, 18, 21, 52, 37, 39, 42, 52, 48, 5, 48, 43, 23, 48, 5, 50, 31, 7, 6, 2, 29, 14, 12, 29, 18, 2, 15, 44, 11, 51, 44, 31, 12, 8, 10]\n",
      "[46, 32, 41, 41, 31, 20, 11, 37, 18, 21, 52, 37, 39, 42, 52, 48, 5, 48, 43, 23, 48, 5, 50, 31, 7, 6, 2, 29, 14, 12, 29, 18, 2, 15, 44, 11, 51, 44, 31, 12, 8, 10, 34]\n",
      "[46, 32, 41, 41, 31, 20, 11, 37, 18, 21, 52, 37, 39, 42, 52, 48, 5, 48, 43, 23, 48, 5, 50, 31, 7, 6, 2, 29, 14, 12, 29, 18, 2, 15, 44, 11, 51, 44, 31, 12, 8, 10, 34, 21]\n",
      "[46, 32, 41, 41, 31, 20, 11, 37, 18, 21, 52, 37, 39, 42, 52, 48, 5, 48, 43, 23, 48, 5, 50, 31, 7, 6, 2, 29, 14, 12, 29, 18, 2, 15, 44, 11, 51, 44, 31, 12, 8, 10, 34, 21, 26]\n",
      "[46, 32, 41, 41, 31, 20, 11, 37, 18, 21, 52, 37, 39, 42, 52, 48, 5, 48, 43, 23, 48, 5, 50, 31, 7, 6, 2, 29, 14, 12, 29, 18, 2, 15, 44, 11, 51, 44, 31, 12, 8, 10, 34, 21, 26, 23]\n",
      "[46, 32, 41, 41, 31, 20, 11, 37, 18, 21, 52, 37, 39, 42, 52, 48, 5, 48, 43, 23, 48, 5, 50, 31, 7, 6, 2, 29, 14, 12, 29, 18, 2, 15, 44, 11, 51, 44, 31, 12, 8, 10, 34, 21, 26, 23, 16]\n",
      "[46, 32, 41, 41, 31, 20, 11, 37, 18, 21, 52, 37, 39, 42, 52, 48, 5, 48, 43, 23, 48, 5, 50, 31, 7, 6, 2, 29, 14, 12, 29, 18, 2, 15, 44, 11, 51, 44, 31, 12, 8, 10, 34, 21, 26, 23, 16, 17]\n",
      "[46, 32, 41, 41, 31, 20, 11, 37, 18, 21, 52, 37, 39, 42, 52, 48, 5, 48, 43, 23, 48, 5, 50, 31, 7, 6, 2, 29, 14, 12, 29, 18, 2, 15, 44, 11, 51, 44, 31, 12, 8, 10, 34, 21, 26, 23, 16, 17, 9]\n",
      "[46, 32, 41, 41, 31, 20, 11, 37, 18, 21, 52, 37, 39, 42, 52, 48, 5, 48, 43, 23, 48, 5, 50, 31, 7, 6, 2, 29, 14, 12, 29, 18, 2, 15, 44, 11, 51, 44, 31, 12, 8, 10, 34, 21, 26, 23, 16, 17, 9, 4]\n",
      "[46, 32, 41, 41, 31, 20, 11, 37, 18, 21, 52, 37, 39, 42, 52, 48, 5, 48, 43, 23, 48, 5, 50, 31, 7, 6, 2, 29, 14, 12, 29, 18, 2, 15, 44, 11, 51, 44, 31, 12, 8, 10, 34, 21, 26, 23, 16, 17, 9, 4, 28]\n",
      "[46, 32, 41, 41, 31, 20, 11, 37, 18, 21, 52, 37, 39, 42, 52, 48, 5, 48, 43, 23, 48, 5, 50, 31, 7, 6, 2, 29, 14, 12, 29, 18, 2, 15, 44, 11, 51, 44, 31, 12, 8, 10, 34, 21, 26, 23, 16, 17, 9, 4, 28, 31]\n"
     ]
    }
   ],
   "source": [
    "# average\n",
    "\n",
    "avg_error = []\n",
    "test_results_ensemble = []\n",
    "\n",
    "for i in range(len(test_data[0])):\n",
    "    NN_class = []\n",
    "    post_distribution = [] # each column vector contains posterior distribution of each model\n",
    "    \n",
    "    for j in range(T):\n",
    "        post_distribution.append(lda_rand_subspace(R[j],test_data[:,i])) # perform lda on each subspaces learnt\n",
    "        NN_class.append(np.argmin(post_distribution[j]) + 1)\n",
    "        \n",
    "    index = np.argmin(sum(post_distribution) / T) + 1\n",
    "    test_results_ensemble.append(index)\n",
    "    avg_error.append(np.count_nonzero(NN_class -  true_results[i] != 0) / len(NN_class))\n",
    "    print(test_results_ensemble)"
   ]
  },
  {
   "cell_type": "code",
   "execution_count": 33,
   "metadata": {},
   "outputs": [
    {
     "name": "stdout",
     "output_type": "stream",
     "text": [
      "0.15384615384615385\n",
      "0.43461538461538457\n",
      "0.8461538461538461\n"
     ]
    }
   ],
   "source": [
    "results_error = test_results_ensemble - true_results\n",
    "\n",
    "error_rate = np.count_nonzero(results_error != 0) / len(results_error)\n",
    "success_rate = np.count_nonzero(results_error == 0) / len(results_error)\n",
    "print(error_rate)\n",
    "print(np.mean(avg_error))\n",
    "print(success_rate)"
   ]
  },
  {
   "cell_type": "code",
   "execution_count": null,
   "metadata": {},
   "outputs": [],
   "source": [
    "import matplotlib.pyplot as plt; plt.rcdefaults()\n",
    "import numpy as np\n",
    "import matplotlib.pyplot as plt\n",
    "\n",
    "objects = ()\n",
    "for i in range(52):\n",
    "    objects += (i+1,)\n",
    "y_pos = np.arange(len(objects))\n",
    "performance = post_distribution[0].reshape(52,)\n",
    " \n",
    "plt.bar(y_pos, performance, align='center', alpha=0.5)\n",
    "#plt.xticks(y_pos, objects)\n",
    "plt.xlabel('Class index (class label -1)')\n",
    "plt.ylabel('Probability')\n",
    "plt.title('Posterior distribution')\n",
    " \n",
    "plt.show()"
   ]
  },
  {
   "cell_type": "code",
   "execution_count": null,
   "metadata": {},
   "outputs": [],
   "source": [
    "def product(l):\n",
    "    p = 1\n",
    "    for i in l:\n",
    "        p = p*i\n",
    "    return p\n",
    "\n",
    "# product\n",
    "\n",
    "test_results_ensemble = []\n",
    "for i in range(1):\n",
    "    post_distribution = [] # each column vector contains posterior distribution of each model\n",
    "    \n",
    "    for j in range(T):\n",
    "        post_distribution.append(lda_rand_subspace(R[j],test_data[:,i])) # perform lda on each subspaces learnt\n",
    "\n",
    "    index = np.argmin(product(post_distribution) / T) + 1\n",
    "    test_results_ensemble.append(index)\n",
    "    print(test_results_ensemble)"
   ]
  },
  {
   "cell_type": "code",
   "execution_count": null,
   "metadata": {},
   "outputs": [],
   "source": [
    "import matplotlib.pyplot as plt; plt.rcdefaults()\n",
    "import numpy as np\n",
    "import matplotlib.pyplot as plt\n",
    "\n",
    "objects = ()\n",
    "for i in range(52):\n",
    "    objects += (i+1,)\n",
    "y_pos = np.arange(len(objects))\n",
    "performance = ((product(post_distribution) / T).reshape(52,))*1e16\n",
    " \n",
    "plt.bar(y_pos, performance, align='center', alpha=0.5)\n",
    "#plt.xticks(y_pos, objects)\n",
    "plt.xlabel('Class index (class label -1)')\n",
    "plt.ylabel('Probability')\n",
    "plt.title('Posterior distribution')\n",
    " \n",
    "plt.show()"
   ]
  },
  {
   "cell_type": "code",
   "execution_count": null,
   "metadata": {},
   "outputs": [],
   "source": []
  }
 ],
 "metadata": {
  "kernelspec": {
   "display_name": "Python 3",
   "language": "python",
   "name": "python3"
  },
  "language_info": {
   "codemirror_mode": {
    "name": "ipython",
    "version": 3
   },
   "file_extension": ".py",
   "mimetype": "text/x-python",
   "name": "python",
   "nbconvert_exporter": "python",
   "pygments_lexer": "ipython3",
   "version": "3.6.5"
  }
 },
 "nbformat": 4,
 "nbformat_minor": 2
}
