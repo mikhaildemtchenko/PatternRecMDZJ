{
 "cells": [
  {
   "cell_type": "markdown",
   "metadata": {},
   "source": [
    "# Eigenfaces a"
   ]
  },
  {
   "cell_type": "code",
   "execution_count": 1,
   "metadata": {},
   "outputs": [
    {
     "name": "stdout",
     "output_type": "stream",
     "text": [
      "[[106 130 191 ...  70 183  77]\n",
      " [103 129 185 ...  62 250  72]\n",
      " [103 130 174 ...  83 163  68]\n",
      " ...\n",
      " [ 37  40  22 ...  87 102  93]\n",
      " [ 36  36  19 ...  89  95 103]\n",
      " [ 41  35  17 ...  94 106 110]]\n",
      "(2576, 520)\n",
      "[[ 1  1  1  1  1  1  1  1  1  1  2  2  2  2  2  2  2  2  2  2  3  3  3  3\n",
      "   3  3  3  3  3  3  4  4  4  4  4  4  4  4  4  4  5  5  5  5  5  5  5  5\n",
      "   5  5  6  6  6  6  6  6  6  6  6  6  7  7  7  7  7  7  7  7  7  7  8  8\n",
      "   8  8  8  8  8  8  8  8  9  9  9  9  9  9  9  9  9  9 10 10 10 10 10 10\n",
      "  10 10 10 10 11 11 11 11 11 11 11 11 11 11 12 12 12 12 12 12 12 12 12 12\n",
      "  13 13 13 13 13 13 13 13 13 13 14 14 14 14 14 14 14 14 14 14 15 15 15 15\n",
      "  15 15 15 15 15 15 16 16 16 16 16 16 16 16 16 16 17 17 17 17 17 17 17 17\n",
      "  17 17 18 18 18 18 18 18 18 18 18 18 19 19 19 19 19 19 19 19 19 19 20 20\n",
      "  20 20 20 20 20 20 20 20 21 21 21 21 21 21 21 21 21 21 22 22 22 22 22 22\n",
      "  22 22 22 22 23 23 23 23 23 23 23 23 23 23 24 24 24 24 24 24 24 24 24 24\n",
      "  25 25 25 25 25 25 25 25 25 25 26 26 26 26 26 26 26 26 26 26 27 27 27 27\n",
      "  27 27 27 27 27 27 28 28 28 28 28 28 28 28 28 28 29 29 29 29 29 29 29 29\n",
      "  29 29 30 30 30 30 30 30 30 30 30 30 31 31 31 31 31 31 31 31 31 31 32 32\n",
      "  32 32 32 32 32 32 32 32 33 33 33 33 33 33 33 33 33 33 34 34 34 34 34 34\n",
      "  34 34 34 34 35 35 35 35 35 35 35 35 35 35 36 36 36 36 36 36 36 36 36 36\n",
      "  37 37 37 37 37 37 37 37 37 37 38 38 38 38 38 38 38 38 38 38 39 39 39 39\n",
      "  39 39 39 39 39 39 40 40 40 40 40 40 40 40 40 40 41 41 41 41 41 41 41 41\n",
      "  41 41 42 42 42 42 42 42 42 42 42 42 43 43 43 43 43 43 43 43 43 43 44 44\n",
      "  44 44 44 44 44 44 44 44 45 45 45 45 45 45 45 45 45 45 46 46 46 46 46 46\n",
      "  46 46 46 46 47 47 47 47 47 47 47 47 47 47 48 48 48 48 48 48 48 48 48 48\n",
      "  49 49 49 49 49 49 49 49 49 49 50 50 50 50 50 50 50 50 50 50 51 51 51 51\n",
      "  51 51 51 51 51 51 52 52 52 52 52 52 52 52 52 52]]\n",
      "(1, 520)\n"
     ]
    }
   ],
   "source": [
    "import scipy.io as sio\n",
    "import numpy as np\n",
    "import matplotlib.pyplot as plt\n",
    "from sklearn import preprocessing\n",
    "from sklearn.metrics import confusion_matrix\n",
    "from numpy.linalg import matrix_rank\n",
    "from numpy.linalg import inv\n",
    "import time\n",
    "\n",
    "mat_content = sio.loadmat('face.mat')\n",
    "\n",
    "face_data = mat_content['X']\n",
    "face_id = mat_content['l']\n",
    "\n",
    "print(face_data)\n",
    "print(face_data.shape)\n",
    "\n",
    "print(face_id)\n",
    "print(face_id.shape)"
   ]
  },
  {
   "cell_type": "code",
   "execution_count": 2,
   "metadata": {},
   "outputs": [
    {
     "name": "stdout",
     "output_type": "stream",
     "text": [
      "[[ 86 134 122 ...  57 127 190]\n",
      " [ 86 136 131 ...  60 138 188]\n",
      " [ 87 138 141 ...  57 139 184]\n",
      " ...\n",
      " [238  65  85 ... 116  64  44]\n",
      " [226  61  86 ... 123  60  41]\n",
      " [221  60  68 ... 119  60  40]]\n",
      "(2576, 416)\n",
      "[[124 162 190 ...  91 218  92]\n",
      " [146 174 167 ...  92 222  94]\n",
      " [147 182 143 ...  88 223  96]\n",
      " ...\n",
      " [ 55 117  61 ...  96  72  40]\n",
      " [ 69 115  73 ... 111 157  38]\n",
      " [ 74 110 128 ... 107 167  39]]\n",
      "(2576, 104)\n"
     ]
    }
   ],
   "source": [
    "# Split data set\n",
    "# Train_id is the index of each train data in the total data set, test_id the same\n",
    "\n",
    "from sklearn.model_selection import train_test_split\n",
    "\n",
    "indices = np.arange(len(face_id[0]))\n",
    "train_data, test_data, train_id, test_id = train_test_split(face_data.T, indices, test_size = 0.2)\n",
    "train_data = train_data.T\n",
    "test_data = test_data.T\n",
    "\n",
    "print(train_data)\n",
    "print(train_data.shape)\n",
    "print(test_data)\n",
    "print(test_data.shape)"
   ]
  },
  {
   "cell_type": "code",
   "execution_count": 3,
   "metadata": {},
   "outputs": [
    {
     "data": {
      "text/plain": [
       "{1: 7,\n",
       " 2: 7,\n",
       " 3: 8,\n",
       " 4: 9,\n",
       " 5: 8,\n",
       " 6: 7,\n",
       " 7: 10,\n",
       " 8: 7,\n",
       " 9: 8,\n",
       " 10: 9,\n",
       " 11: 8,\n",
       " 12: 8,\n",
       " 13: 6,\n",
       " 14: 9,\n",
       " 15: 6,\n",
       " 16: 9,\n",
       " 17: 6,\n",
       " 18: 7,\n",
       " 19: 9,\n",
       " 20: 6,\n",
       " 21: 9,\n",
       " 22: 8,\n",
       " 23: 9,\n",
       " 24: 9,\n",
       " 25: 10,\n",
       " 26: 9,\n",
       " 27: 7,\n",
       " 28: 5,\n",
       " 29: 8,\n",
       " 30: 7,\n",
       " 31: 8,\n",
       " 32: 7,\n",
       " 33: 10,\n",
       " 34: 7,\n",
       " 35: 8,\n",
       " 36: 8,\n",
       " 37: 8,\n",
       " 38: 7,\n",
       " 39: 9,\n",
       " 40: 6,\n",
       " 41: 8,\n",
       " 42: 9,\n",
       " 43: 8,\n",
       " 44: 10,\n",
       " 45: 5,\n",
       " 46: 10,\n",
       " 47: 9,\n",
       " 48: 7,\n",
       " 49: 9,\n",
       " 50: 9,\n",
       " 51: 10,\n",
       " 52: 9}"
      ]
     },
     "execution_count": 3,
     "metadata": {},
     "output_type": "execute_result"
    }
   ],
   "source": [
    "# Count the number of face images for each person \n",
    "# in the train and test set after randomly split\n",
    "\n",
    "train_label = face_id[0,train_id]\n",
    "unique_train, counts_train = np.unique(train_label, return_counts=True)\n",
    "dict(zip(unique_train, counts_train))\n",
    "\n",
    "#test_label = face_id[0,test_id]\n",
    "#unique_test, counts_test = np.unique(test_label, return_counts=True)\n",
    "#dict(zip(unique_test, counts_test))\n",
    "\n",
    "#print(unique_train)\n",
    "#print(train_label)\n",
    "#print(counts_train)\n"
   ]
  },
  {
   "cell_type": "code",
   "execution_count": 4,
   "metadata": {},
   "outputs": [
    {
     "data": {
      "text/plain": [
       "<matplotlib.image.AxesImage at 0x10b6ec208>"
      ]
     },
     "execution_count": 4,
     "metadata": {},
     "output_type": "execute_result"
    },
    {
     "data": {
      "image/png": "[encoded data removed]",
      "text/plain": [
       "<Figure size 432x288 with 1 Axes>"
      ]
     },
     "metadata": {},
     "output_type": "display_data"
    }
   ],
   "source": [
    "# Compute average face vector\n",
    "\n",
    "num_train = len(train_data[0])\n",
    "\n",
    "avg_face = train_data.mean(axis=1)\n",
    "\n",
    "plt.imshow(np.reshape(avg_face,(46,56)).T, cmap = 'gist_gray')\n",
    "\n",
    "#print(train_data.shape)\n",
    "#print(num_train)"
   ]
  },
  {
   "cell_type": "code",
   "execution_count": 5,
   "metadata": {},
   "outputs": [],
   "source": [
    "# Compute covariance matrix without low-dimensional compution\n",
    "\n",
    "num_pix = len(train_data)\n",
    "\n",
    "A = train_data - avg_face.reshape(num_pix,1)\n",
    "S = (A.dot(A.T)) / num_train\n",
    "\n",
    "#print(num_pix)"
   ]
  },
  {
   "cell_type": "markdown",
   "metadata": {},
   "source": [
    "# PCA-LDA Ensemble "
   ]
  },
  {
   "cell_type": "code",
   "execution_count": 6,
   "metadata": {},
   "outputs": [],
   "source": [
    "import random\n",
    "\n",
    "T = 3\n",
    "M0 = 200\n",
    "M1 = 10\n",
    "# Mpca = M0 + M1 should not exceed \n",
    "M_lda = 50\n",
    "n_sample = 7 # number of samples per class\n",
    "M_pca = 200\n",
    "\n",
    "# Generate random subspaces \n",
    "def rand_subspace(eigvecs,eigvals):\n",
    "    subspace = eigvecs[:,np.argsort(-eigvals)[ : M0]]\n",
    "    #print(len(eigvals))\n",
    "    index = (np.argsort(eigvals)[ : len(eigvals) - M0]).tolist()\n",
    "    rand_index = random.sample(index, M1)  \n",
    "    subspace = np.concatenate((subspace, eigvecs[:,rand_index]), axis=1)\n",
    "    return subspace\n",
    "\n",
    "# Bagging (from every class)\n",
    "def rand_sample(sorted_train_data,sorted_train_label,counts_train):\n",
    "    sample = list()\n",
    "    label = list()\n",
    "    current_index = 0\n",
    "    for idx,cnt in enumerate(counts_train):\n",
    "        for j in range(n_sample):\n",
    "            index = random.randrange(current_index, current_index + cnt, 1)\n",
    "            sample.append(sorted_train_data[:,index])\n",
    "            label.append(sorted_train_label[index])\n",
    "        current_index += cnt\n",
    "    \n",
    "    return ((np.asarray(sample)).T), np.asarray(label)\n",
    "\n",
    "# Generate eigenspace of data set using PCA\n",
    "def eigspace_generator_ensemble(data):\n",
    "    num_train = len(data[0])\n",
    "    avg_face = data.mean(axis=1)\n",
    "    num_pix = len(data)\n",
    "    A = data - avg_face.reshape(num_pix,1)\n",
    "    S_low_dim = ((A.T).dot(A)) / num_train\n",
    "    eigvals_low_dim, eigvecs_low_dim = np.linalg.eig(S_low_dim)\n",
    "    eigvals_low_dim = eigvals_low_dim.real\n",
    "    eigvecs_low_dim = eigvecs_low_dim.real\n",
    "    nonzero_eigvals_low_dim = eigvals_low_dim[abs(eigvals_low_dim) >= 1e-7]\n",
    "    eigvecs_nonzero_eigvals_low_dim = eigvecs_low_dim[:,abs(eigvals_low_dim) >= 1e-7]\n",
    "    eigfaces_low_dim_unnormalized = A.dot(eigvecs_nonzero_eigvals_low_dim[:,np.argsort(-nonzero_eigvals_low_dim)[:M_pca]]) \n",
    "    eigfaces_low_dim = (preprocessing.normalize(eigfaces_low_dim_unnormalized.T, norm='l2')).T\n",
    "    return eigfaces_low_dim, nonzero_eigvals_low_dim, A\n"
   ]
  },
  {
   "cell_type": "markdown",
   "metadata": {},
   "source": [
    "# Committe Machine with Bagging"
   ]
  },
  {
   "cell_type": "code",
   "execution_count": 7,
   "metadata": {},
   "outputs": [],
   "source": [
    "sorted_train_data = train_data[:,np.argsort(train_label)]\n",
    "sorted_train_label = train_label[np.argsort(train_label)]"
   ]
  },
  {
   "cell_type": "code",
   "execution_count": 8,
   "metadata": {},
   "outputs": [],
   "source": [
    "def lda_rand_data(train_data,train_label,test_data): # test_data single column vector\n",
    "\n",
    "    avg_face = train_data.mean(axis=1)\n",
    "    num_pix = len(train_data)\n",
    "    unique_train, counts_train = np.unique(train_label, return_counts=True)\n",
    "    c = max(train_label) # number of classes\n",
    "    M = np.zeros((num_pix, c))\n",
    "\n",
    "    list_Sw = [] # Each element of list_Sw contains the with-in scatter matrix of the i+1th class\n",
    "    \n",
    "    current_index = 0;\n",
    "    for idx in range(c):\n",
    "        X = train_data[:,current_index : current_index + n_sample]\n",
    "        M[:,idx] = (X.mean(axis=1))\n",
    "        A_Sw =  X - M[:,idx].reshape(num_pix,1)\n",
    "        Sw = A_Sw.dot(A_Sw.T)\n",
    "        list_Sw.append(Sw)\n",
    "        current_index += n_sample\n",
    "    \n",
    "    # Compute between-scatter matrix Sb\n",
    "\n",
    "    A_Sb =  M - avg_face.reshape(num_pix,1)\n",
    "    Sb = A_Sb.dot(A_Sb.T)\n",
    "\n",
    "    # Compute within-scatter matrix Sw\n",
    "    Sw = np.zeros((num_pix,num_pix))\n",
    "\n",
    "    for i in range(c):\n",
    "        Sw += list_Sw[i]\n",
    "\n",
    "    # PCA to reduce dimenstion to Mpca\n",
    "    \n",
    "    W_pca, eigenvalues, A = eigspace_generator_ensemble(train_data)\n",
    "    \n",
    "    Sb_pca = (W_pca.T).dot(Sb.dot(W_pca))\n",
    "    Sw_pca = (W_pca.T).dot(Sw.dot(W_pca))\n",
    "    \n",
    "    eigvals_lda, eigvecs_lda = np.linalg.eig((inv(Sw_pca)).dot(Sb_pca))\n",
    "    eigvals_lda = eigvals_lda.real\n",
    "    eigvecs_lda = eigvecs_lda.real\n",
    "\n",
    "    nonzero_eigvals_lda = eigvals_lda[abs(eigvals_lda) >= 1e-7]\n",
    "    eigvecs_nonzero_eigvals_lda = eigvecs_lda[:,abs(eigvals_lda) >= 1e-7]\n",
    "    \n",
    "    sorted_index_lda = np.argsort(-nonzero_eigvals_lda)[:M_lda]\n",
    "\n",
    "    W_lda = eigvecs_nonzero_eigvals_lda[:,sorted_index_lda]\n",
    "\n",
    "    # NN-classification\n",
    "\n",
    "    W_train_pca = (A.T).dot(W_pca)\n",
    "    W_train_lda = (W_train_pca).dot(W_lda)\n",
    "    sorted_W_train_lda = W_train_lda[np.argsort(train_label),:]\n",
    "\n",
    "    A_test_lda = test_data.reshape(num_pix,1) - avg_face.reshape(num_pix,1)\n",
    "\n",
    "    # Project test data to PCA subspace\n",
    "    W_test_pca = (A_test_lda.T).dot(W_pca) # Coordinates (row vector) on PCA subspace\n",
    "    # Project test data to LDA subspace\n",
    "    W_test_lda = (W_test_pca).dot(W_lda) # Coordinates (row vector) on LDA subspace\n",
    "    \n",
    "    distance = np.linalg.norm(W_test_lda - sorted_W_train_lda, axis=1) # row vector containing Euclidiean distance to each tranining data\n",
    "   \n",
    "        \n",
    "    min_distance = []\n",
    "    current_index = 0;\n",
    "    for idx,cnt in enumerate(counts_train):\n",
    "        distance = distance.reshape(len(distance),1)\n",
    "        min_distance.append(min(distance[current_index : current_index + cnt,:]))\n",
    "        current_index += cnt\n",
    "    \n",
    "    post_distribution = (min_distance / sum(min_distance)) \n",
    "    \n",
    "    return post_distribution"
   ]
  },
  {
   "cell_type": "code",
   "execution_count": 9,
   "metadata": {},
   "outputs": [
    {
     "ename": "NameError",
     "evalue": "name 'test_results_ensemble' is not defined",
     "output_type": "error",
     "traceback": [
      "\u001b[0;31m---------------------------------------------------------------------------\u001b[0m",
      "\u001b[0;31mNameError\u001b[0m                                 Traceback (most recent call last)",
      "\u001b[0;32m<ipython-input-9-84b0291b7a6b>\u001b[0m in \u001b[0;36m<module>\u001b[0;34m()\u001b[0m\n\u001b[0;32m----> 1\u001b[0;31m \u001b[0mresults_error\u001b[0m \u001b[0;34m=\u001b[0m \u001b[0mtest_results_ensemble\u001b[0m \u001b[0;34m-\u001b[0m \u001b[0mtrue_results\u001b[0m\u001b[0;34m\u001b[0m\u001b[0m\n\u001b[0m\u001b[1;32m      2\u001b[0m \u001b[0;34m\u001b[0m\u001b[0m\n\u001b[1;32m      3\u001b[0m \u001b[0msuccess_rate\u001b[0m \u001b[0;34m=\u001b[0m \u001b[0mnp\u001b[0m\u001b[0;34m.\u001b[0m\u001b[0mcount_nonzero\u001b[0m\u001b[0;34m(\u001b[0m\u001b[0mresults_error\u001b[0m \u001b[0;34m==\u001b[0m \u001b[0;36m0\u001b[0m\u001b[0;34m)\u001b[0m \u001b[0;34m/\u001b[0m \u001b[0mlen\u001b[0m\u001b[0;34m(\u001b[0m\u001b[0mresults_error\u001b[0m\u001b[0;34m)\u001b[0m\u001b[0;34m\u001b[0m\u001b[0m\n\u001b[1;32m      4\u001b[0m \u001b[0mprint\u001b[0m\u001b[0;34m(\u001b[0m\u001b[0msuccess_rate\u001b[0m\u001b[0;34m)\u001b[0m\u001b[0;34m\u001b[0m\u001b[0m\n",
      "\u001b[0;31mNameError\u001b[0m: name 'test_results_ensemble' is not defined"
     ]
    }
   ],
   "source": [
    "results_error = test_results_ensemble - true_results\n",
    "\n",
    "success_rate = np.count_nonzero(results_error == 0) / len(results_error)\n",
    "print(success_rate)"
   ]
  },
  {
   "cell_type": "code",
   "execution_count": 10,
   "metadata": {},
   "outputs": [
    {
     "name": "stdout",
     "output_type": "stream",
     "text": [
      "[34]\n",
      "[34, 43]\n",
      "[34, 43, 15]\n",
      "[34, 43, 15, 16]\n",
      "[34, 43, 15, 16, 38]\n",
      "[34, 43, 15, 16, 38, 34]\n",
      "[34, 43, 15, 16, 38, 34, 18]\n",
      "[34, 43, 15, 16, 38, 34, 18, 5]\n",
      "[34, 43, 15, 16, 38, 34, 18, 5, 4]\n",
      "[34, 43, 15, 16, 38, 34, 18, 5, 4, 43]\n",
      "[34, 43, 15, 16, 38, 34, 18, 5, 4, 43, 3]\n",
      "[34, 43, 15, 16, 38, 34, 18, 5, 4, 43, 3, 41]\n",
      "[34, 43, 15, 16, 38, 34, 18, 5, 4, 43, 3, 41, 18]\n",
      "[34, 43, 15, 16, 38, 34, 18, 5, 4, 43, 3, 41, 18, 30]\n",
      "[34, 43, 15, 16, 38, 34, 18, 5, 4, 43, 3, 41, 18, 30, 16]\n",
      "[34, 43, 15, 16, 38, 34, 18, 5, 4, 43, 3, 41, 18, 30, 16, 4]\n",
      "[34, 43, 15, 16, 38, 34, 18, 5, 4, 43, 3, 41, 18, 30, 16, 4, 8]\n",
      "[34, 43, 15, 16, 38, 34, 18, 5, 4, 43, 3, 41, 18, 30, 16, 4, 8, 41]\n",
      "[34, 43, 15, 16, 38, 34, 18, 5, 4, 43, 3, 41, 18, 30, 16, 4, 8, 41, 20]\n",
      "[34, 43, 15, 16, 38, 34, 18, 5, 4, 43, 3, 41, 18, 30, 16, 4, 8, 41, 20, 22]\n",
      "[34, 43, 15, 16, 38, 34, 18, 5, 4, 43, 3, 41, 18, 30, 16, 4, 8, 41, 20, 22, 20]\n",
      "[34, 43, 15, 16, 38, 34, 18, 5, 4, 43, 3, 41, 18, 30, 16, 4, 8, 41, 20, 22, 20, 8]\n",
      "[34, 43, 15, 16, 38, 34, 18, 5, 4, 43, 3, 41, 18, 30, 16, 4, 8, 41, 20, 22, 20, 8, 45]\n",
      "[34, 43, 15, 16, 38, 34, 18, 5, 4, 43, 3, 41, 18, 30, 16, 4, 8, 41, 20, 22, 20, 8, 45, 50]\n",
      "[34, 43, 15, 16, 38, 34, 18, 5, 4, 43, 3, 41, 18, 30, 16, 4, 8, 41, 20, 22, 20, 8, 45, 50, 51]\n",
      "[34, 43, 15, 16, 38, 34, 18, 5, 4, 43, 3, 41, 18, 30, 16, 4, 8, 41, 20, 22, 20, 8, 45, 50, 51, 11]\n",
      "[34, 43, 15, 16, 38, 34, 18, 5, 4, 43, 3, 41, 18, 30, 16, 4, 8, 41, 20, 22, 20, 8, 45, 50, 51, 11, 4]\n",
      "[34, 43, 15, 16, 38, 34, 18, 5, 4, 43, 3, 41, 18, 30, 16, 4, 8, 41, 20, 22, 20, 8, 45, 50, 51, 11, 4, 16]\n",
      "[34, 43, 15, 16, 38, 34, 18, 5, 4, 43, 3, 41, 18, 30, 16, 4, 8, 41, 20, 22, 20, 8, 45, 50, 51, 11, 4, 16, 35]\n",
      "[34, 43, 15, 16, 38, 34, 18, 5, 4, 43, 3, 41, 18, 30, 16, 4, 8, 41, 20, 22, 20, 8, 45, 50, 51, 11, 4, 16, 35, 9]\n",
      "[34, 43, 15, 16, 38, 34, 18, 5, 4, 43, 3, 41, 18, 30, 16, 4, 8, 41, 20, 22, 20, 8, 45, 50, 51, 11, 4, 16, 35, 9, 31]\n",
      "[34, 43, 15, 16, 38, 34, 18, 5, 4, 43, 3, 41, 18, 30, 16, 4, 8, 41, 20, 22, 20, 8, 45, 50, 51, 11, 4, 16, 35, 9, 31, 4]\n",
      "[34, 43, 15, 16, 38, 34, 18, 5, 4, 43, 3, 41, 18, 30, 16, 4, 8, 41, 20, 22, 20, 8, 45, 50, 51, 11, 4, 16, 35, 9, 31, 4, 32]\n",
      "[34, 43, 15, 16, 38, 34, 18, 5, 4, 43, 3, 41, 18, 30, 16, 4, 8, 41, 20, 22, 20, 8, 45, 50, 51, 11, 4, 16, 35, 9, 31, 4, 32, 4]\n",
      "[34, 43, 15, 16, 38, 34, 18, 5, 4, 43, 3, 41, 18, 30, 16, 4, 8, 41, 20, 22, 20, 8, 45, 50, 51, 11, 4, 16, 35, 9, 31, 4, 32, 4, 22]\n",
      "[34, 43, 15, 16, 38, 34, 18, 5, 4, 43, 3, 41, 18, 30, 16, 4, 8, 41, 20, 22, 20, 8, 45, 50, 51, 11, 4, 16, 35, 9, 31, 4, 32, 4, 22, 39]\n",
      "[34, 43, 15, 16, 38, 34, 18, 5, 4, 43, 3, 41, 18, 30, 16, 4, 8, 41, 20, 22, 20, 8, 45, 50, 51, 11, 4, 16, 35, 9, 31, 4, 32, 4, 22, 39, 4]\n",
      "[34, 43, 15, 16, 38, 34, 18, 5, 4, 43, 3, 41, 18, 30, 16, 4, 8, 41, 20, 22, 20, 8, 45, 50, 51, 11, 4, 16, 35, 9, 31, 4, 32, 4, 22, 39, 4, 16]\n",
      "[34, 43, 15, 16, 38, 34, 18, 5, 4, 43, 3, 41, 18, 30, 16, 4, 8, 41, 20, 22, 20, 8, 45, 50, 51, 11, 4, 16, 35, 9, 31, 4, 32, 4, 22, 39, 4, 16, 16]\n",
      "[34, 43, 15, 16, 38, 34, 18, 5, 4, 43, 3, 41, 18, 30, 16, 4, 8, 41, 20, 22, 20, 8, 45, 50, 51, 11, 4, 16, 35, 9, 31, 4, 32, 4, 22, 39, 4, 16, 16, 23]\n",
      "[34, 43, 15, 16, 38, 34, 18, 5, 4, 43, 3, 41, 18, 30, 16, 4, 8, 41, 20, 22, 20, 8, 45, 50, 51, 11, 4, 16, 35, 9, 31, 4, 32, 4, 22, 39, 4, 16, 16, 23, 32]\n",
      "[34, 43, 15, 16, 38, 34, 18, 5, 4, 43, 3, 41, 18, 30, 16, 4, 8, 41, 20, 22, 20, 8, 45, 50, 51, 11, 4, 16, 35, 9, 31, 4, 32, 4, 22, 39, 4, 16, 16, 23, 32, 32]\n",
      "[34, 43, 15, 16, 38, 34, 18, 5, 4, 43, 3, 41, 18, 30, 16, 4, 8, 41, 20, 22, 20, 8, 45, 50, 51, 11, 4, 16, 35, 9, 31, 4, 32, 4, 22, 39, 4, 16, 16, 23, 32, 32, 20]\n",
      "[34, 43, 15, 16, 38, 34, 18, 5, 4, 43, 3, 41, 18, 30, 16, 4, 8, 41, 20, 22, 20, 8, 45, 50, 51, 11, 4, 16, 35, 9, 31, 4, 32, 4, 22, 39, 4, 16, 16, 23, 32, 32, 20, 42]\n",
      "[34, 43, 15, 16, 38, 34, 18, 5, 4, 43, 3, 41, 18, 30, 16, 4, 8, 41, 20, 22, 20, 8, 45, 50, 51, 11, 4, 16, 35, 9, 31, 4, 32, 4, 22, 39, 4, 16, 16, 23, 32, 32, 20, 42, 28]\n",
      "[34, 43, 15, 16, 38, 34, 18, 5, 4, 43, 3, 41, 18, 30, 16, 4, 8, 41, 20, 22, 20, 8, 45, 50, 51, 11, 4, 16, 35, 9, 31, 4, 32, 4, 22, 39, 4, 16, 16, 23, 32, 32, 20, 42, 28, 4]\n",
      "[34, 43, 15, 16, 38, 34, 18, 5, 4, 43, 3, 41, 18, 30, 16, 4, 8, 41, 20, 22, 20, 8, 45, 50, 51, 11, 4, 16, 35, 9, 31, 4, 32, 4, 22, 39, 4, 16, 16, 23, 32, 32, 20, 42, 28, 4, 12]\n",
      "[34, 43, 15, 16, 38, 34, 18, 5, 4, 43, 3, 41, 18, 30, 16, 4, 8, 41, 20, 22, 20, 8, 45, 50, 51, 11, 4, 16, 35, 9, 31, 4, 32, 4, 22, 39, 4, 16, 16, 23, 32, 32, 20, 42, 28, 4, 12, 16]\n",
      "[34, 43, 15, 16, 38, 34, 18, 5, 4, 43, 3, 41, 18, 30, 16, 4, 8, 41, 20, 22, 20, 8, 45, 50, 51, 11, 4, 16, 35, 9, 31, 4, 32, 4, 22, 39, 4, 16, 16, 23, 32, 32, 20, 42, 28, 4, 12, 16, 40]\n",
      "[34, 43, 15, 16, 38, 34, 18, 5, 4, 43, 3, 41, 18, 30, 16, 4, 8, 41, 20, 22, 20, 8, 45, 50, 51, 11, 4, 16, 35, 9, 31, 4, 32, 4, 22, 39, 4, 16, 16, 23, 32, 32, 20, 42, 28, 4, 12, 16, 40, 27]\n",
      "[34, 43, 15, 16, 38, 34, 18, 5, 4, 43, 3, 41, 18, 30, 16, 4, 8, 41, 20, 22, 20, 8, 45, 50, 51, 11, 4, 16, 35, 9, 31, 4, 32, 4, 22, 39, 4, 16, 16, 23, 32, 32, 20, 42, 28, 4, 12, 16, 40, 27, 13]\n",
      "[34, 43, 15, 16, 38, 34, 18, 5, 4, 43, 3, 41, 18, 30, 16, 4, 8, 41, 20, 22, 20, 8, 45, 50, 51, 11, 4, 16, 35, 9, 31, 4, 32, 4, 22, 39, 4, 16, 16, 23, 32, 32, 20, 42, 28, 4, 12, 16, 40, 27, 13, 16]\n",
      "[34, 43, 15, 16, 38, 34, 18, 5, 4, 43, 3, 41, 18, 30, 16, 4, 8, 41, 20, 22, 20, 8, 45, 50, 51, 11, 4, 16, 35, 9, 31, 4, 32, 4, 22, 39, 4, 16, 16, 23, 32, 32, 20, 42, 28, 4, 12, 16, 40, 27, 13, 16, 16]\n",
      "[34, 43, 15, 16, 38, 34, 18, 5, 4, 43, 3, 41, 18, 30, 16, 4, 8, 41, 20, 22, 20, 8, 45, 50, 51, 11, 4, 16, 35, 9, 31, 4, 32, 4, 22, 39, 4, 16, 16, 23, 32, 32, 20, 42, 28, 4, 12, 16, 40, 27, 13, 16, 16, 2]\n",
      "[34, 43, 15, 16, 38, 34, 18, 5, 4, 43, 3, 41, 18, 30, 16, 4, 8, 41, 20, 22, 20, 8, 45, 50, 51, 11, 4, 16, 35, 9, 31, 4, 32, 4, 22, 39, 4, 16, 16, 23, 32, 32, 20, 42, 28, 4, 12, 16, 40, 27, 13, 16, 16, 2, 36]\n",
      "[34, 43, 15, 16, 38, 34, 18, 5, 4, 43, 3, 41, 18, 30, 16, 4, 8, 41, 20, 22, 20, 8, 45, 50, 51, 11, 4, 16, 35, 9, 31, 4, 32, 4, 22, 39, 4, 16, 16, 23, 32, 32, 20, 42, 28, 4, 12, 16, 40, 27, 13, 16, 16, 2, 36, 17]\n",
      "[34, 43, 15, 16, 38, 34, 18, 5, 4, 43, 3, 41, 18, 30, 16, 4, 8, 41, 20, 22, 20, 8, 45, 50, 51, 11, 4, 16, 35, 9, 31, 4, 32, 4, 22, 39, 4, 16, 16, 23, 32, 32, 20, 42, 28, 4, 12, 16, 40, 27, 13, 16, 16, 2, 36, 17, 6]\n",
      "[34, 43, 15, 16, 38, 34, 18, 5, 4, 43, 3, 41, 18, 30, 16, 4, 8, 41, 20, 22, 20, 8, 45, 50, 51, 11, 4, 16, 35, 9, 31, 4, 32, 4, 22, 39, 4, 16, 16, 23, 32, 32, 20, 42, 28, 4, 12, 16, 40, 27, 13, 16, 16, 2, 36, 17, 6, 30]\n",
      "[34, 43, 15, 16, 38, 34, 18, 5, 4, 43, 3, 41, 18, 30, 16, 4, 8, 41, 20, 22, 20, 8, 45, 50, 51, 11, 4, 16, 35, 9, 31, 4, 32, 4, 22, 39, 4, 16, 16, 23, 32, 32, 20, 42, 28, 4, 12, 16, 40, 27, 13, 16, 16, 2, 36, 17, 6, 30, 29]\n",
      "[34, 43, 15, 16, 38, 34, 18, 5, 4, 43, 3, 41, 18, 30, 16, 4, 8, 41, 20, 22, 20, 8, 45, 50, 51, 11, 4, 16, 35, 9, 31, 4, 32, 4, 22, 39, 4, 16, 16, 23, 32, 32, 20, 42, 28, 4, 12, 16, 40, 27, 13, 16, 16, 2, 36, 17, 6, 30, 29, 8]\n",
      "[34, 43, 15, 16, 38, 34, 18, 5, 4, 43, 3, 41, 18, 30, 16, 4, 8, 41, 20, 22, 20, 8, 45, 50, 51, 11, 4, 16, 35, 9, 31, 4, 32, 4, 22, 39, 4, 16, 16, 23, 32, 32, 20, 42, 28, 4, 12, 16, 40, 27, 13, 16, 16, 2, 36, 17, 6, 30, 29, 8, 17]\n",
      "[34, 43, 15, 16, 38, 34, 18, 5, 4, 43, 3, 41, 18, 30, 16, 4, 8, 41, 20, 22, 20, 8, 45, 50, 51, 11, 4, 16, 35, 9, 31, 4, 32, 4, 22, 39, 4, 16, 16, 23, 32, 32, 20, 42, 28, 4, 12, 16, 40, 27, 13, 16, 16, 2, 36, 17, 6, 30, 29, 8, 17, 4]\n",
      "[34, 43, 15, 16, 38, 34, 18, 5, 4, 43, 3, 41, 18, 30, 16, 4, 8, 41, 20, 22, 20, 8, 45, 50, 51, 11, 4, 16, 35, 9, 31, 4, 32, 4, 22, 39, 4, 16, 16, 23, 32, 32, 20, 42, 28, 4, 12, 16, 40, 27, 13, 16, 16, 2, 36, 17, 6, 30, 29, 8, 17, 4, 31]\n",
      "[34, 43, 15, 16, 38, 34, 18, 5, 4, 43, 3, 41, 18, 30, 16, 4, 8, 41, 20, 22, 20, 8, 45, 50, 51, 11, 4, 16, 35, 9, 31, 4, 32, 4, 22, 39, 4, 16, 16, 23, 32, 32, 20, 42, 28, 4, 12, 16, 40, 27, 13, 16, 16, 2, 36, 17, 6, 30, 29, 8, 17, 4, 31, 37]\n",
      "[34, 43, 15, 16, 38, 34, 18, 5, 4, 43, 3, 41, 18, 30, 16, 4, 8, 41, 20, 22, 20, 8, 45, 50, 51, 11, 4, 16, 35, 9, 31, 4, 32, 4, 22, 39, 4, 16, 16, 23, 32, 32, 20, 42, 28, 4, 12, 16, 40, 27, 13, 16, 16, 2, 36, 17, 6, 30, 29, 8, 17, 4, 31, 37, 19]\n",
      "[34, 43, 15, 16, 38, 34, 18, 5, 4, 43, 3, 41, 18, 30, 16, 4, 8, 41, 20, 22, 20, 8, 45, 50, 51, 11, 4, 16, 35, 9, 31, 4, 32, 4, 22, 39, 4, 16, 16, 23, 32, 32, 20, 42, 28, 4, 12, 16, 40, 27, 13, 16, 16, 2, 36, 17, 6, 30, 29, 8, 17, 4, 31, 37, 19, 14]\n"
     ]
    },
    {
     "name": "stdout",
     "output_type": "stream",
     "text": [
      "[34, 43, 15, 16, 38, 34, 18, 5, 4, 43, 3, 41, 18, 30, 16, 4, 8, 41, 20, 22, 20, 8, 45, 50, 51, 11, 4, 16, 35, 9, 31, 4, 32, 4, 22, 39, 4, 16, 16, 23, 32, 32, 20, 42, 28, 4, 12, 16, 40, 27, 13, 16, 16, 2, 36, 17, 6, 30, 29, 8, 17, 4, 31, 37, 19, 14, 16]\n",
      "[34, 43, 15, 16, 38, 34, 18, 5, 4, 43, 3, 41, 18, 30, 16, 4, 8, 41, 20, 22, 20, 8, 45, 50, 51, 11, 4, 16, 35, 9, 31, 4, 32, 4, 22, 39, 4, 16, 16, 23, 32, 32, 20, 42, 28, 4, 12, 16, 40, 27, 13, 16, 16, 2, 36, 17, 6, 30, 29, 8, 17, 4, 31, 37, 19, 14, 16, 52]\n",
      "[34, 43, 15, 16, 38, 34, 18, 5, 4, 43, 3, 41, 18, 30, 16, 4, 8, 41, 20, 22, 20, 8, 45, 50, 51, 11, 4, 16, 35, 9, 31, 4, 32, 4, 22, 39, 4, 16, 16, 23, 32, 32, 20, 42, 28, 4, 12, 16, 40, 27, 13, 16, 16, 2, 36, 17, 6, 30, 29, 8, 17, 4, 31, 37, 19, 14, 16, 52, 40]\n",
      "[34, 43, 15, 16, 38, 34, 18, 5, 4, 43, 3, 41, 18, 30, 16, 4, 8, 41, 20, 22, 20, 8, 45, 50, 51, 11, 4, 16, 35, 9, 31, 4, 32, 4, 22, 39, 4, 16, 16, 23, 32, 32, 20, 42, 28, 4, 12, 16, 40, 27, 13, 16, 16, 2, 36, 17, 6, 30, 29, 8, 17, 4, 31, 37, 19, 14, 16, 52, 40, 34]\n",
      "[34, 43, 15, 16, 38, 34, 18, 5, 4, 43, 3, 41, 18, 30, 16, 4, 8, 41, 20, 22, 20, 8, 45, 50, 51, 11, 4, 16, 35, 9, 31, 4, 32, 4, 22, 39, 4, 16, 16, 23, 32, 32, 20, 42, 28, 4, 12, 16, 40, 27, 13, 16, 16, 2, 36, 17, 6, 30, 29, 8, 17, 4, 31, 37, 19, 14, 16, 52, 40, 34, 4]\n",
      "[34, 43, 15, 16, 38, 34, 18, 5, 4, 43, 3, 41, 18, 30, 16, 4, 8, 41, 20, 22, 20, 8, 45, 50, 51, 11, 4, 16, 35, 9, 31, 4, 32, 4, 22, 39, 4, 16, 16, 23, 32, 32, 20, 42, 28, 4, 12, 16, 40, 27, 13, 16, 16, 2, 36, 17, 6, 30, 29, 8, 17, 4, 31, 37, 19, 14, 16, 52, 40, 34, 4, 49]\n",
      "[34, 43, 15, 16, 38, 34, 18, 5, 4, 43, 3, 41, 18, 30, 16, 4, 8, 41, 20, 22, 20, 8, 45, 50, 51, 11, 4, 16, 35, 9, 31, 4, 32, 4, 22, 39, 4, 16, 16, 23, 32, 32, 20, 42, 28, 4, 12, 16, 40, 27, 13, 16, 16, 2, 36, 17, 6, 30, 29, 8, 17, 4, 31, 37, 19, 14, 16, 52, 40, 34, 4, 49, 18]\n",
      "[34, 43, 15, 16, 38, 34, 18, 5, 4, 43, 3, 41, 18, 30, 16, 4, 8, 41, 20, 22, 20, 8, 45, 50, 51, 11, 4, 16, 35, 9, 31, 4, 32, 4, 22, 39, 4, 16, 16, 23, 32, 32, 20, 42, 28, 4, 12, 16, 40, 27, 13, 16, 16, 2, 36, 17, 6, 30, 29, 8, 17, 4, 31, 37, 19, 14, 16, 52, 40, 34, 4, 49, 18, 49]\n",
      "[34, 43, 15, 16, 38, 34, 18, 5, 4, 43, 3, 41, 18, 30, 16, 4, 8, 41, 20, 22, 20, 8, 45, 50, 51, 11, 4, 16, 35, 9, 31, 4, 32, 4, 22, 39, 4, 16, 16, 23, 32, 32, 20, 42, 28, 4, 12, 16, 40, 27, 13, 16, 16, 2, 36, 17, 6, 30, 29, 8, 17, 4, 31, 37, 19, 14, 16, 52, 40, 34, 4, 49, 18, 49, 1]\n",
      "[34, 43, 15, 16, 38, 34, 18, 5, 4, 43, 3, 41, 18, 30, 16, 4, 8, 41, 20, 22, 20, 8, 45, 50, 51, 11, 4, 16, 35, 9, 31, 4, 32, 4, 22, 39, 4, 16, 16, 23, 32, 32, 20, 42, 28, 4, 12, 16, 40, 27, 13, 16, 16, 2, 36, 17, 6, 30, 29, 8, 17, 4, 31, 37, 19, 14, 16, 52, 40, 34, 4, 49, 18, 49, 1, 6]\n",
      "[34, 43, 15, 16, 38, 34, 18, 5, 4, 43, 3, 41, 18, 30, 16, 4, 8, 41, 20, 22, 20, 8, 45, 50, 51, 11, 4, 16, 35, 9, 31, 4, 32, 4, 22, 39, 4, 16, 16, 23, 32, 32, 20, 42, 28, 4, 12, 16, 40, 27, 13, 16, 16, 2, 36, 17, 6, 30, 29, 8, 17, 4, 31, 37, 19, 14, 16, 52, 40, 34, 4, 49, 18, 49, 1, 6, 26]\n",
      "[34, 43, 15, 16, 38, 34, 18, 5, 4, 43, 3, 41, 18, 30, 16, 4, 8, 41, 20, 22, 20, 8, 45, 50, 51, 11, 4, 16, 35, 9, 31, 4, 32, 4, 22, 39, 4, 16, 16, 23, 32, 32, 20, 42, 28, 4, 12, 16, 40, 27, 13, 16, 16, 2, 36, 17, 6, 30, 29, 8, 17, 4, 31, 37, 19, 14, 16, 52, 40, 34, 4, 49, 18, 49, 1, 6, 26, 48]\n",
      "[34, 43, 15, 16, 38, 34, 18, 5, 4, 43, 3, 41, 18, 30, 16, 4, 8, 41, 20, 22, 20, 8, 45, 50, 51, 11, 4, 16, 35, 9, 31, 4, 32, 4, 22, 39, 4, 16, 16, 23, 32, 32, 20, 42, 28, 4, 12, 16, 40, 27, 13, 16, 16, 2, 36, 17, 6, 30, 29, 8, 17, 4, 31, 37, 19, 14, 16, 52, 40, 34, 4, 49, 18, 49, 1, 6, 26, 48, 38]\n",
      "[34, 43, 15, 16, 38, 34, 18, 5, 4, 43, 3, 41, 18, 30, 16, 4, 8, 41, 20, 22, 20, 8, 45, 50, 51, 11, 4, 16, 35, 9, 31, 4, 32, 4, 22, 39, 4, 16, 16, 23, 32, 32, 20, 42, 28, 4, 12, 16, 40, 27, 13, 16, 16, 2, 36, 17, 6, 30, 29, 8, 17, 4, 31, 37, 19, 14, 16, 52, 40, 34, 4, 49, 18, 49, 1, 6, 26, 48, 38, 29]\n",
      "[34, 43, 15, 16, 38, 34, 18, 5, 4, 43, 3, 41, 18, 30, 16, 4, 8, 41, 20, 22, 20, 8, 45, 50, 51, 11, 4, 16, 35, 9, 31, 4, 32, 4, 22, 39, 4, 16, 16, 23, 32, 32, 20, 42, 28, 4, 12, 16, 40, 27, 13, 16, 16, 2, 36, 17, 6, 30, 29, 8, 17, 4, 31, 37, 19, 14, 16, 52, 40, 34, 4, 49, 18, 49, 1, 6, 26, 48, 38, 29, 16]\n",
      "[34, 43, 15, 16, 38, 34, 18, 5, 4, 43, 3, 41, 18, 30, 16, 4, 8, 41, 20, 22, 20, 8, 45, 50, 51, 11, 4, 16, 35, 9, 31, 4, 32, 4, 22, 39, 4, 16, 16, 23, 32, 32, 20, 42, 28, 4, 12, 16, 40, 27, 13, 16, 16, 2, 36, 17, 6, 30, 29, 8, 17, 4, 31, 37, 19, 14, 16, 52, 40, 34, 4, 49, 18, 49, 1, 6, 26, 48, 38, 29, 16, 15]\n",
      "[34, 43, 15, 16, 38, 34, 18, 5, 4, 43, 3, 41, 18, 30, 16, 4, 8, 41, 20, 22, 20, 8, 45, 50, 51, 11, 4, 16, 35, 9, 31, 4, 32, 4, 22, 39, 4, 16, 16, 23, 32, 32, 20, 42, 28, 4, 12, 16, 40, 27, 13, 16, 16, 2, 36, 17, 6, 30, 29, 8, 17, 4, 31, 37, 19, 14, 16, 52, 40, 34, 4, 49, 18, 49, 1, 6, 26, 48, 38, 29, 16, 15, 15]\n",
      "[34, 43, 15, 16, 38, 34, 18, 5, 4, 43, 3, 41, 18, 30, 16, 4, 8, 41, 20, 22, 20, 8, 45, 50, 51, 11, 4, 16, 35, 9, 31, 4, 32, 4, 22, 39, 4, 16, 16, 23, 32, 32, 20, 42, 28, 4, 12, 16, 40, 27, 13, 16, 16, 2, 36, 17, 6, 30, 29, 8, 17, 4, 31, 37, 19, 14, 16, 52, 40, 34, 4, 49, 18, 49, 1, 6, 26, 48, 38, 29, 16, 15, 15, 5]\n",
      "[34, 43, 15, 16, 38, 34, 18, 5, 4, 43, 3, 41, 18, 30, 16, 4, 8, 41, 20, 22, 20, 8, 45, 50, 51, 11, 4, 16, 35, 9, 31, 4, 32, 4, 22, 39, 4, 16, 16, 23, 32, 32, 20, 42, 28, 4, 12, 16, 40, 27, 13, 16, 16, 2, 36, 17, 6, 30, 29, 8, 17, 4, 31, 37, 19, 14, 16, 52, 40, 34, 4, 49, 18, 49, 1, 6, 26, 48, 38, 29, 16, 15, 15, 5, 21]\n",
      "[34, 43, 15, 16, 38, 34, 18, 5, 4, 43, 3, 41, 18, 30, 16, 4, 8, 41, 20, 22, 20, 8, 45, 50, 51, 11, 4, 16, 35, 9, 31, 4, 32, 4, 22, 39, 4, 16, 16, 23, 32, 32, 20, 42, 28, 4, 12, 16, 40, 27, 13, 16, 16, 2, 36, 17, 6, 30, 29, 8, 17, 4, 31, 37, 19, 14, 16, 52, 40, 34, 4, 49, 18, 49, 1, 6, 26, 48, 38, 29, 16, 15, 15, 5, 21, 37]\n",
      "[34, 43, 15, 16, 38, 34, 18, 5, 4, 43, 3, 41, 18, 30, 16, 4, 8, 41, 20, 22, 20, 8, 45, 50, 51, 11, 4, 16, 35, 9, 31, 4, 32, 4, 22, 39, 4, 16, 16, 23, 32, 32, 20, 42, 28, 4, 12, 16, 40, 27, 13, 16, 16, 2, 36, 17, 6, 30, 29, 8, 17, 4, 31, 37, 19, 14, 16, 52, 40, 34, 4, 49, 18, 49, 1, 6, 26, 48, 38, 29, 16, 15, 15, 5, 21, 37, 50]\n",
      "[34, 43, 15, 16, 38, 34, 18, 5, 4, 43, 3, 41, 18, 30, 16, 4, 8, 41, 20, 22, 20, 8, 45, 50, 51, 11, 4, 16, 35, 9, 31, 4, 32, 4, 22, 39, 4, 16, 16, 23, 32, 32, 20, 42, 28, 4, 12, 16, 40, 27, 13, 16, 16, 2, 36, 17, 6, 30, 29, 8, 17, 4, 31, 37, 19, 14, 16, 52, 40, 34, 4, 49, 18, 49, 1, 6, 26, 48, 38, 29, 16, 15, 15, 5, 21, 37, 50, 50]\n",
      "[34, 43, 15, 16, 38, 34, 18, 5, 4, 43, 3, 41, 18, 30, 16, 4, 8, 41, 20, 22, 20, 8, 45, 50, 51, 11, 4, 16, 35, 9, 31, 4, 32, 4, 22, 39, 4, 16, 16, 23, 32, 32, 20, 42, 28, 4, 12, 16, 40, 27, 13, 16, 16, 2, 36, 17, 6, 30, 29, 8, 17, 4, 31, 37, 19, 14, 16, 52, 40, 34, 4, 49, 18, 49, 1, 6, 26, 48, 38, 29, 16, 15, 15, 5, 21, 37, 50, 50, 10]\n",
      "[34, 43, 15, 16, 38, 34, 18, 5, 4, 43, 3, 41, 18, 30, 16, 4, 8, 41, 20, 22, 20, 8, 45, 50, 51, 11, 4, 16, 35, 9, 31, 4, 32, 4, 22, 39, 4, 16, 16, 23, 32, 32, 20, 42, 28, 4, 12, 16, 40, 27, 13, 16, 16, 2, 36, 17, 6, 30, 29, 8, 17, 4, 31, 37, 19, 14, 16, 52, 40, 34, 4, 49, 18, 49, 1, 6, 26, 48, 38, 29, 16, 15, 15, 5, 21, 37, 50, 50, 10, 40]\n",
      "[34, 43, 15, 16, 38, 34, 18, 5, 4, 43, 3, 41, 18, 30, 16, 4, 8, 41, 20, 22, 20, 8, 45, 50, 51, 11, 4, 16, 35, 9, 31, 4, 32, 4, 22, 39, 4, 16, 16, 23, 32, 32, 20, 42, 28, 4, 12, 16, 40, 27, 13, 16, 16, 2, 36, 17, 6, 30, 29, 8, 17, 4, 31, 37, 19, 14, 16, 52, 40, 34, 4, 49, 18, 49, 1, 6, 26, 48, 38, 29, 16, 15, 15, 5, 21, 37, 50, 50, 10, 40, 32]\n",
      "[34, 43, 15, 16, 38, 34, 18, 5, 4, 43, 3, 41, 18, 30, 16, 4, 8, 41, 20, 22, 20, 8, 45, 50, 51, 11, 4, 16, 35, 9, 31, 4, 32, 4, 22, 39, 4, 16, 16, 23, 32, 32, 20, 42, 28, 4, 12, 16, 40, 27, 13, 16, 16, 2, 36, 17, 6, 30, 29, 8, 17, 4, 31, 37, 19, 14, 16, 52, 40, 34, 4, 49, 18, 49, 1, 6, 26, 48, 38, 29, 16, 15, 15, 5, 21, 37, 50, 50, 10, 40, 32, 11]\n",
      "[34, 43, 15, 16, 38, 34, 18, 5, 4, 43, 3, 41, 18, 30, 16, 4, 8, 41, 20, 22, 20, 8, 45, 50, 51, 11, 4, 16, 35, 9, 31, 4, 32, 4, 22, 39, 4, 16, 16, 23, 32, 32, 20, 42, 28, 4, 12, 16, 40, 27, 13, 16, 16, 2, 36, 17, 6, 30, 29, 8, 17, 4, 31, 37, 19, 14, 16, 52, 40, 34, 4, 49, 18, 49, 1, 6, 26, 48, 38, 29, 16, 15, 15, 5, 21, 37, 50, 50, 10, 40, 32, 11, 48]\n",
      "[34, 43, 15, 16, 38, 34, 18, 5, 4, 43, 3, 41, 18, 30, 16, 4, 8, 41, 20, 22, 20, 8, 45, 50, 51, 11, 4, 16, 35, 9, 31, 4, 32, 4, 22, 39, 4, 16, 16, 23, 32, 32, 20, 42, 28, 4, 12, 16, 40, 27, 13, 16, 16, 2, 36, 17, 6, 30, 29, 8, 17, 4, 31, 37, 19, 14, 16, 52, 40, 34, 4, 49, 18, 49, 1, 6, 26, 48, 38, 29, 16, 15, 15, 5, 21, 37, 50, 50, 10, 40, 32, 11, 48, 16]\n"
     ]
    },
    {
     "name": "stdout",
     "output_type": "stream",
     "text": [
      "[34, 43, 15, 16, 38, 34, 18, 5, 4, 43, 3, 41, 18, 30, 16, 4, 8, 41, 20, 22, 20, 8, 45, 50, 51, 11, 4, 16, 35, 9, 31, 4, 32, 4, 22, 39, 4, 16, 16, 23, 32, 32, 20, 42, 28, 4, 12, 16, 40, 27, 13, 16, 16, 2, 36, 17, 6, 30, 29, 8, 17, 4, 31, 37, 19, 14, 16, 52, 40, 34, 4, 49, 18, 49, 1, 6, 26, 48, 38, 29, 16, 15, 15, 5, 21, 37, 50, 50, 10, 40, 32, 11, 48, 16, 20]\n",
      "[34, 43, 15, 16, 38, 34, 18, 5, 4, 43, 3, 41, 18, 30, 16, 4, 8, 41, 20, 22, 20, 8, 45, 50, 51, 11, 4, 16, 35, 9, 31, 4, 32, 4, 22, 39, 4, 16, 16, 23, 32, 32, 20, 42, 28, 4, 12, 16, 40, 27, 13, 16, 16, 2, 36, 17, 6, 30, 29, 8, 17, 4, 31, 37, 19, 14, 16, 52, 40, 34, 4, 49, 18, 49, 1, 6, 26, 48, 38, 29, 16, 15, 15, 5, 21, 37, 50, 50, 10, 40, 32, 11, 48, 16, 20, 8]\n",
      "[34, 43, 15, 16, 38, 34, 18, 5, 4, 43, 3, 41, 18, 30, 16, 4, 8, 41, 20, 22, 20, 8, 45, 50, 51, 11, 4, 16, 35, 9, 31, 4, 32, 4, 22, 39, 4, 16, 16, 23, 32, 32, 20, 42, 28, 4, 12, 16, 40, 27, 13, 16, 16, 2, 36, 17, 6, 30, 29, 8, 17, 4, 31, 37, 19, 14, 16, 52, 40, 34, 4, 49, 18, 49, 1, 6, 26, 48, 38, 29, 16, 15, 15, 5, 21, 37, 50, 50, 10, 40, 32, 11, 48, 16, 20, 8, 45]\n",
      "[34, 43, 15, 16, 38, 34, 18, 5, 4, 43, 3, 41, 18, 30, 16, 4, 8, 41, 20, 22, 20, 8, 45, 50, 51, 11, 4, 16, 35, 9, 31, 4, 32, 4, 22, 39, 4, 16, 16, 23, 32, 32, 20, 42, 28, 4, 12, 16, 40, 27, 13, 16, 16, 2, 36, 17, 6, 30, 29, 8, 17, 4, 31, 37, 19, 14, 16, 52, 40, 34, 4, 49, 18, 49, 1, 6, 26, 48, 38, 29, 16, 15, 15, 5, 21, 37, 50, 50, 10, 40, 32, 11, 48, 16, 20, 8, 45, 16]\n",
      "[34, 43, 15, 16, 38, 34, 18, 5, 4, 43, 3, 41, 18, 30, 16, 4, 8, 41, 20, 22, 20, 8, 45, 50, 51, 11, 4, 16, 35, 9, 31, 4, 32, 4, 22, 39, 4, 16, 16, 23, 32, 32, 20, 42, 28, 4, 12, 16, 40, 27, 13, 16, 16, 2, 36, 17, 6, 30, 29, 8, 17, 4, 31, 37, 19, 14, 16, 52, 40, 34, 4, 49, 18, 49, 1, 6, 26, 48, 38, 29, 16, 15, 15, 5, 21, 37, 50, 50, 10, 40, 32, 11, 48, 16, 20, 8, 45, 16, 49]\n",
      "[34, 43, 15, 16, 38, 34, 18, 5, 4, 43, 3, 41, 18, 30, 16, 4, 8, 41, 20, 22, 20, 8, 45, 50, 51, 11, 4, 16, 35, 9, 31, 4, 32, 4, 22, 39, 4, 16, 16, 23, 32, 32, 20, 42, 28, 4, 12, 16, 40, 27, 13, 16, 16, 2, 36, 17, 6, 30, 29, 8, 17, 4, 31, 37, 19, 14, 16, 52, 40, 34, 4, 49, 18, 49, 1, 6, 26, 48, 38, 29, 16, 15, 15, 5, 21, 37, 50, 50, 10, 40, 32, 11, 48, 16, 20, 8, 45, 16, 49, 27]\n",
      "[34, 43, 15, 16, 38, 34, 18, 5, 4, 43, 3, 41, 18, 30, 16, 4, 8, 41, 20, 22, 20, 8, 45, 50, 51, 11, 4, 16, 35, 9, 31, 4, 32, 4, 22, 39, 4, 16, 16, 23, 32, 32, 20, 42, 28, 4, 12, 16, 40, 27, 13, 16, 16, 2, 36, 17, 6, 30, 29, 8, 17, 4, 31, 37, 19, 14, 16, 52, 40, 34, 4, 49, 18, 49, 1, 6, 26, 48, 38, 29, 16, 15, 15, 5, 21, 37, 50, 50, 10, 40, 32, 11, 48, 16, 20, 8, 45, 16, 49, 27, 35]\n",
      "[34, 43, 15, 16, 38, 34, 18, 5, 4, 43, 3, 41, 18, 30, 16, 4, 8, 41, 20, 22, 20, 8, 45, 50, 51, 11, 4, 16, 35, 9, 31, 4, 32, 4, 22, 39, 4, 16, 16, 23, 32, 32, 20, 42, 28, 4, 12, 16, 40, 27, 13, 16, 16, 2, 36, 17, 6, 30, 29, 8, 17, 4, 31, 37, 19, 14, 16, 52, 40, 34, 4, 49, 18, 49, 1, 6, 26, 48, 38, 29, 16, 15, 15, 5, 21, 37, 50, 50, 10, 40, 32, 11, 48, 16, 20, 8, 45, 16, 49, 27, 35, 49]\n",
      "[34, 43, 15, 16, 38, 34, 18, 5, 4, 43, 3, 41, 18, 30, 16, 4, 8, 41, 20, 22, 20, 8, 45, 50, 51, 11, 4, 16, 35, 9, 31, 4, 32, 4, 22, 39, 4, 16, 16, 23, 32, 32, 20, 42, 28, 4, 12, 16, 40, 27, 13, 16, 16, 2, 36, 17, 6, 30, 29, 8, 17, 4, 31, 37, 19, 14, 16, 52, 40, 34, 4, 49, 18, 49, 1, 6, 26, 48, 38, 29, 16, 15, 15, 5, 21, 37, 50, 50, 10, 40, 32, 11, 48, 16, 20, 8, 45, 16, 49, 27, 35, 49, 9]\n",
      "[34, 43, 15, 16, 38, 34, 18, 5, 4, 43, 3, 41, 18, 30, 16, 4, 8, 41, 20, 22, 20, 8, 45, 50, 51, 11, 4, 16, 35, 9, 31, 4, 32, 4, 22, 39, 4, 16, 16, 23, 32, 32, 20, 42, 28, 4, 12, 16, 40, 27, 13, 16, 16, 2, 36, 17, 6, 30, 29, 8, 17, 4, 31, 37, 19, 14, 16, 52, 40, 34, 4, 49, 18, 49, 1, 6, 26, 48, 38, 29, 16, 15, 15, 5, 21, 37, 50, 50, 10, 40, 32, 11, 48, 16, 20, 8, 45, 16, 49, 27, 35, 49, 9, 29]\n",
      "[34, 43, 15, 16, 38, 34, 18, 5, 4, 43, 3, 41, 18, 30, 16, 4, 8, 41, 20, 22, 20, 8, 45, 50, 51, 11, 4, 16, 35, 9, 31, 4, 32, 4, 22, 39, 4, 16, 16, 23, 32, 32, 20, 42, 28, 4, 12, 16, 40, 27, 13, 16, 16, 2, 36, 17, 6, 30, 29, 8, 17, 4, 31, 37, 19, 14, 16, 52, 40, 34, 4, 49, 18, 49, 1, 6, 26, 48, 38, 29, 16, 15, 15, 5, 21, 37, 50, 50, 10, 40, 32, 11, 48, 16, 20, 8, 45, 16, 49, 27, 35, 49, 9, 29]\n"
     ]
    }
   ],
   "source": [
    "S = []\n",
    "S_label = []\n",
    "\n",
    "for i in range(T):\n",
    "    data,label = rand_sample(sorted_train_data,sorted_train_label,counts_train)\n",
    "    S.append(data) # generate T random training subset\n",
    "    S_label.append(label)\n",
    "\n",
    "    \n",
    "test_results_ensemble = []\n",
    "for i in range(len(test_data[0])):\n",
    "    post_distribution = [] # each column vector contains posterior distribution of each model\n",
    "    \n",
    "    for j in range(T):\n",
    "        post_distribution.append(lda_rand_data(S[j],S_label[j],test_data[:,i])) # perform lda on each subspaces learnt\n",
    "\n",
    "    index = np.argmin(sum(post_distribution) / (T)) + 1\n",
    "    test_results_ensemble.append(index)\n",
    "    print(test_results_ensemble)\n",
    "    \n",
    "print(test_results_ensemble)"
   ]
  },
  {
   "cell_type": "code",
   "execution_count": 22,
   "metadata": {},
   "outputs": [
    {
     "name": "stdout",
     "output_type": "stream",
     "text": [
      "0.7019230769230769\n",
      "[[1 0 0 ... 0 0 0]\n",
      " [0 1 0 ... 0 0 0]\n",
      " [0 0 1 ... 0 0 0]\n",
      " ...\n",
      " [0 0 0 ... 1 0 0]\n",
      " [0 0 0 ... 0 0 0]\n",
      " [0 0 0 ... 0 0 1]]\n"
     ]
    },
    {
     "data": {
      "image/png": "[encoded data removed]",
      "text/plain": [
       "<Figure size 288x288 with 2 Axes>"
      ]
     },
     "metadata": {},
     "output_type": "display_data"
    }
   ],
   "source": [
    "results_error = test_results_ensemble - test_label\n",
    "\n",
    "success_rate = np.count_nonzero(results_error==0) / len(results_error)\n",
    "print(success_rate)\n",
    "\n",
    "cm = confusion_matrix(test_label, test_results_ensemble)\n",
    "\n",
    "print(cm)\n",
    "plt.matshow(cm, cmap = 'Blues')\n",
    "plt.colorbar()\n",
    "plt.ylabel('Actual')\n",
    "plt.xlabel('Predicted')\n",
    "plt.show()"
   ]
  },
  {
   "cell_type": "code",
   "execution_count": null,
   "metadata": {},
   "outputs": [],
   "source": []
  },
  {
   "cell_type": "code",
   "execution_count": 17,
   "metadata": {},
   "outputs": [
    {
     "data": {
      "text/plain": [
       "{1: 7,\n",
       " 2: 7,\n",
       " 3: 8,\n",
       " 4: 9,\n",
       " 5: 8,\n",
       " 6: 7,\n",
       " 7: 10,\n",
       " 8: 7,\n",
       " 9: 8,\n",
       " 10: 9,\n",
       " 11: 8,\n",
       " 12: 8,\n",
       " 13: 6,\n",
       " 14: 9,\n",
       " 15: 6,\n",
       " 16: 9,\n",
       " 17: 6,\n",
       " 18: 7,\n",
       " 19: 9,\n",
       " 20: 6,\n",
       " 21: 9,\n",
       " 22: 8,\n",
       " 23: 9,\n",
       " 24: 9,\n",
       " 25: 10,\n",
       " 26: 9,\n",
       " 27: 7,\n",
       " 28: 5,\n",
       " 29: 8,\n",
       " 30: 7,\n",
       " 31: 8,\n",
       " 32: 7,\n",
       " 33: 10,\n",
       " 34: 7,\n",
       " 35: 8,\n",
       " 36: 8,\n",
       " 37: 8,\n",
       " 38: 7,\n",
       " 39: 9,\n",
       " 40: 6,\n",
       " 41: 8,\n",
       " 42: 9,\n",
       " 43: 8,\n",
       " 44: 10,\n",
       " 45: 5,\n",
       " 46: 10,\n",
       " 47: 9,\n",
       " 48: 7,\n",
       " 49: 9,\n",
       " 50: 9,\n",
       " 51: 10,\n",
       " 52: 9}"
      ]
     },
     "execution_count": 17,
     "metadata": {},
     "output_type": "execute_result"
    }
   ],
   "source": [
    "test_label = face_id[0,test_id]\n",
    "unique_train, counts_train = np.unique(train_label, return_counts=True)\n",
    "dict(zip(unique_train, counts_train))"
   ]
  },
  {
   "cell_type": "code",
   "execution_count": 19,
   "metadata": {},
   "outputs": [
    {
     "data": {
      "text/plain": [
       "104"
      ]
     },
     "execution_count": 19,
     "metadata": {},
     "output_type": "execute_result"
    }
   ],
   "source": [
    "len(test_label)"
   ]
  },
  {
   "cell_type": "code",
   "execution_count": 16,
   "metadata": {},
   "outputs": [
    {
     "data": {
      "text/plain": [
       "[34,\n",
       " 43,\n",
       " 15,\n",
       " 16,\n",
       " 38,\n",
       " 34,\n",
       " 18,\n",
       " 5,\n",
       " 4,\n",
       " 43,\n",
       " 3,\n",
       " 41,\n",
       " 18,\n",
       " 30,\n",
       " 16,\n",
       " 4,\n",
       " 8,\n",
       " 41,\n",
       " 20,\n",
       " 22,\n",
       " 20,\n",
       " 8,\n",
       " 45,\n",
       " 50,\n",
       " 51,\n",
       " 11,\n",
       " 4,\n",
       " 16,\n",
       " 35,\n",
       " 9,\n",
       " 31,\n",
       " 4,\n",
       " 32,\n",
       " 4,\n",
       " 22,\n",
       " 39,\n",
       " 4,\n",
       " 16,\n",
       " 16,\n",
       " 23,\n",
       " 32,\n",
       " 32,\n",
       " 20,\n",
       " 42,\n",
       " 28,\n",
       " 4,\n",
       " 12,\n",
       " 16,\n",
       " 40,\n",
       " 27,\n",
       " 13,\n",
       " 16,\n",
       " 16,\n",
       " 2,\n",
       " 36,\n",
       " 17,\n",
       " 6,\n",
       " 30,\n",
       " 29,\n",
       " 8,\n",
       " 17,\n",
       " 4,\n",
       " 31,\n",
       " 37,\n",
       " 19,\n",
       " 14,\n",
       " 16,\n",
       " 52,\n",
       " 40,\n",
       " 34,\n",
       " 4,\n",
       " 49,\n",
       " 18,\n",
       " 49,\n",
       " 1,\n",
       " 6,\n",
       " 26,\n",
       " 48,\n",
       " 38,\n",
       " 29,\n",
       " 16,\n",
       " 15,\n",
       " 15,\n",
       " 5,\n",
       " 21,\n",
       " 37,\n",
       " 50,\n",
       " 50,\n",
       " 10,\n",
       " 40,\n",
       " 32,\n",
       " 11,\n",
       " 48,\n",
       " 16,\n",
       " 20,\n",
       " 8,\n",
       " 45,\n",
       " 16,\n",
       " 49,\n",
       " 27,\n",
       " 35,\n",
       " 49,\n",
       " 9,\n",
       " 29]"
      ]
     },
     "execution_count": 16,
     "metadata": {},
     "output_type": "execute_result"
    }
   ],
   "source": [
    "test_results_ensemble"
   ]
  },
  {
   "cell_type": "code",
   "execution_count": 14,
   "metadata": {},
   "outputs": [
    {
     "data": {
      "text/plain": [
       "array([334, 425, 142, 292, 373, 274, 170,  42, 122, 421,  29, 408, 173,\n",
       "       161, 160, 282,  71, 404, 191, 214, 199,  78, 449, 447,  55, 100,\n",
       "       375,   9, 343,  85, 307, 232, 441, 460, 216, 388, 143,  27,  13,\n",
       "       228, 311, 318, 196, 414, 279, 129, 114,  16, 390, 269, 120,   6,\n",
       "       276,  11, 359, 163,  59, 296, 354, 271, 162,  38, 309, 369, 184,\n",
       "       137, 153, 513, 398, 332, 123, 261, 176, 277,   1,  56, 251, 474,\n",
       "       374, 478, 397, 145, 144,  44, 207, 364, 440, 493,  91, 392, 310,\n",
       "       108, 473, 112, 197,  79, 442, 339, 297, 262, 342, 489,  83, 280])"
      ]
     },
     "execution_count": 14,
     "metadata": {},
     "output_type": "execute_result"
    }
   ],
   "source": [
    "test_id"
   ]
  }
 ],
 "metadata": {
  "kernelspec": {
   "display_name": "Python 3",
   "language": "python",
   "name": "python3"
  },
  "language_info": {
   "codemirror_mode": {
    "name": "ipython",
    "version": 3
   },
   "file_extension": ".py",
   "mimetype": "text/x-python",
   "name": "python",
   "nbconvert_exporter": "python",
   "pygments_lexer": "ipython3",
   "version": "3.6.5"
  }
 },
 "nbformat": 4,
 "nbformat_minor": 2
}
