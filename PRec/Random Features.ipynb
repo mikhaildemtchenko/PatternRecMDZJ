{
 "cells": [
  {
   "cell_type": "markdown",
   "metadata": {},
   "source": [
    "# Eigenfaces a"
   ]
  },
  {
   "cell_type": "code",
   "execution_count": 1,
   "metadata": {},
   "outputs": [
    {
     "name": "stdout",
     "output_type": "stream",
     "text": [
      "[[106 130 191 ...  70 183  77]\n",
      " [103 129 185 ...  62 250  72]\n",
      " [103 130 174 ...  83 163  68]\n",
      " ...\n",
      " [ 37  40  22 ...  87 102  93]\n",
      " [ 36  36  19 ...  89  95 103]\n",
      " [ 41  35  17 ...  94 106 110]]\n",
      "(2576, 520)\n",
      "[[ 1  1  1  1  1  1  1  1  1  1  2  2  2  2  2  2  2  2  2  2  3  3  3  3\n",
      "   3  3  3  3  3  3  4  4  4  4  4  4  4  4  4  4  5  5  5  5  5  5  5  5\n",
      "   5  5  6  6  6  6  6  6  6  6  6  6  7  7  7  7  7  7  7  7  7  7  8  8\n",
      "   8  8  8  8  8  8  8  8  9  9  9  9  9  9  9  9  9  9 10 10 10 10 10 10\n",
      "  10 10 10 10 11 11 11 11 11 11 11 11 11 11 12 12 12 12 12 12 12 12 12 12\n",
      "  13 13 13 13 13 13 13 13 13 13 14 14 14 14 14 14 14 14 14 14 15 15 15 15\n",
      "  15 15 15 15 15 15 16 16 16 16 16 16 16 16 16 16 17 17 17 17 17 17 17 17\n",
      "  17 17 18 18 18 18 18 18 18 18 18 18 19 19 19 19 19 19 19 19 19 19 20 20\n",
      "  20 20 20 20 20 20 20 20 21 21 21 21 21 21 21 21 21 21 22 22 22 22 22 22\n",
      "  22 22 22 22 23 23 23 23 23 23 23 23 23 23 24 24 24 24 24 24 24 24 24 24\n",
      "  25 25 25 25 25 25 25 25 25 25 26 26 26 26 26 26 26 26 26 26 27 27 27 27\n",
      "  27 27 27 27 27 27 28 28 28 28 28 28 28 28 28 28 29 29 29 29 29 29 29 29\n",
      "  29 29 30 30 30 30 30 30 30 30 30 30 31 31 31 31 31 31 31 31 31 31 32 32\n",
      "  32 32 32 32 32 32 32 32 33 33 33 33 33 33 33 33 33 33 34 34 34 34 34 34\n",
      "  34 34 34 34 35 35 35 35 35 35 35 35 35 35 36 36 36 36 36 36 36 36 36 36\n",
      "  37 37 37 37 37 37 37 37 37 37 38 38 38 38 38 38 38 38 38 38 39 39 39 39\n",
      "  39 39 39 39 39 39 40 40 40 40 40 40 40 40 40 40 41 41 41 41 41 41 41 41\n",
      "  41 41 42 42 42 42 42 42 42 42 42 42 43 43 43 43 43 43 43 43 43 43 44 44\n",
      "  44 44 44 44 44 44 44 44 45 45 45 45 45 45 45 45 45 45 46 46 46 46 46 46\n",
      "  46 46 46 46 47 47 47 47 47 47 47 47 47 47 48 48 48 48 48 48 48 48 48 48\n",
      "  49 49 49 49 49 49 49 49 49 49 50 50 50 50 50 50 50 50 50 50 51 51 51 51\n",
      "  51 51 51 51 51 51 52 52 52 52 52 52 52 52 52 52]]\n",
      "(1, 520)\n"
     ]
    }
   ],
   "source": [
    "import scipy.io as sio\n",
    "import numpy as np\n",
    "import matplotlib.pyplot as plt\n",
    "from sklearn import preprocessing\n",
    "from sklearn.metrics import confusion_matrix\n",
    "from numpy.linalg import matrix_rank\n",
    "from numpy.linalg import inv\n",
    "\n",
    "mat_content = sio.loadmat('face.mat')\n",
    "\n",
    "face_data = mat_content['X']\n",
    "face_id = mat_content['l']\n",
    "\n",
    "print(face_data)\n",
    "print(face_data.shape)\n",
    "\n",
    "print(face_id)\n",
    "print(face_id.shape)"
   ]
  },
  {
   "cell_type": "code",
   "execution_count": 4,
   "metadata": {},
   "outputs": [
    {
     "name": "stdout",
     "output_type": "stream",
     "text": [
      "[[116 162  87 ... 104  64 194]\n",
      " [129 158  88 ... 105  55 131]\n",
      " [141 157  71 ... 104  55 110]\n",
      " ...\n",
      " [ 48  38  34 ...  20 169 160]\n",
      " [ 49  33  27 ...  22 169  38]\n",
      " [ 48  33  37 ...  25 168  38]]\n",
      "(2576, 416)\n",
      "[[155 141 147 ... 156  74 116]\n",
      " [149 151 152 ... 158  76 112]\n",
      " [133 158 155 ... 161  75 103]\n",
      " ...\n",
      " [105  23 117 ...  55 224  43]\n",
      " [ 82  21 104 ...  44 221  45]\n",
      " [ 57  20  99 ...  37 221  49]]\n",
      "(2576, 104)\n"
     ]
    }
   ],
   "source": [
    "# Split data set\n",
    "# Train_id is the index of each train data in the total data set, test_id the same\n",
    "\n",
    "from sklearn.model_selection import train_test_split\n",
    "\n",
    "indices = np.arange(len(face_id[0]))\n",
    "train_data, test_data, train_id, test_id = train_test_split(face_data.T, indices, test_size = 0.2)\n",
    "train_data = train_data.T\n",
    "test_data = test_data.T\n",
    "\n",
    "print(train_data)\n",
    "print(train_data.shape)\n",
    "print(test_data)\n",
    "print(test_data.shape)"
   ]
  },
  {
   "cell_type": "code",
   "execution_count": 5,
   "metadata": {},
   "outputs": [
    {
     "data": {
      "text/plain": [
       "{1: 8,\n",
       " 2: 10,\n",
       " 3: 10,\n",
       " 4: 8,\n",
       " 5: 8,\n",
       " 6: 9,\n",
       " 7: 9,\n",
       " 8: 7,\n",
       " 9: 9,\n",
       " 10: 8,\n",
       " 11: 10,\n",
       " 12: 8,\n",
       " 13: 8,\n",
       " 14: 9,\n",
       " 15: 7,\n",
       " 16: 7,\n",
       " 17: 10,\n",
       " 18: 10,\n",
       " 19: 5,\n",
       " 20: 7,\n",
       " 21: 6,\n",
       " 22: 10,\n",
       " 23: 9,\n",
       " 24: 9,\n",
       " 25: 8,\n",
       " 26: 9,\n",
       " 27: 7,\n",
       " 28: 10,\n",
       " 29: 7,\n",
       " 30: 8,\n",
       " 31: 7,\n",
       " 32: 8,\n",
       " 33: 8,\n",
       " 34: 7,\n",
       " 35: 9,\n",
       " 36: 8,\n",
       " 37: 7,\n",
       " 38: 8,\n",
       " 39: 8,\n",
       " 40: 7,\n",
       " 41: 7,\n",
       " 42: 6,\n",
       " 43: 7,\n",
       " 44: 9,\n",
       " 45: 7,\n",
       " 46: 9,\n",
       " 47: 9,\n",
       " 48: 6,\n",
       " 49: 7,\n",
       " 50: 8,\n",
       " 51: 6,\n",
       " 52: 8}"
      ]
     },
     "execution_count": 5,
     "metadata": {},
     "output_type": "execute_result"
    }
   ],
   "source": [
    "# Count the number of face images for each person \n",
    "# in the train and test set after randomly split\n",
    "\n",
    "train_label = face_id[0,train_id]\n",
    "unique_train, counts_train = np.unique(train_label, return_counts=True)\n",
    "dict(zip(unique_train, counts_train))\n",
    "\n",
    "#test_label = face_id[0,test_id]\n",
    "#unique_test, counts_test = np.unique(test_label, return_counts=True)\n",
    "#dict(zip(unique_test, counts_test))\n",
    "\n",
    "#print(unique_train)\n",
    "#print(train_label)\n",
    "#print(counts_train)\n"
   ]
  },
  {
   "cell_type": "code",
   "execution_count": 6,
   "metadata": {},
   "outputs": [
    {
     "data": {
      "text/plain": [
       "<matplotlib.image.AxesImage at 0x1a0ca692b0>"
      ]
     },
     "execution_count": 6,
     "metadata": {},
     "output_type": "execute_result"
    },
    {
     "data": {
      "image/png": "[encoded data removed]",
      "text/plain": [
       "<Figure size 432x288 with 1 Axes>"
      ]
     },
     "metadata": {},
     "output_type": "display_data"
    }
   ],
   "source": [
    "# Compute average face vector\n",
    "\n",
    "num_train = len(train_data[0])\n",
    "\n",
    "avg_face = train_data.mean(axis=1)\n",
    "\n",
    "plt.imshow(np.reshape(avg_face,(46,56)).T, cmap = 'gist_gray')\n",
    "\n",
    "#print(train_data.shape)\n",
    "#print(num_train)"
   ]
  },
  {
   "cell_type": "code",
   "execution_count": 8,
   "metadata": {},
   "outputs": [],
   "source": [
    "# Compute covariance matrix without low-dimensional compution\n",
    "\n",
    "num_pix = len(train_data)\n",
    "\n",
    "A = train_data - avg_face.reshape(num_pix,1)\n",
    "S = (A.dot(A.T)) / num_train\n",
    "\n",
    "#print(num_pix)"
   ]
  },
  {
   "cell_type": "code",
   "execution_count": 9,
   "metadata": {},
   "outputs": [],
   "source": [
    "# Compute the egenvalues\n",
    "# Due to numerical error, some eigenvalues are complex but they have\n",
    "# negligible imaginary parts. Morover real symetric covariance \n",
    "# matrix always has real eigenvalues and eigenvectors.\n",
    "\n",
    "eigvals, eigvecs = np.linalg.eig(S)\n",
    "eigvals = eigvals.real\n",
    "eigvecs = eigvecs.real"
   ]
  },
  {
   "cell_type": "code",
   "execution_count": 10,
   "metadata": {},
   "outputs": [
    {
     "name": "stdout",
     "output_type": "stream",
     "text": [
      "(2576,)\n",
      "(2576, 2576)\n",
      "(415,)\n",
      "(2576, 415)\n"
     ]
    }
   ],
   "source": [
    "# Compute the nonzero eigenvalues and their eigenvectors\n",
    "\n",
    "print(eigvals.shape)\n",
    "print(eigvecs.shape)\n",
    "\n",
    "nonzero_eigvals = eigvals[abs(eigvals) >= 1e-7]\n",
    "print(nonzero_eigvals.shape)\n",
    "\n",
    "eigvecs_nonzero_eigvals = eigvecs[:,abs(eigvals) >= 1e-7]\n",
    "print(eigvecs_nonzero_eigvals.shape)"
   ]
  },
  {
   "cell_type": "code",
   "execution_count": 11,
   "metadata": {},
   "outputs": [
    {
     "name": "stdout",
     "output_type": "stream",
     "text": [
      "[ 0  1  2  3  4  5  6  7  8  9 10 11 12 13 14 15 16 17 18 19 20 21 22 23\n",
      " 24 25 26 27 28 29]\n",
      "(2576, 30)\n"
     ]
    },
    {
     "data": {
      "text/plain": [
       "<matplotlib.image.AxesImage at 0x1070c1828>"
      ]
     },
     "execution_count": 11,
     "metadata": {},
     "output_type": "execute_result"
    },
    {
     "data": {
      "image/png": "[encoded data removed]",
      "text/plain": [
       "<Figure size 432x288 with 1 Axes>"
      ]
     },
     "metadata": {},
     "output_type": "display_data"
    }
   ],
   "source": [
    "# Choose the eigenvectors with M largest eigenvalues as eigenfaces\n",
    "\n",
    "M = 30 # Number of eigenvectors with M largest eigenvalues to be used\n",
    "\n",
    "sorted_index = np.argsort(-nonzero_eigvals)[:M]\n",
    "print(sorted_index)\n",
    "\n",
    "eigfaces = eigvecs_nonzero_eigvals[:,sorted_index]\n",
    "print(eigfaces.shape)\n",
    "\n",
    "plt.imshow(np.reshape(eigfaces[:,0],(46,56)).T, cmap = 'gist_gray')"
   ]
  },
  {
   "cell_type": "markdown",
   "metadata": {},
   "source": [
    "# Eigenfaces b"
   ]
  },
  {
   "cell_type": "code",
   "execution_count": 12,
   "metadata": {},
   "outputs": [
    {
     "name": "stdout",
     "output_type": "stream",
     "text": [
      "415\n",
      "(2576, 2576)\n",
      "(416, 416)\n"
     ]
    }
   ],
   "source": [
    "# Compute covariance matrix with low-dimensional compution\n",
    "\n",
    "S_low_dim = ((A.T).dot(A)) / num_train\n",
    "\n",
    "print(matrix_rank(A))\n",
    "print(S.shape)\n",
    "print(S_low_dim.shape)"
   ]
  },
  {
   "cell_type": "code",
   "execution_count": 14,
   "metadata": {},
   "outputs": [],
   "source": [
    "# Compute the egenvalues \n",
    "\n",
    "eigvals_low_dim, eigvecs_low_dim = np.linalg.eig(S_low_dim)\n",
    "eigvals_low_dim = eigvals_low_dim.real\n",
    "eigvecs_low_dim = eigvecs_low_dim.real"
   ]
  },
  {
   "cell_type": "code",
   "execution_count": 15,
   "metadata": {},
   "outputs": [
    {
     "name": "stdout",
     "output_type": "stream",
     "text": [
      "(416,)\n",
      "(416, 416)\n",
      "(415,)\n",
      "(416, 415)\n"
     ]
    }
   ],
   "source": [
    "# Compute the nonzero eigenvalues and their eigenvectors\n",
    "\n",
    "print(eigvals_low_dim.shape)\n",
    "print(eigvecs_low_dim.shape)\n",
    "\n",
    "nonzero_eigvals_low_dim = eigvals_low_dim[abs(eigvals_low_dim) >= 1e-7]\n",
    "print(nonzero_eigvals_low_dim.shape)\n",
    "\n",
    "eigvecs_nonzero_eigvals_low_dim = eigvecs_low_dim[:,abs(eigvals_low_dim) >= 1e-7]\n",
    "print(eigvecs_nonzero_eigvals_low_dim.shape)"
   ]
  },
  {
   "cell_type": "code",
   "execution_count": 16,
   "metadata": {},
   "outputs": [
    {
     "data": {
      "text/plain": [
       "<matplotlib.image.AxesImage at 0x10711bcc0>"
      ]
     },
     "execution_count": 16,
     "metadata": {},
     "output_type": "execute_result"
    },
    {
     "data": {
      "image/png": "[encoded data removed]",
      "text/plain": [
       "<Figure size 432x288 with 1 Axes>"
      ]
     },
     "metadata": {},
     "output_type": "display_data"
    }
   ],
   "source": [
    "# Choose the eigenvectors with M largest eigenvalues as eigenfaces and \n",
    "# convert them to the eigenvectors of S and normalize them\n",
    "\n",
    "eigfaces_low_dim_unnormalized = A.dot(eigvecs_nonzero_eigvals_low_dim[:,np.argsort(-nonzero_eigvals_low_dim)[:M]])\n",
    "\n",
    "eigfaces_low_dim = (preprocessing.normalize(eigfaces_low_dim_unnormalized.T, norm='l2')).T\n",
    "\n",
    "#print(eigfaces_low_dim[:,0])\n",
    "#print(eigfaces[:,0])\n",
    "#print(eigfaces_low_dim.shape)\n",
    "\n",
    "plt.imshow(np.reshape(eigfaces_low_dim[:,0],(46,56)).T, cmap = 'gist_gray')"
   ]
  },
  {
   "cell_type": "markdown",
   "metadata": {},
   "source": [
    "# PCA-LAD"
   ]
  },
  {
   "cell_type": "code",
   "execution_count": 17,
   "metadata": {},
   "outputs": [],
   "source": [
    "sorted_train_data = train_data[:,np.argsort(train_label)]\n",
    "sorted_train_label = train_label[np.argsort(train_label)]"
   ]
  },
  {
   "cell_type": "code",
   "execution_count": 18,
   "metadata": {},
   "outputs": [],
   "source": [
    "# Compute class mean M, the class mean for the i-th class is the \n",
    "# i-th column vector of M \n",
    "\n",
    "c = len(counts_train) # number of classes\n",
    "M = np.zeros((num_pix, c))\n",
    "\n",
    "list_Sw = [] # Each element of list_Sw contains the with-in scatter matrix of the i+1th class\n",
    "\n",
    "current_index = 0;\n",
    "for idx,cnt in enumerate(counts_train):\n",
    "    X = sorted_train_data[:,current_index : current_index + cnt]\n",
    "    M[:,idx] = (X.mean(axis=1))\n",
    "    A_Sw =  X - M[:,idx].reshape(num_pix,1)\n",
    "    Sw = A_Sw.dot(A_Sw.T)\n",
    "    list_Sw.append(Sw)\n",
    "    current_index += cnt"
   ]
  },
  {
   "cell_type": "code",
   "execution_count": 19,
   "metadata": {},
   "outputs": [
    {
     "name": "stdout",
     "output_type": "stream",
     "text": [
      "51\n",
      "51\n"
     ]
    }
   ],
   "source": [
    "# Compute between-scatter matrix Sb\n",
    "\n",
    "A_Sb =  M - avg_face.reshape(num_pix,1)\n",
    "Sb = A_Sb.dot(A_Sb.T)\n",
    "print(matrix_rank(Sb))\n",
    "print(c-1)"
   ]
  },
  {
   "cell_type": "code",
   "execution_count": 20,
   "metadata": {},
   "outputs": [
    {
     "name": "stdout",
     "output_type": "stream",
     "text": [
      "364\n",
      "364\n"
     ]
    }
   ],
   "source": [
    "# Compute within-scatter matrix Sw\n",
    "N = num_train\n",
    "Sw = np.zeros((num_pix,num_pix))\n",
    "\n",
    "for i in range(c):\n",
    "    Sw += list_Sw[i]\n",
    "    \n",
    "print(matrix_rank(Sw))\n",
    "print(N-c)"
   ]
  },
  {
   "cell_type": "code",
   "execution_count": 21,
   "metadata": {},
   "outputs": [],
   "source": [
    "# PCA to reduce dimenstion to Mpca\n",
    "\n",
    "M_pca= 200\n",
    "    \n",
    "W_pca_unnormalized = A.dot(eigvecs_nonzero_eigvals_low_dim[:,np.argsort(-nonzero_eigvals_low_dim)[:M_pca]]) \n",
    "W_pca = (preprocessing.normalize(W_pca_unnormalized.T, norm='l2')).T"
   ]
  },
  {
   "cell_type": "code",
   "execution_count": 22,
   "metadata": {},
   "outputs": [],
   "source": [
    "# Project Sw and Sb to PCA reduced subspace\n",
    "Sb_pca = (W_pca.T).dot(Sb.dot(W_pca))\n",
    "Sw_pca = (W_pca.T).dot(Sw.dot(W_pca))\n",
    "\n",
    "#print(Sw_pca.shape)"
   ]
  },
  {
   "cell_type": "code",
   "execution_count": 23,
   "metadata": {},
   "outputs": [
    {
     "name": "stdout",
     "output_type": "stream",
     "text": [
      "51\n",
      "(200,)\n",
      "(200, 200)\n",
      "(51,)\n",
      "(200, 51)\n",
      "(200, 50)\n"
     ]
    }
   ],
   "source": [
    "# Perform LDA on the reduced subspace\n",
    "\n",
    "eigvals_lda, eigvecs_lda = np.linalg.eig((inv(Sw_pca)).dot(Sb_pca))\n",
    "eigvals_lda = eigvals_lda.real\n",
    "eigvecs_lda = eigvecs_lda.real\n",
    "\n",
    "print(matrix_rank((inv(Sw_pca)).dot(Sb_pca)))\n",
    "print(eigvals_lda.shape)\n",
    "print(eigvecs_lda.shape)\n",
    "\n",
    "nonzero_eigvals_lda = eigvals_lda[abs(eigvals_lda) >= 1e-7]\n",
    "print(nonzero_eigvals_lda.shape)\n",
    "\n",
    "eigvecs_nonzero_eigvals_lda = eigvecs_lda[:,abs(eigvals_lda) >= 1e-7]\n",
    "print(eigvecs_nonzero_eigvals_lda.shape)\n",
    "\n",
    "M_lda = 50\n",
    "\n",
    "sorted_index_lda = np.argsort(-nonzero_eigvals_lda)[:M_lda]\n",
    "#print(sorted_index_lda)\n",
    "\n",
    "W_lda = eigvecs_nonzero_eigvals_lda[:,sorted_index_lda]\n",
    "print(W_lda.shape)\n"
   ]
  },
  {
   "cell_type": "code",
   "execution_count": 24,
   "metadata": {},
   "outputs": [
    {
     "name": "stdout",
     "output_type": "stream",
     "text": [
      "(104, 200)\n",
      "(104, 50)\n",
      "[29 51 14 20 35 41 13 19 43 43 19 25 43 41 44 19 27 19 42 41 33 36 42 49\n",
      " 34  7 34  8  4 48 16 15 51 15 25 36 52  8 42 40 49 50 51 37 16 21 48 20\n",
      " 27  1 32 30 23 45  4 38  6 31 20 10  5 37 37 40 47 21 16  9  1 15  8 42\n",
      " 48 45 29 27 39 12 29 26 31 21 19 40 51 46 33 32 30 34 38 52 49 31 24 12\n",
      " 10 45  5 48 39 21 50 13]\n",
      "[29, 51, 14, 20, 35, 41, 13, 21, 43, 43, 4, 25, 43, 41, 44, 4, 27, 19, 42, 41, 33, 29, 42, 49, 34, 3, 34, 8, 4, 48, 38, 15, 51, 15, 25, 30, 52, 8, 42, 16, 49, 38, 51, 37, 16, 21, 48, 20, 27, 1, 32, 30, 23, 45, 4, 38, 6, 31, 20, 10, 5, 37, 37, 40, 47, 21, 16, 9, 1, 15, 8, 42, 48, 8, 29, 27, 39, 12, 29, 26, 31, 21, 19, 40, 51, 38, 33, 32, 30, 34, 38, 52, 49, 31, 24, 12, 10, 45, 5, 48, 39, 21, 50, 13]\n"
     ]
    }
   ],
   "source": [
    "# NN-classification\n",
    "\n",
    "# Project train faces onto LDA subspace\n",
    "W_train_pca = (A.T).dot(W_pca)\n",
    "W_train_lda = (W_train_pca).dot(W_lda)\n",
    "\n",
    "A_test_lda = test_data - avg_face.reshape(num_pix,1)\n",
    "\n",
    "# Project test data to PCA subspace\n",
    "W_test_pca = (A_test_lda.T).dot(W_pca) # Coordinates (row vector) on PCA subspace\n",
    "\n",
    "# Project test data to LDA subspace\n",
    "W_test_lda = (W_test_pca).dot(W_lda) # Coordinates (row vector) on LDA subspace\n",
    "\n",
    "print(W_test_pca.shape)\n",
    "print(W_test_lda.shape)\n",
    "\n",
    "test_results_lda = []\n",
    "for row in W_test_lda:\n",
    "    index = np.argmin(np.linalg.norm(row - W_train_lda, axis=1))\n",
    "    test_results_lda.append(face_id[0,train_id[index]])\n",
    "    \n",
    "true_results = face_id[0,test_id]\n",
    "\n",
    "print(true_results)\n",
    "print(test_results_lda)\n",
    "\n"
   ]
  },
  {
   "cell_type": "code",
   "execution_count": 25,
   "metadata": {},
   "outputs": [
    {
     "name": "stdout",
     "output_type": "stream",
     "text": [
      "0.8942307692307693\n",
      "[[2 0 0 ... 0 0 0]\n",
      " [0 0 0 ... 0 0 0]\n",
      " [0 0 2 ... 0 0 0]\n",
      " ...\n",
      " [0 0 0 ... 1 0 0]\n",
      " [0 0 0 ... 0 4 0]\n",
      " [0 0 0 ... 0 0 2]]\n"
     ]
    },
    {
     "data": {
      "image/png": "[encoded data removed]",
      "text/plain": [
       "<Figure size 288x288 with 2 Axes>"
      ]
     },
     "metadata": {},
     "output_type": "display_data"
    }
   ],
   "source": [
    "results_error_lda = test_results_lda - true_results\n",
    "\n",
    "success_rate = np.count_nonzero(results_error_lda == 0) / len(true_results)\n",
    "print(success_rate)\n",
    "\n",
    "cm = confusion_matrix(true_results, test_results_lda)\n",
    "\n",
    "print(cm)\n",
    "plt.matshow(cm, cmap = 'Blues')\n",
    "plt.colorbar()\n",
    "plt.ylabel('Actual')\n",
    "plt.xlabel('Predicted')\n",
    "plt.show()"
   ]
  },
  {
   "cell_type": "code",
   "execution_count": 26,
   "metadata": {},
   "outputs": [
    {
     "data": {
      "text/plain": [
       "<matplotlib.image.AxesImage at 0x1a31252860>"
      ]
     },
     "execution_count": 26,
     "metadata": {},
     "output_type": "execute_result"
    },
    {
     "data": {
      "image/png": "[encoded data removed]",
      "text/plain": [
       "<Figure size 432x288 with 1 Axes>"
      ]
     },
     "metadata": {},
     "output_type": "display_data"
    }
   ],
   "source": [
    "# Generate fisherfaces by converting Wlda back to its original data space\n",
    "\n",
    "fisherfaces = W_pca.dot(W_lda) # Columns are fisherfaces\n",
    "\n",
    "plt.imshow(np.reshape(fisherfaces[:,0],(46,56)).T, cmap = 'gist_gray')"
   ]
  },
  {
   "cell_type": "code",
   "execution_count": null,
   "metadata": {},
   "outputs": [],
   "source": []
  },
  {
   "cell_type": "markdown",
   "metadata": {},
   "source": [
    "# PCA-LDA Ensemble "
   ]
  },
  {
   "cell_type": "code",
   "execution_count": 27,
   "metadata": {},
   "outputs": [],
   "source": [
    "sorted_train_data = train_data[:,np.argsort(train_label)]\n",
    "sorted_train_label = train_label[np.argsort(train_label)]"
   ]
  },
  {
   "cell_type": "code",
   "execution_count": 28,
   "metadata": {},
   "outputs": [],
   "source": [
    "import random\n",
    "\n",
    "T = 50\n",
    "M0 = 10\n",
    "M1 = 90\n",
    "# Mpca = M0 + M1 should not exceed \n",
    "M_lda = 50\n",
    "n_sample = 7 # number of samples per class\n",
    "\n",
    "# Generate random subspaces \n",
    "def rand_subspace(eigvecs,eigvals):\n",
    "    subspace = eigvecs[:,np.argsort(-eigvals)[ : M0]]\n",
    "    #print(len(eigvals))\n",
    "    index = (np.argsort(eigvals)[ : len(eigvals) - M0]).tolist()\n",
    "    rand_index = random.sample(index, M1)  \n",
    "    subspace = np.concatenate((subspace, eigvecs[:,rand_index]), axis=1)\n",
    "    return subspace\n",
    "\n",
    "# Bagging (from every class)\n",
    "def rand_sample(sorted_train_data,sorted_train_label,counts_train):\n",
    "    sample = list()\n",
    "    label = list()\n",
    "    current_index = 0\n",
    "    for idx,cnt in enumerate(counts_train):\n",
    "        for j in range(n_sample):\n",
    "            index = random.randrange(current_index, current_index + cnt, 1)\n",
    "            sample.append(sorted_train_data[:,index])\n",
    "            label.append(sorted_train_label[index])\n",
    "        current_index += cnt\n",
    "    \n",
    "    return ((np.asarray(sample)).T), np.asarray(label)\n",
    "\n",
    "# Generate eigenspace of data set using PCA\n",
    "def eigspace_generator_ensemble(data):\n",
    "    num_train = len(data[0])\n",
    "    avg_face = data.mean(axis=1)\n",
    "    num_pix = len(data)\n",
    "    A = data - avg_face.reshape(num_pix,1)\n",
    "    S_low_dim = ((A.T).dot(A)) / num_train\n",
    "    eigvals_low_dim, eigvecs_low_dim = np.linalg.eig(S_low_dim)\n",
    "    eigvals_low_dim = eigvals_low_dim.real\n",
    "    eigvecs_low_dim = eigvecs_low_dim.real\n",
    "    nonzero_eigvals_low_dim = eigvals_low_dim[abs(eigvals_low_dim) >= 1e-7]\n",
    "    eigvecs_nonzero_eigvals_low_dim = eigvecs_low_dim[:,abs(eigvals_low_dim) >= 1e-7]\n",
    "    eigfaces_low_dim_unnormalized = A.dot(eigvecs_nonzero_eigvals_low_dim[:,np.argsort(-nonzero_eigvals_low_dim)[:]]) \n",
    "    eigfaces_low_dim = (preprocessing.normalize(eigfaces_low_dim_unnormalized.T, norm='l2')).T\n",
    "    return eigfaces_low_dim, nonzero_eigvals_low_dim\n"
   ]
  },
  {
   "cell_type": "code",
   "execution_count": null,
   "metadata": {},
   "outputs": [],
   "source": []
  },
  {
   "cell_type": "code",
   "execution_count": 29,
   "metadata": {},
   "outputs": [],
   "source": [
    "def lda_rand_subspace(W_pca,test_data): # test_data single column vector\n",
    "    \n",
    "    Sb_pca = (W_pca.T).dot(Sb.dot(W_pca))\n",
    "    Sw_pca = (W_pca.T).dot(Sw.dot(W_pca))\n",
    "    \n",
    "    eigvals_lda, eigvecs_lda = np.linalg.eig((inv(Sw_pca)).dot(Sb_pca))\n",
    "    eigvals_lda = eigvals_lda.real\n",
    "    eigvecs_lda = eigvecs_lda.real\n",
    "\n",
    "    nonzero_eigvals_lda = eigvals_lda[abs(eigvals_lda) >= 1e-7]\n",
    "    eigvecs_nonzero_eigvals_lda = eigvecs_lda[:,abs(eigvals_lda) >= 1e-7]\n",
    "    \n",
    "    sorted_index_lda = np.argsort(-nonzero_eigvals_lda)[:M_lda]\n",
    "\n",
    "    W_lda = eigvecs_nonzero_eigvals_lda[:,sorted_index_lda]\n",
    "    \n",
    "    # NN-classification\n",
    "\n",
    "    W_train_pca = (A.T).dot(W_pca)\n",
    "    W_train_lda = (W_train_pca).dot(W_lda)\n",
    "    sorted_W_train_lda = W_train_lda[np.argsort(train_label),:]\n",
    "\n",
    "    A_test_lda = test_data.reshape(num_pix,1) - avg_face.reshape(num_pix,1)\n",
    "\n",
    "    # Project test data to PCA subspace\n",
    "    W_test_pca = (A_test_lda.T).dot(W_pca) # Coordinates (row vector) on PCA subspace\n",
    "    # Project test data to LDA subspace\n",
    "    W_test_lda = (W_test_pca).dot(W_lda) # Coordinates (row vector) on LDA subspace\n",
    "    \n",
    "    distance = np.linalg.norm(W_test_lda - sorted_W_train_lda, axis=1) # row vector containing Euclidiean distance to each tranining data\n",
    "   \n",
    "        \n",
    "    min_distance = []\n",
    "    current_index = 0;\n",
    "    for idx,cnt in enumerate(counts_train):\n",
    "        distance = distance.reshape(len(distance),1)\n",
    "        distance[current_index : current_index + cnt,:]\n",
    "        min_distance.append(min(distance[current_index : current_index + cnt,:]))\n",
    "        current_index += cnt\n",
    "    \n",
    "    post_distribution = (min_distance / sum(min_distance)) \n",
    "    \n",
    "    return post_distribution"
   ]
  },
  {
   "cell_type": "markdown",
   "metadata": {},
   "source": [
    "# Committe machine with randomized feature space"
   ]
  },
  {
   "cell_type": "code",
   "execution_count": 30,
   "metadata": {},
   "outputs": [],
   "source": [
    "R = [] \n",
    "for i in range(T):\n",
    "    R.append(rand_subspace(eigvecs_nonzero_eigvals,nonzero_eigvals)) # generate T random subspaces"
   ]
  },
  {
   "cell_type": "code",
   "execution_count": 31,
   "metadata": {},
   "outputs": [
    {
     "name": "stdout",
     "output_type": "stream",
     "text": [
      "[46]\n",
      "[46, 51]\n",
      "[46, 51, 14]\n",
      "[46, 51, 14, 20]\n",
      "[46, 51, 14, 20, 35]\n",
      "[46, 51, 14, 20, 35, 34]\n",
      "[46, 51, 14, 20, 35, 34, 13]\n",
      "[46, 51, 14, 20, 35, 34, 13, 21]\n",
      "[46, 51, 14, 20, 35, 34, 13, 21, 43]\n",
      "[46, 51, 14, 20, 35, 34, 13, 21, 43, 29]\n",
      "[46, 51, 14, 20, 35, 34, 13, 21, 43, 29, 4]\n",
      "[46, 51, 14, 20, 35, 34, 13, 21, 43, 29, 4, 25]\n",
      "[46, 51, 14, 20, 35, 34, 13, 21, 43, 29, 4, 25, 4]\n",
      "[46, 51, 14, 20, 35, 34, 13, 21, 43, 29, 4, 25, 4, 41]\n",
      "[46, 51, 14, 20, 35, 34, 13, 21, 43, 29, 4, 25, 4, 41, 44]\n",
      "[46, 51, 14, 20, 35, 34, 13, 21, 43, 29, 4, 25, 4, 41, 44, 6]\n",
      "[46, 51, 14, 20, 35, 34, 13, 21, 43, 29, 4, 25, 4, 41, 44, 6, 27]\n",
      "[46, 51, 14, 20, 35, 34, 13, 21, 43, 29, 4, 25, 4, 41, 44, 6, 27, 16]\n",
      "[46, 51, 14, 20, 35, 34, 13, 21, 43, 29, 4, 25, 4, 41, 44, 6, 27, 16, 42]\n",
      "[46, 51, 14, 20, 35, 34, 13, 21, 43, 29, 4, 25, 4, 41, 44, 6, 27, 16, 42, 41]\n",
      "[46, 51, 14, 20, 35, 34, 13, 21, 43, 29, 4, 25, 4, 41, 44, 6, 27, 16, 42, 41, 33]\n",
      "[46, 51, 14, 20, 35, 34, 13, 21, 43, 29, 4, 25, 4, 41, 44, 6, 27, 16, 42, 41, 33, 29]\n",
      "[46, 51, 14, 20, 35, 34, 13, 21, 43, 29, 4, 25, 4, 41, 44, 6, 27, 16, 42, 41, 33, 29, 42]\n",
      "[46, 51, 14, 20, 35, 34, 13, 21, 43, 29, 4, 25, 4, 41, 44, 6, 27, 16, 42, 41, 33, 29, 42, 35]\n",
      "[46, 51, 14, 20, 35, 34, 13, 21, 43, 29, 4, 25, 4, 41, 44, 6, 27, 16, 42, 41, 33, 29, 42, 35, 34]\n",
      "[46, 51, 14, 20, 35, 34, 13, 21, 43, 29, 4, 25, 4, 41, 44, 6, 27, 16, 42, 41, 33, 29, 42, 35, 34, 7]\n",
      "[46, 51, 14, 20, 35, 34, 13, 21, 43, 29, 4, 25, 4, 41, 44, 6, 27, 16, 42, 41, 33, 29, 42, 35, 34, 7, 34]\n",
      "[46, 51, 14, 20, 35, 34, 13, 21, 43, 29, 4, 25, 4, 41, 44, 6, 27, 16, 42, 41, 33, 29, 42, 35, 34, 7, 34, 8]\n",
      "[46, 51, 14, 20, 35, 34, 13, 21, 43, 29, 4, 25, 4, 41, 44, 6, 27, 16, 42, 41, 33, 29, 42, 35, 34, 7, 34, 8, 4]\n",
      "[46, 51, 14, 20, 35, 34, 13, 21, 43, 29, 4, 25, 4, 41, 44, 6, 27, 16, 42, 41, 33, 29, 42, 35, 34, 7, 34, 8, 4, 48]\n",
      "[46, 51, 14, 20, 35, 34, 13, 21, 43, 29, 4, 25, 4, 41, 44, 6, 27, 16, 42, 41, 33, 29, 42, 35, 34, 7, 34, 8, 4, 48, 11]\n",
      "[46, 51, 14, 20, 35, 34, 13, 21, 43, 29, 4, 25, 4, 41, 44, 6, 27, 16, 42, 41, 33, 29, 42, 35, 34, 7, 34, 8, 4, 48, 11, 15]\n",
      "[46, 51, 14, 20, 35, 34, 13, 21, 43, 29, 4, 25, 4, 41, 44, 6, 27, 16, 42, 41, 33, 29, 42, 35, 34, 7, 34, 8, 4, 48, 11, 15, 51]\n",
      "[46, 51, 14, 20, 35, 34, 13, 21, 43, 29, 4, 25, 4, 41, 44, 6, 27, 16, 42, 41, 33, 29, 42, 35, 34, 7, 34, 8, 4, 48, 11, 15, 51, 15]\n",
      "[46, 51, 14, 20, 35, 34, 13, 21, 43, 29, 4, 25, 4, 41, 44, 6, 27, 16, 42, 41, 33, 29, 42, 35, 34, 7, 34, 8, 4, 48, 11, 15, 51, 15, 25]\n",
      "[46, 51, 14, 20, 35, 34, 13, 21, 43, 29, 4, 25, 4, 41, 44, 6, 27, 16, 42, 41, 33, 29, 42, 35, 34, 7, 34, 8, 4, 48, 11, 15, 51, 15, 25, 11]\n",
      "[46, 51, 14, 20, 35, 34, 13, 21, 43, 29, 4, 25, 4, 41, 44, 6, 27, 16, 42, 41, 33, 29, 42, 35, 34, 7, 34, 8, 4, 48, 11, 15, 51, 15, 25, 11, 52]\n",
      "[46, 51, 14, 20, 35, 34, 13, 21, 43, 29, 4, 25, 4, 41, 44, 6, 27, 16, 42, 41, 33, 29, 42, 35, 34, 7, 34, 8, 4, 48, 11, 15, 51, 15, 25, 11, 52, 8]\n",
      "[46, 51, 14, 20, 35, 34, 13, 21, 43, 29, 4, 25, 4, 41, 44, 6, 27, 16, 42, 41, 33, 29, 42, 35, 34, 7, 34, 8, 4, 48, 11, 15, 51, 15, 25, 11, 52, 8, 42]\n",
      "[46, 51, 14, 20, 35, 34, 13, 21, 43, 29, 4, 25, 4, 41, 44, 6, 27, 16, 42, 41, 33, 29, 42, 35, 34, 7, 34, 8, 4, 48, 11, 15, 51, 15, 25, 11, 52, 8, 42, 40]\n",
      "[46, 51, 14, 20, 35, 34, 13, 21, 43, 29, 4, 25, 4, 41, 44, 6, 27, 16, 42, 41, 33, 29, 42, 35, 34, 7, 34, 8, 4, 48, 11, 15, 51, 15, 25, 11, 52, 8, 42, 40, 49]\n",
      "[46, 51, 14, 20, 35, 34, 13, 21, 43, 29, 4, 25, 4, 41, 44, 6, 27, 16, 42, 41, 33, 29, 42, 35, 34, 7, 34, 8, 4, 48, 11, 15, 51, 15, 25, 11, 52, 8, 42, 40, 49, 50]\n",
      "[46, 51, 14, 20, 35, 34, 13, 21, 43, 29, 4, 25, 4, 41, 44, 6, 27, 16, 42, 41, 33, 29, 42, 35, 34, 7, 34, 8, 4, 48, 11, 15, 51, 15, 25, 11, 52, 8, 42, 40, 49, 50, 51]\n",
      "[46, 51, 14, 20, 35, 34, 13, 21, 43, 29, 4, 25, 4, 41, 44, 6, 27, 16, 42, 41, 33, 29, 42, 35, 34, 7, 34, 8, 4, 48, 11, 15, 51, 15, 25, 11, 52, 8, 42, 40, 49, 50, 51, 37]\n",
      "[46, 51, 14, 20, 35, 34, 13, 21, 43, 29, 4, 25, 4, 41, 44, 6, 27, 16, 42, 41, 33, 29, 42, 35, 34, 7, 34, 8, 4, 48, 11, 15, 51, 15, 25, 11, 52, 8, 42, 40, 49, 50, 51, 37, 16]\n",
      "[46, 51, 14, 20, 35, 34, 13, 21, 43, 29, 4, 25, 4, 41, 44, 6, 27, 16, 42, 41, 33, 29, 42, 35, 34, 7, 34, 8, 4, 48, 11, 15, 51, 15, 25, 11, 52, 8, 42, 40, 49, 50, 51, 37, 16, 21]\n",
      "[46, 51, 14, 20, 35, 34, 13, 21, 43, 29, 4, 25, 4, 41, 44, 6, 27, 16, 42, 41, 33, 29, 42, 35, 34, 7, 34, 8, 4, 48, 11, 15, 51, 15, 25, 11, 52, 8, 42, 40, 49, 50, 51, 37, 16, 21, 48]\n",
      "[46, 51, 14, 20, 35, 34, 13, 21, 43, 29, 4, 25, 4, 41, 44, 6, 27, 16, 42, 41, 33, 29, 42, 35, 34, 7, 34, 8, 4, 48, 11, 15, 51, 15, 25, 11, 52, 8, 42, 40, 49, 50, 51, 37, 16, 21, 48, 20]\n",
      "[46, 51, 14, 20, 35, 34, 13, 21, 43, 29, 4, 25, 4, 41, 44, 6, 27, 16, 42, 41, 33, 29, 42, 35, 34, 7, 34, 8, 4, 48, 11, 15, 51, 15, 25, 11, 52, 8, 42, 40, 49, 50, 51, 37, 16, 21, 48, 20, 48]\n",
      "[46, 51, 14, 20, 35, 34, 13, 21, 43, 29, 4, 25, 4, 41, 44, 6, 27, 16, 42, 41, 33, 29, 42, 35, 34, 7, 34, 8, 4, 48, 11, 15, 51, 15, 25, 11, 52, 8, 42, 40, 49, 50, 51, 37, 16, 21, 48, 20, 48, 1]\n",
      "[46, 51, 14, 20, 35, 34, 13, 21, 43, 29, 4, 25, 4, 41, 44, 6, 27, 16, 42, 41, 33, 29, 42, 35, 34, 7, 34, 8, 4, 48, 11, 15, 51, 15, 25, 11, 52, 8, 42, 40, 49, 50, 51, 37, 16, 21, 48, 20, 48, 1, 32]\n",
      "[46, 51, 14, 20, 35, 34, 13, 21, 43, 29, 4, 25, 4, 41, 44, 6, 27, 16, 42, 41, 33, 29, 42, 35, 34, 7, 34, 8, 4, 48, 11, 15, 51, 15, 25, 11, 52, 8, 42, 40, 49, 50, 51, 37, 16, 21, 48, 20, 48, 1, 32, 30]\n",
      "[46, 51, 14, 20, 35, 34, 13, 21, 43, 29, 4, 25, 4, 41, 44, 6, 27, 16, 42, 41, 33, 29, 42, 35, 34, 7, 34, 8, 4, 48, 11, 15, 51, 15, 25, 11, 52, 8, 42, 40, 49, 50, 51, 37, 16, 21, 48, 20, 48, 1, 32, 30, 23]\n",
      "[46, 51, 14, 20, 35, 34, 13, 21, 43, 29, 4, 25, 4, 41, 44, 6, 27, 16, 42, 41, 33, 29, 42, 35, 34, 7, 34, 8, 4, 48, 11, 15, 51, 15, 25, 11, 52, 8, 42, 40, 49, 50, 51, 37, 16, 21, 48, 20, 48, 1, 32, 30, 23, 45]\n",
      "[46, 51, 14, 20, 35, 34, 13, 21, 43, 29, 4, 25, 4, 41, 44, 6, 27, 16, 42, 41, 33, 29, 42, 35, 34, 7, 34, 8, 4, 48, 11, 15, 51, 15, 25, 11, 52, 8, 42, 40, 49, 50, 51, 37, 16, 21, 48, 20, 48, 1, 32, 30, 23, 45, 4]\n",
      "[46, 51, 14, 20, 35, 34, 13, 21, 43, 29, 4, 25, 4, 41, 44, 6, 27, 16, 42, 41, 33, 29, 42, 35, 34, 7, 34, 8, 4, 48, 11, 15, 51, 15, 25, 11, 52, 8, 42, 40, 49, 50, 51, 37, 16, 21, 48, 20, 48, 1, 32, 30, 23, 45, 4, 38]\n",
      "[46, 51, 14, 20, 35, 34, 13, 21, 43, 29, 4, 25, 4, 41, 44, 6, 27, 16, 42, 41, 33, 29, 42, 35, 34, 7, 34, 8, 4, 48, 11, 15, 51, 15, 25, 11, 52, 8, 42, 40, 49, 50, 51, 37, 16, 21, 48, 20, 48, 1, 32, 30, 23, 45, 4, 38, 6]\n",
      "[46, 51, 14, 20, 35, 34, 13, 21, 43, 29, 4, 25, 4, 41, 44, 6, 27, 16, 42, 41, 33, 29, 42, 35, 34, 7, 34, 8, 4, 48, 11, 15, 51, 15, 25, 11, 52, 8, 42, 40, 49, 50, 51, 37, 16, 21, 48, 20, 48, 1, 32, 30, 23, 45, 4, 38, 6, 31]\n",
      "[46, 51, 14, 20, 35, 34, 13, 21, 43, 29, 4, 25, 4, 41, 44, 6, 27, 16, 42, 41, 33, 29, 42, 35, 34, 7, 34, 8, 4, 48, 11, 15, 51, 15, 25, 11, 52, 8, 42, 40, 49, 50, 51, 37, 16, 21, 48, 20, 48, 1, 32, 30, 23, 45, 4, 38, 6, 31, 20]\n",
      "[46, 51, 14, 20, 35, 34, 13, 21, 43, 29, 4, 25, 4, 41, 44, 6, 27, 16, 42, 41, 33, 29, 42, 35, 34, 7, 34, 8, 4, 48, 11, 15, 51, 15, 25, 11, 52, 8, 42, 40, 49, 50, 51, 37, 16, 21, 48, 20, 48, 1, 32, 30, 23, 45, 4, 38, 6, 31, 20, 10]\n",
      "[46, 51, 14, 20, 35, 34, 13, 21, 43, 29, 4, 25, 4, 41, 44, 6, 27, 16, 42, 41, 33, 29, 42, 35, 34, 7, 34, 8, 4, 48, 11, 15, 51, 15, 25, 11, 52, 8, 42, 40, 49, 50, 51, 37, 16, 21, 48, 20, 48, 1, 32, 30, 23, 45, 4, 38, 6, 31, 20, 10, 5]\n",
      "[46, 51, 14, 20, 35, 34, 13, 21, 43, 29, 4, 25, 4, 41, 44, 6, 27, 16, 42, 41, 33, 29, 42, 35, 34, 7, 34, 8, 4, 48, 11, 15, 51, 15, 25, 11, 52, 8, 42, 40, 49, 50, 51, 37, 16, 21, 48, 20, 48, 1, 32, 30, 23, 45, 4, 38, 6, 31, 20, 10, 5, 37]\n",
      "[46, 51, 14, 20, 35, 34, 13, 21, 43, 29, 4, 25, 4, 41, 44, 6, 27, 16, 42, 41, 33, 29, 42, 35, 34, 7, 34, 8, 4, 48, 11, 15, 51, 15, 25, 11, 52, 8, 42, 40, 49, 50, 51, 37, 16, 21, 48, 20, 48, 1, 32, 30, 23, 45, 4, 38, 6, 31, 20, 10, 5, 37, 37]\n",
      "[46, 51, 14, 20, 35, 34, 13, 21, 43, 29, 4, 25, 4, 41, 44, 6, 27, 16, 42, 41, 33, 29, 42, 35, 34, 7, 34, 8, 4, 48, 11, 15, 51, 15, 25, 11, 52, 8, 42, 40, 49, 50, 51, 37, 16, 21, 48, 20, 48, 1, 32, 30, 23, 45, 4, 38, 6, 31, 20, 10, 5, 37, 37, 40]\n",
      "[46, 51, 14, 20, 35, 34, 13, 21, 43, 29, 4, 25, 4, 41, 44, 6, 27, 16, 42, 41, 33, 29, 42, 35, 34, 7, 34, 8, 4, 48, 11, 15, 51, 15, 25, 11, 52, 8, 42, 40, 49, 50, 51, 37, 16, 21, 48, 20, 48, 1, 32, 30, 23, 45, 4, 38, 6, 31, 20, 10, 5, 37, 37, 40, 47]\n"
     ]
    },
    {
     "name": "stdout",
     "output_type": "stream",
     "text": [
      "[46, 51, 14, 20, 35, 34, 13, 21, 43, 29, 4, 25, 4, 41, 44, 6, 27, 16, 42, 41, 33, 29, 42, 35, 34, 7, 34, 8, 4, 48, 11, 15, 51, 15, 25, 11, 52, 8, 42, 40, 49, 50, 51, 37, 16, 21, 48, 20, 48, 1, 32, 30, 23, 45, 4, 38, 6, 31, 20, 10, 5, 37, 37, 40, 47, 21]\n",
      "[46, 51, 14, 20, 35, 34, 13, 21, 43, 29, 4, 25, 4, 41, 44, 6, 27, 16, 42, 41, 33, 29, 42, 35, 34, 7, 34, 8, 4, 48, 11, 15, 51, 15, 25, 11, 52, 8, 42, 40, 49, 50, 51, 37, 16, 21, 48, 20, 48, 1, 32, 30, 23, 45, 4, 38, 6, 31, 20, 10, 5, 37, 37, 40, 47, 21, 16]\n",
      "[46, 51, 14, 20, 35, 34, 13, 21, 43, 29, 4, 25, 4, 41, 44, 6, 27, 16, 42, 41, 33, 29, 42, 35, 34, 7, 34, 8, 4, 48, 11, 15, 51, 15, 25, 11, 52, 8, 42, 40, 49, 50, 51, 37, 16, 21, 48, 20, 48, 1, 32, 30, 23, 45, 4, 38, 6, 31, 20, 10, 5, 37, 37, 40, 47, 21, 16, 9]\n",
      "[46, 51, 14, 20, 35, 34, 13, 21, 43, 29, 4, 25, 4, 41, 44, 6, 27, 16, 42, 41, 33, 29, 42, 35, 34, 7, 34, 8, 4, 48, 11, 15, 51, 15, 25, 11, 52, 8, 42, 40, 49, 50, 51, 37, 16, 21, 48, 20, 48, 1, 32, 30, 23, 45, 4, 38, 6, 31, 20, 10, 5, 37, 37, 40, 47, 21, 16, 9, 1]\n",
      "[46, 51, 14, 20, 35, 34, 13, 21, 43, 29, 4, 25, 4, 41, 44, 6, 27, 16, 42, 41, 33, 29, 42, 35, 34, 7, 34, 8, 4, 48, 11, 15, 51, 15, 25, 11, 52, 8, 42, 40, 49, 50, 51, 37, 16, 21, 48, 20, 48, 1, 32, 30, 23, 45, 4, 38, 6, 31, 20, 10, 5, 37, 37, 40, 47, 21, 16, 9, 1, 15]\n",
      "[46, 51, 14, 20, 35, 34, 13, 21, 43, 29, 4, 25, 4, 41, 44, 6, 27, 16, 42, 41, 33, 29, 42, 35, 34, 7, 34, 8, 4, 48, 11, 15, 51, 15, 25, 11, 52, 8, 42, 40, 49, 50, 51, 37, 16, 21, 48, 20, 48, 1, 32, 30, 23, 45, 4, 38, 6, 31, 20, 10, 5, 37, 37, 40, 47, 21, 16, 9, 1, 15, 8]\n",
      "[46, 51, 14, 20, 35, 34, 13, 21, 43, 29, 4, 25, 4, 41, 44, 6, 27, 16, 42, 41, 33, 29, 42, 35, 34, 7, 34, 8, 4, 48, 11, 15, 51, 15, 25, 11, 52, 8, 42, 40, 49, 50, 51, 37, 16, 21, 48, 20, 48, 1, 32, 30, 23, 45, 4, 38, 6, 31, 20, 10, 5, 37, 37, 40, 47, 21, 16, 9, 1, 15, 8, 42]\n",
      "[46, 51, 14, 20, 35, 34, 13, 21, 43, 29, 4, 25, 4, 41, 44, 6, 27, 16, 42, 41, 33, 29, 42, 35, 34, 7, 34, 8, 4, 48, 11, 15, 51, 15, 25, 11, 52, 8, 42, 40, 49, 50, 51, 37, 16, 21, 48, 20, 48, 1, 32, 30, 23, 45, 4, 38, 6, 31, 20, 10, 5, 37, 37, 40, 47, 21, 16, 9, 1, 15, 8, 42, 36]\n",
      "[46, 51, 14, 20, 35, 34, 13, 21, 43, 29, 4, 25, 4, 41, 44, 6, 27, 16, 42, 41, 33, 29, 42, 35, 34, 7, 34, 8, 4, 48, 11, 15, 51, 15, 25, 11, 52, 8, 42, 40, 49, 50, 51, 37, 16, 21, 48, 20, 48, 1, 32, 30, 23, 45, 4, 38, 6, 31, 20, 10, 5, 37, 37, 40, 47, 21, 16, 9, 1, 15, 8, 42, 36, 32]\n",
      "[46, 51, 14, 20, 35, 34, 13, 21, 43, 29, 4, 25, 4, 41, 44, 6, 27, 16, 42, 41, 33, 29, 42, 35, 34, 7, 34, 8, 4, 48, 11, 15, 51, 15, 25, 11, 52, 8, 42, 40, 49, 50, 51, 37, 16, 21, 48, 20, 48, 1, 32, 30, 23, 45, 4, 38, 6, 31, 20, 10, 5, 37, 37, 40, 47, 21, 16, 9, 1, 15, 8, 42, 36, 32, 29]\n",
      "[46, 51, 14, 20, 35, 34, 13, 21, 43, 29, 4, 25, 4, 41, 44, 6, 27, 16, 42, 41, 33, 29, 42, 35, 34, 7, 34, 8, 4, 48, 11, 15, 51, 15, 25, 11, 52, 8, 42, 40, 49, 50, 51, 37, 16, 21, 48, 20, 48, 1, 32, 30, 23, 45, 4, 38, 6, 31, 20, 10, 5, 37, 37, 40, 47, 21, 16, 9, 1, 15, 8, 42, 36, 32, 29, 27]\n",
      "[46, 51, 14, 20, 35, 34, 13, 21, 43, 29, 4, 25, 4, 41, 44, 6, 27, 16, 42, 41, 33, 29, 42, 35, 34, 7, 34, 8, 4, 48, 11, 15, 51, 15, 25, 11, 52, 8, 42, 40, 49, 50, 51, 37, 16, 21, 48, 20, 48, 1, 32, 30, 23, 45, 4, 38, 6, 31, 20, 10, 5, 37, 37, 40, 47, 21, 16, 9, 1, 15, 8, 42, 36, 32, 29, 27, 39]\n",
      "[46, 51, 14, 20, 35, 34, 13, 21, 43, 29, 4, 25, 4, 41, 44, 6, 27, 16, 42, 41, 33, 29, 42, 35, 34, 7, 34, 8, 4, 48, 11, 15, 51, 15, 25, 11, 52, 8, 42, 40, 49, 50, 51, 37, 16, 21, 48, 20, 48, 1, 32, 30, 23, 45, 4, 38, 6, 31, 20, 10, 5, 37, 37, 40, 47, 21, 16, 9, 1, 15, 8, 42, 36, 32, 29, 27, 39, 12]\n",
      "[46, 51, 14, 20, 35, 34, 13, 21, 43, 29, 4, 25, 4, 41, 44, 6, 27, 16, 42, 41, 33, 29, 42, 35, 34, 7, 34, 8, 4, 48, 11, 15, 51, 15, 25, 11, 52, 8, 42, 40, 49, 50, 51, 37, 16, 21, 48, 20, 48, 1, 32, 30, 23, 45, 4, 38, 6, 31, 20, 10, 5, 37, 37, 40, 47, 21, 16, 9, 1, 15, 8, 42, 36, 32, 29, 27, 39, 12, 29]\n",
      "[46, 51, 14, 20, 35, 34, 13, 21, 43, 29, 4, 25, 4, 41, 44, 6, 27, 16, 42, 41, 33, 29, 42, 35, 34, 7, 34, 8, 4, 48, 11, 15, 51, 15, 25, 11, 52, 8, 42, 40, 49, 50, 51, 37, 16, 21, 48, 20, 48, 1, 32, 30, 23, 45, 4, 38, 6, 31, 20, 10, 5, 37, 37, 40, 47, 21, 16, 9, 1, 15, 8, 42, 36, 32, 29, 27, 39, 12, 29, 26]\n",
      "[46, 51, 14, 20, 35, 34, 13, 21, 43, 29, 4, 25, 4, 41, 44, 6, 27, 16, 42, 41, 33, 29, 42, 35, 34, 7, 34, 8, 4, 48, 11, 15, 51, 15, 25, 11, 52, 8, 42, 40, 49, 50, 51, 37, 16, 21, 48, 20, 48, 1, 32, 30, 23, 45, 4, 38, 6, 31, 20, 10, 5, 37, 37, 40, 47, 21, 16, 9, 1, 15, 8, 42, 36, 32, 29, 27, 39, 12, 29, 26, 31]\n",
      "[46, 51, 14, 20, 35, 34, 13, 21, 43, 29, 4, 25, 4, 41, 44, 6, 27, 16, 42, 41, 33, 29, 42, 35, 34, 7, 34, 8, 4, 48, 11, 15, 51, 15, 25, 11, 52, 8, 42, 40, 49, 50, 51, 37, 16, 21, 48, 20, 48, 1, 32, 30, 23, 45, 4, 38, 6, 31, 20, 10, 5, 37, 37, 40, 47, 21, 16, 9, 1, 15, 8, 42, 36, 32, 29, 27, 39, 12, 29, 26, 31, 21]\n",
      "[46, 51, 14, 20, 35, 34, 13, 21, 43, 29, 4, 25, 4, 41, 44, 6, 27, 16, 42, 41, 33, 29, 42, 35, 34, 7, 34, 8, 4, 48, 11, 15, 51, 15, 25, 11, 52, 8, 42, 40, 49, 50, 51, 37, 16, 21, 48, 20, 48, 1, 32, 30, 23, 45, 4, 38, 6, 31, 20, 10, 5, 37, 37, 40, 47, 21, 16, 9, 1, 15, 8, 42, 36, 32, 29, 27, 39, 12, 29, 26, 31, 21, 6]\n",
      "[46, 51, 14, 20, 35, 34, 13, 21, 43, 29, 4, 25, 4, 41, 44, 6, 27, 16, 42, 41, 33, 29, 42, 35, 34, 7, 34, 8, 4, 48, 11, 15, 51, 15, 25, 11, 52, 8, 42, 40, 49, 50, 51, 37, 16, 21, 48, 20, 48, 1, 32, 30, 23, 45, 4, 38, 6, 31, 20, 10, 5, 37, 37, 40, 47, 21, 16, 9, 1, 15, 8, 42, 36, 32, 29, 27, 39, 12, 29, 26, 31, 21, 6, 40]\n",
      "[46, 51, 14, 20, 35, 34, 13, 21, 43, 29, 4, 25, 4, 41, 44, 6, 27, 16, 42, 41, 33, 29, 42, 35, 34, 7, 34, 8, 4, 48, 11, 15, 51, 15, 25, 11, 52, 8, 42, 40, 49, 50, 51, 37, 16, 21, 48, 20, 48, 1, 32, 30, 23, 45, 4, 38, 6, 31, 20, 10, 5, 37, 37, 40, 47, 21, 16, 9, 1, 15, 8, 42, 36, 32, 29, 27, 39, 12, 29, 26, 31, 21, 6, 40, 51]\n",
      "[46, 51, 14, 20, 35, 34, 13, 21, 43, 29, 4, 25, 4, 41, 44, 6, 27, 16, 42, 41, 33, 29, 42, 35, 34, 7, 34, 8, 4, 48, 11, 15, 51, 15, 25, 11, 52, 8, 42, 40, 49, 50, 51, 37, 16, 21, 48, 20, 48, 1, 32, 30, 23, 45, 4, 38, 6, 31, 20, 10, 5, 37, 37, 40, 47, 21, 16, 9, 1, 15, 8, 42, 36, 32, 29, 27, 39, 12, 29, 26, 31, 21, 6, 40, 51, 11]\n",
      "[46, 51, 14, 20, 35, 34, 13, 21, 43, 29, 4, 25, 4, 41, 44, 6, 27, 16, 42, 41, 33, 29, 42, 35, 34, 7, 34, 8, 4, 48, 11, 15, 51, 15, 25, 11, 52, 8, 42, 40, 49, 50, 51, 37, 16, 21, 48, 20, 48, 1, 32, 30, 23, 45, 4, 38, 6, 31, 20, 10, 5, 37, 37, 40, 47, 21, 16, 9, 1, 15, 8, 42, 36, 32, 29, 27, 39, 12, 29, 26, 31, 21, 6, 40, 51, 11, 33]\n",
      "[46, 51, 14, 20, 35, 34, 13, 21, 43, 29, 4, 25, 4, 41, 44, 6, 27, 16, 42, 41, 33, 29, 42, 35, 34, 7, 34, 8, 4, 48, 11, 15, 51, 15, 25, 11, 52, 8, 42, 40, 49, 50, 51, 37, 16, 21, 48, 20, 48, 1, 32, 30, 23, 45, 4, 38, 6, 31, 20, 10, 5, 37, 37, 40, 47, 21, 16, 9, 1, 15, 8, 42, 36, 32, 29, 27, 39, 12, 29, 26, 31, 21, 6, 40, 51, 11, 33, 32]\n",
      "[46, 51, 14, 20, 35, 34, 13, 21, 43, 29, 4, 25, 4, 41, 44, 6, 27, 16, 42, 41, 33, 29, 42, 35, 34, 7, 34, 8, 4, 48, 11, 15, 51, 15, 25, 11, 52, 8, 42, 40, 49, 50, 51, 37, 16, 21, 48, 20, 48, 1, 32, 30, 23, 45, 4, 38, 6, 31, 20, 10, 5, 37, 37, 40, 47, 21, 16, 9, 1, 15, 8, 42, 36, 32, 29, 27, 39, 12, 29, 26, 31, 21, 6, 40, 51, 11, 33, 32, 30]\n",
      "[46, 51, 14, 20, 35, 34, 13, 21, 43, 29, 4, 25, 4, 41, 44, 6, 27, 16, 42, 41, 33, 29, 42, 35, 34, 7, 34, 8, 4, 48, 11, 15, 51, 15, 25, 11, 52, 8, 42, 40, 49, 50, 51, 37, 16, 21, 48, 20, 48, 1, 32, 30, 23, 45, 4, 38, 6, 31, 20, 10, 5, 37, 37, 40, 47, 21, 16, 9, 1, 15, 8, 42, 36, 32, 29, 27, 39, 12, 29, 26, 31, 21, 6, 40, 51, 11, 33, 32, 30, 34]\n",
      "[46, 51, 14, 20, 35, 34, 13, 21, 43, 29, 4, 25, 4, 41, 44, 6, 27, 16, 42, 41, 33, 29, 42, 35, 34, 7, 34, 8, 4, 48, 11, 15, 51, 15, 25, 11, 52, 8, 42, 40, 49, 50, 51, 37, 16, 21, 48, 20, 48, 1, 32, 30, 23, 45, 4, 38, 6, 31, 20, 10, 5, 37, 37, 40, 47, 21, 16, 9, 1, 15, 8, 42, 36, 32, 29, 27, 39, 12, 29, 26, 31, 21, 6, 40, 51, 11, 33, 32, 30, 34, 38]\n",
      "[46, 51, 14, 20, 35, 34, 13, 21, 43, 29, 4, 25, 4, 41, 44, 6, 27, 16, 42, 41, 33, 29, 42, 35, 34, 7, 34, 8, 4, 48, 11, 15, 51, 15, 25, 11, 52, 8, 42, 40, 49, 50, 51, 37, 16, 21, 48, 20, 48, 1, 32, 30, 23, 45, 4, 38, 6, 31, 20, 10, 5, 37, 37, 40, 47, 21, 16, 9, 1, 15, 8, 42, 36, 32, 29, 27, 39, 12, 29, 26, 31, 21, 6, 40, 51, 11, 33, 32, 30, 34, 38, 41]\n",
      "[46, 51, 14, 20, 35, 34, 13, 21, 43, 29, 4, 25, 4, 41, 44, 6, 27, 16, 42, 41, 33, 29, 42, 35, 34, 7, 34, 8, 4, 48, 11, 15, 51, 15, 25, 11, 52, 8, 42, 40, 49, 50, 51, 37, 16, 21, 48, 20, 48, 1, 32, 30, 23, 45, 4, 38, 6, 31, 20, 10, 5, 37, 37, 40, 47, 21, 16, 9, 1, 15, 8, 42, 36, 32, 29, 27, 39, 12, 29, 26, 31, 21, 6, 40, 51, 11, 33, 32, 30, 34, 38, 41, 49]\n"
     ]
    },
    {
     "name": "stdout",
     "output_type": "stream",
     "text": [
      "[46, 51, 14, 20, 35, 34, 13, 21, 43, 29, 4, 25, 4, 41, 44, 6, 27, 16, 42, 41, 33, 29, 42, 35, 34, 7, 34, 8, 4, 48, 11, 15, 51, 15, 25, 11, 52, 8, 42, 40, 49, 50, 51, 37, 16, 21, 48, 20, 48, 1, 32, 30, 23, 45, 4, 38, 6, 31, 20, 10, 5, 37, 37, 40, 47, 21, 16, 9, 1, 15, 8, 42, 36, 32, 29, 27, 39, 12, 29, 26, 31, 21, 6, 40, 51, 11, 33, 32, 30, 34, 38, 41, 49, 31]\n",
      "[46, 51, 14, 20, 35, 34, 13, 21, 43, 29, 4, 25, 4, 41, 44, 6, 27, 16, 42, 41, 33, 29, 42, 35, 34, 7, 34, 8, 4, 48, 11, 15, 51, 15, 25, 11, 52, 8, 42, 40, 49, 50, 51, 37, 16, 21, 48, 20, 48, 1, 32, 30, 23, 45, 4, 38, 6, 31, 20, 10, 5, 37, 37, 40, 47, 21, 16, 9, 1, 15, 8, 42, 36, 32, 29, 27, 39, 12, 29, 26, 31, 21, 6, 40, 51, 11, 33, 32, 30, 34, 38, 41, 49, 31, 24]\n",
      "[46, 51, 14, 20, 35, 34, 13, 21, 43, 29, 4, 25, 4, 41, 44, 6, 27, 16, 42, 41, 33, 29, 42, 35, 34, 7, 34, 8, 4, 48, 11, 15, 51, 15, 25, 11, 52, 8, 42, 40, 49, 50, 51, 37, 16, 21, 48, 20, 48, 1, 32, 30, 23, 45, 4, 38, 6, 31, 20, 10, 5, 37, 37, 40, 47, 21, 16, 9, 1, 15, 8, 42, 36, 32, 29, 27, 39, 12, 29, 26, 31, 21, 6, 40, 51, 11, 33, 32, 30, 34, 38, 41, 49, 31, 24, 12]\n",
      "[46, 51, 14, 20, 35, 34, 13, 21, 43, 29, 4, 25, 4, 41, 44, 6, 27, 16, 42, 41, 33, 29, 42, 35, 34, 7, 34, 8, 4, 48, 11, 15, 51, 15, 25, 11, 52, 8, 42, 40, 49, 50, 51, 37, 16, 21, 48, 20, 48, 1, 32, 30, 23, 45, 4, 38, 6, 31, 20, 10, 5, 37, 37, 40, 47, 21, 16, 9, 1, 15, 8, 42, 36, 32, 29, 27, 39, 12, 29, 26, 31, 21, 6, 40, 51, 11, 33, 32, 30, 34, 38, 41, 49, 31, 24, 12, 10]\n",
      "[46, 51, 14, 20, 35, 34, 13, 21, 43, 29, 4, 25, 4, 41, 44, 6, 27, 16, 42, 41, 33, 29, 42, 35, 34, 7, 34, 8, 4, 48, 11, 15, 51, 15, 25, 11, 52, 8, 42, 40, 49, 50, 51, 37, 16, 21, 48, 20, 48, 1, 32, 30, 23, 45, 4, 38, 6, 31, 20, 10, 5, 37, 37, 40, 47, 21, 16, 9, 1, 15, 8, 42, 36, 32, 29, 27, 39, 12, 29, 26, 31, 21, 6, 40, 51, 11, 33, 32, 30, 34, 38, 41, 49, 31, 24, 12, 10, 45]\n",
      "[46, 51, 14, 20, 35, 34, 13, 21, 43, 29, 4, 25, 4, 41, 44, 6, 27, 16, 42, 41, 33, 29, 42, 35, 34, 7, 34, 8, 4, 48, 11, 15, 51, 15, 25, 11, 52, 8, 42, 40, 49, 50, 51, 37, 16, 21, 48, 20, 48, 1, 32, 30, 23, 45, 4, 38, 6, 31, 20, 10, 5, 37, 37, 40, 47, 21, 16, 9, 1, 15, 8, 42, 36, 32, 29, 27, 39, 12, 29, 26, 31, 21, 6, 40, 51, 11, 33, 32, 30, 34, 38, 41, 49, 31, 24, 12, 10, 45, 5]\n",
      "[46, 51, 14, 20, 35, 34, 13, 21, 43, 29, 4, 25, 4, 41, 44, 6, 27, 16, 42, 41, 33, 29, 42, 35, 34, 7, 34, 8, 4, 48, 11, 15, 51, 15, 25, 11, 52, 8, 42, 40, 49, 50, 51, 37, 16, 21, 48, 20, 48, 1, 32, 30, 23, 45, 4, 38, 6, 31, 20, 10, 5, 37, 37, 40, 47, 21, 16, 9, 1, 15, 8, 42, 36, 32, 29, 27, 39, 12, 29, 26, 31, 21, 6, 40, 51, 11, 33, 32, 30, 34, 38, 41, 49, 31, 24, 12, 10, 45, 5, 29]\n",
      "[46, 51, 14, 20, 35, 34, 13, 21, 43, 29, 4, 25, 4, 41, 44, 6, 27, 16, 42, 41, 33, 29, 42, 35, 34, 7, 34, 8, 4, 48, 11, 15, 51, 15, 25, 11, 52, 8, 42, 40, 49, 50, 51, 37, 16, 21, 48, 20, 48, 1, 32, 30, 23, 45, 4, 38, 6, 31, 20, 10, 5, 37, 37, 40, 47, 21, 16, 9, 1, 15, 8, 42, 36, 32, 29, 27, 39, 12, 29, 26, 31, 21, 6, 40, 51, 11, 33, 32, 30, 34, 38, 41, 49, 31, 24, 12, 10, 45, 5, 29, 39]\n",
      "[46, 51, 14, 20, 35, 34, 13, 21, 43, 29, 4, 25, 4, 41, 44, 6, 27, 16, 42, 41, 33, 29, 42, 35, 34, 7, 34, 8, 4, 48, 11, 15, 51, 15, 25, 11, 52, 8, 42, 40, 49, 50, 51, 37, 16, 21, 48, 20, 48, 1, 32, 30, 23, 45, 4, 38, 6, 31, 20, 10, 5, 37, 37, 40, 47, 21, 16, 9, 1, 15, 8, 42, 36, 32, 29, 27, 39, 12, 29, 26, 31, 21, 6, 40, 51, 11, 33, 32, 30, 34, 38, 41, 49, 31, 24, 12, 10, 45, 5, 29, 39, 21]\n",
      "[46, 51, 14, 20, 35, 34, 13, 21, 43, 29, 4, 25, 4, 41, 44, 6, 27, 16, 42, 41, 33, 29, 42, 35, 34, 7, 34, 8, 4, 48, 11, 15, 51, 15, 25, 11, 52, 8, 42, 40, 49, 50, 51, 37, 16, 21, 48, 20, 48, 1, 32, 30, 23, 45, 4, 38, 6, 31, 20, 10, 5, 37, 37, 40, 47, 21, 16, 9, 1, 15, 8, 42, 36, 32, 29, 27, 39, 12, 29, 26, 31, 21, 6, 40, 51, 11, 33, 32, 30, 34, 38, 41, 49, 31, 24, 12, 10, 45, 5, 29, 39, 21, 50]\n",
      "[46, 51, 14, 20, 35, 34, 13, 21, 43, 29, 4, 25, 4, 41, 44, 6, 27, 16, 42, 41, 33, 29, 42, 35, 34, 7, 34, 8, 4, 48, 11, 15, 51, 15, 25, 11, 52, 8, 42, 40, 49, 50, 51, 37, 16, 21, 48, 20, 48, 1, 32, 30, 23, 45, 4, 38, 6, 31, 20, 10, 5, 37, 37, 40, 47, 21, 16, 9, 1, 15, 8, 42, 36, 32, 29, 27, 39, 12, 29, 26, 31, 21, 6, 40, 51, 11, 33, 32, 30, 34, 38, 41, 49, 31, 24, 12, 10, 45, 5, 29, 39, 21, 50, 13]\n"
     ]
    }
   ],
   "source": [
    "# average\n",
    "\n",
    "avg_error = []\n",
    "test_results_ensemble = []\n",
    "\n",
    "for i in range(len(test_data[0])):\n",
    "    NN_class = []\n",
    "    post_distribution = [] # each column vector contains posterior distribution of each model\n",
    "    \n",
    "    for j in range(T):\n",
    "        post_distribution.append(lda_rand_subspace(R[j],test_data[:,i])) # perform lda on each subspaces learnt\n",
    "        NN_class.append(np.argmin(post_distribution[j]) + 1)\n",
    "        \n",
    "    index = np.argmin(sum(post_distribution) / T) + 1\n",
    "    test_results_ensemble.append(index)\n",
    "    avg_error.append(np.count_nonzero(NN_class -  true_results[i] != 0) / len(NN_class))\n",
    "    print(test_results_ensemble)"
   ]
  },
  {
   "cell_type": "code",
   "execution_count": 45,
   "metadata": {},
   "outputs": [
    {
     "name": "stdout",
     "output_type": "stream",
     "text": [
      "0.18269230769230768\n",
      "0.39903846153846156\n",
      "0.8173076923076923\n"
     ]
    },
    {
     "data": {
      "image/png": "[encoded data removed]",
      "text/plain": [
       "<Figure size 480x480 with 2 Axes>"
      ]
     },
     "metadata": {},
     "output_type": "display_data"
    }
   ],
   "source": [
    "results_error = test_results_ensemble - true_results\n",
    "\n",
    "error_rate = np.count_nonzero(results_error != 0) / len(results_error)\n",
    "success_rate = np.count_nonzero(results_error == 0) / len(results_error)\n",
    "print(error_rate)\n",
    "print(np.mean(avg_error))\n",
    "print(success_rate)\n",
    "\n",
    "cm = confusion_matrix(true_results, test_results_ensemble)\n",
    "\n",
    "#print(cm)\n",
    "plt.matshow(cm, cmap = 'Blues')\n",
    "plt.colorbar()\n",
    "plt.ylabel('Actual')\n",
    "plt.xlabel('Predicted')\n",
    "plt.show()\n"
   ]
  },
  {
   "cell_type": "code",
   "execution_count": 43,
   "metadata": {},
   "outputs": [],
   "source": [
    "test_results_ensemble = [46, 51, 14, 20, 35, 34, 13, 21, 43, 29, 4, 25, 4, 41, 44, 6, 27, 16, 42, 41, 33, 29, 42, 35, 34, 7, 34, 8, 4, 48, 11, 15, 51, 15, 25, 11, 52, 8, 42, 40, 49, 50, 51, 37, 16, 21, 48, 20, 48, 1, 32, 30, 23, 45, 4, 38, 6, 31, 20, 10, 5, 37, 37, 40, 47, 21, 16, 9, 1, 15, 8, 42, 36, 32, 29, 27, 39, 12, 29, 26, 31, 21, 6, 40, 51, 11, 33, 32, 30, 34, 38, 41, 49, 31, 24, 12, 10, 45, 5, 29, 39, 21, 50, 13]"
   ]
  },
  {
   "cell_type": "code",
   "execution_count": 33,
   "metadata": {},
   "outputs": [
    {
     "data": {
      "image/png": "[encoded data removed]",
      "text/plain": [
       "<Figure size 640x480 with 1 Axes>"
      ]
     },
     "metadata": {},
     "output_type": "display_data"
    }
   ],
   "source": [
    "import matplotlib.pyplot as plt; plt.rcdefaults()\n",
    "import numpy as np\n",
    "import matplotlib.pyplot as plt\n",
    "\n",
    "objects = ()\n",
    "for i in range(52):\n",
    "    objects += (i+1,)\n",
    "y_pos = np.arange(len(objects))\n",
    "performance = post_distribution[0].reshape(52,)\n",
    " \n",
    "plt.bar(y_pos, performance, align='center', alpha=0.5)\n",
    "#plt.xticks(y_pos, objects)\n",
    "plt.xlabel('Class index (class label -1)')\n",
    "plt.ylabel('Probability')\n",
    "plt.title('Posterior distribution')\n",
    " \n",
    "plt.show()"
   ]
  },
  {
   "cell_type": "code",
   "execution_count": 34,
   "metadata": {},
   "outputs": [
    {
     "name": "stdout",
     "output_type": "stream",
     "text": [
      "[46]\n"
     ]
    }
   ],
   "source": [
    "def product(l):\n",
    "    p = 1\n",
    "    for i in l:\n",
    "        p = p*i\n",
    "    return p\n",
    "\n",
    "# product\n",
    "\n",
    "test_results_ensemble = []\n",
    "for i in range(1):\n",
    "    post_distribution = [] # each column vector contains posterior distribution of each model\n",
    "    \n",
    "    for j in range(T):\n",
    "        post_distribution.append(lda_rand_subspace(R[j],test_data[:,i])) # perform lda on each subspaces learnt\n",
    "\n",
    "    index = np.argmin(product(post_distribution) / T) + 1\n",
    "    test_results_ensemble.append(index)\n",
    "    print(test_results_ensemble)"
   ]
  },
  {
   "cell_type": "code",
   "execution_count": 35,
   "metadata": {},
   "outputs": [
    {
     "data": {
      "image/png": "[encoded data removed]",
      "text/plain": [
       "<Figure size 640x480 with 1 Axes>"
      ]
     },
     "metadata": {},
     "output_type": "display_data"
    }
   ],
   "source": [
    "import matplotlib.pyplot as plt; plt.rcdefaults()\n",
    "import numpy as np\n",
    "import matplotlib.pyplot as plt\n",
    "\n",
    "objects = ()\n",
    "for i in range(52):\n",
    "    objects += (i+1,)\n",
    "y_pos = np.arange(len(objects))\n",
    "performance = ((product(post_distribution) / T).reshape(52,))*1e16\n",
    " \n",
    "plt.bar(y_pos, performance, align='center', alpha=0.5)\n",
    "#plt.xticks(y_pos, objects)\n",
    "plt.xlabel('Class index (class label -1)')\n",
    "plt.ylabel('Probability')\n",
    "plt.title('Posterior distribution')\n",
    " \n",
    "plt.show()"
   ]
  },
  {
   "cell_type": "code",
   "execution_count": null,
   "metadata": {},
   "outputs": [],
   "source": []
  }
 ],
 "metadata": {
  "kernelspec": {
   "display_name": "Python 3",
   "language": "python",
   "name": "python3"
  },
  "language_info": {
   "codemirror_mode": {
    "name": "ipython",
    "version": 3
   },
   "file_extension": ".py",
   "mimetype": "text/x-python",
   "name": "python",
   "nbconvert_exporter": "python",
   "pygments_lexer": "ipython3",
   "version": "3.6.5"
  }
 },
 "nbformat": 4,
 "nbformat_minor": 2
}
